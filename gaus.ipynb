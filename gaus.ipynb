{
 "cells": [
  {
   "cell_type": "markdown",
   "metadata": {},
   "source": [
    "Разрешение СЛАУ с трёх диагональной матрицой и ненулевыми главными минорами."
   ]
  },
  {
   "cell_type": "code",
   "execution_count": 99,
   "metadata": {},
   "outputs": [],
   "source": [
    "import numpy as np"
   ]
  },
  {
   "cell_type": "code",
   "execution_count": 100,
   "metadata": {},
   "outputs": [],
   "source": [
    "def sol(m, b):\n",
    "    a = m.copy() #Чтобы не трогать переданный массив\n",
    "    for i in range(a.shape[0]-1):\n",
    "        u = np.argmax(np.abs(a[i:,i])) + i #поиск максимального элемента в текущем столбце\n",
    "        sec_a = a[i].copy()\n",
    "        sec_b = b[i].copy()\n",
    "        a[i] = a[u]\n",
    "        b[i] = b[u]\n",
    "        a[u] = sec_a\n",
    "        b[u] = sec_b\n",
    "        b[i] = b[i]/a[i, i]  \n",
    "        a[i] = a[i]/a[i, i] #Нормировка к ведущему элементу\n",
    "        \n",
    "        gi = a[i+1:,i]\n",
    "        b[i+1:] -= np.tensordot(gi,b[i],axes=0)\n",
    "        a[i+1:] -= np.tensordot(gi,a[i],axes=0)\n",
    "        \n",
    "    b[-1]=b[-1]/a[-1][-1]\n",
    "    a[-1]=a[-1]/a[-1][-1]\n",
    "    ##print(a)\n",
    "    for i in range(a.shape[0]-1, 0, -1):\n",
    "        b[:i] -= np.tensordot(a[:i,i],b[i],axes=0)\n",
    "        a[:i] -= np.tensordot(a[:i,i],a[i],axes=0)\n",
    "    ##print(a)\n",
    "    return b"
   ]
  },
  {
   "cell_type": "markdown",
   "metadata": {},
   "source": [
    "Проверкой будет обращение матрицы"
   ]
  },
  {
   "cell_type": "code",
   "execution_count": 101,
   "metadata": {},
   "outputs": [
    {
     "data": {
      "text/plain": [
       "array([[-1.47600432,  1.89520442,  0.58423286],\n",
       "       [-2.02375432,  2.71059684,  3.93034915],\n",
       "       [ 1.86487964, -1.77960061, -3.79875538]])"
      ]
     },
     "execution_count": 101,
     "metadata": {},
     "output_type": "execute_result"
    }
   ],
   "source": [
    "m = np.random.uniform(-5, 5, (3,3))\n",
    "m"
   ]
  },
  {
   "cell_type": "code",
   "execution_count": 102,
   "metadata": {
    "scrolled": true
   },
   "outputs": [
    {
     "data": {
      "text/plain": [
       "array([[-0.98682023,  1.84061737,  1.75260986],\n",
       "       [-0.10701157,  1.34988459,  1.38018839],\n",
       "       [-0.43431675,  0.27121368, -0.04943137]])"
      ]
     },
     "execution_count": 102,
     "metadata": {},
     "output_type": "execute_result"
    }
   ],
   "source": [
    "k = sol(m, np.diag(np.ones(3)))\n",
    "k"
   ]
  },
  {
   "cell_type": "code",
   "execution_count": 103,
   "metadata": {},
   "outputs": [
    {
     "data": {
      "text/plain": [
       "array([[ 1.00000000e+00, -3.05311332e-16, -1.00613962e-16],\n",
       "       [ 0.00000000e+00,  1.00000000e+00, -5.82867088e-16],\n",
       "       [ 0.00000000e+00,  2.22044605e-16,  1.00000000e+00]])"
      ]
     },
     "execution_count": 103,
     "metadata": {},
     "output_type": "execute_result"
    }
   ],
   "source": [
    "np.dot(m,k)"
   ]
  },
  {
   "cell_type": "code",
   "execution_count": null,
   "metadata": {},
   "outputs": [],
   "source": []
  }
 ],
 "metadata": {
  "kernelspec": {
   "display_name": "Python 3",
   "language": "python",
   "name": "python3"
  },
  "language_info": {
   "codemirror_mode": {
    "name": "ipython",
    "version": 3
   },
   "file_extension": ".py",
   "mimetype": "text/x-python",
   "name": "python",
   "nbconvert_exporter": "python",
   "pygments_lexer": "ipython3",
   "version": "3.7.1"
  }
 },
 "nbformat": 4,
 "nbformat_minor": 2
}
