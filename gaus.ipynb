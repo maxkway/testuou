{
 "cells": [
  {
   "cell_type": "markdown",
   "metadata": {},
   "source": [
    "Гаус Иванович"
   ]
  },
  {
   "cell_type": "code",
   "execution_count": 113,
   "metadata": {},
   "outputs": [],
   "source": [
    "import numpy as np"
   ]
  },
  {
   "cell_type": "code",
   "execution_count": 143,
   "metadata": {},
   "outputs": [],
   "source": [
    "def sol(m, b):\n",
    "    a = m.copy()                                   #Чтобы не трогать переданный массив\n",
    "    for i in range(a.shape[0]-1):\n",
    "        u = np.argmax(np.abs(a[i:,i])) + i         #поиск максимального элемента в текущем столбце\n",
    "        \n",
    "        sec_b = b[i].copy();    b[i] = b[u]; b[u] = sec_b\n",
    "        sec_a = a[i].copy();    a[i] = a[u]; a[u] = sec_a\n",
    "        \n",
    "        b[i] = b[i]/a[i, i];    a[i] = a[i]/a[i, i] #Нормировка к ведущему элементу\n",
    "        \n",
    "        gi = a[i+1:,i].reshape(-1,1)\n",
    "        b[i+1:] -= b[i] * gi;   a[i+1:] -= a[i] * gi\n",
    "        '''gi = a[i+1:,i]\n",
    "        b[i+1:] -= np.tensordot(gi,b[i],axes=0)     #Да,да -  раньше здесь стояло тензорное умножение\n",
    "        a[i+1:] -= np.tensordot(gi,a[i],axes=0)\n",
    "        '''\n",
    "    b[-1]=b[-1]/a[-1][-1];   a[-1]=a[-1]/a[-1][-1]\n",
    "    for i in range(a.shape[0]-1, 0, -1):\n",
    "        gi = a[:i,i].reshape(-1,1)\n",
    "        b[:i] -= b[i] * gi;     a[:i] -= a[i] * gi\n",
    "    return b"
   ]
  },
  {
   "cell_type": "markdown",
   "metadata": {},
   "source": [
    "Проверкой будет обращение матрицы"
   ]
  },
  {
   "cell_type": "code",
   "execution_count": 145,
   "metadata": {},
   "outputs": [],
   "source": [
    "m = np.random.uniform(-2, 2, (4,4))"
   ]
  },
  {
   "cell_type": "code",
   "execution_count": 147,
   "metadata": {
    "scrolled": true
   },
   "outputs": [
    {
     "name": "stdout",
     "output_type": "stream",
     "text": [
      "275 µs ± 8.1 µs per loop (mean ± std. dev. of 7 runs, 1000 loops each)\n"
     ]
    }
   ],
   "source": [
    "%timeit k = sol(m, np.diag(np.ones(4))) #Это быстрее тензорного умножения"
   ]
  },
  {
   "cell_type": "code",
   "execution_count": 148,
   "metadata": {},
   "outputs": [
    {
     "name": "stdout",
     "output_type": "stream",
     "text": [
      "19.3 µs ± 560 ns per loop (mean ± std. dev. of 7 runs, 10000 loops each)\n"
     ]
    }
   ],
   "source": [
    "%timeit b = np.linalg.inv(m)"
   ]
  },
  {
   "cell_type": "code",
   "execution_count": 150,
   "metadata": {},
   "outputs": [
    {
     "data": {
      "text/plain": [
       "array([[ 1.00000000e+00,  6.93889390e-17, -1.66533454e-16,\n",
       "         2.77555756e-17],\n",
       "       [-2.22044605e-16,  1.00000000e+00, -3.33066907e-16,\n",
       "        -2.22044605e-16],\n",
       "       [-8.32667268e-17,  3.64291930e-17,  1.00000000e+00,\n",
       "        -6.93889390e-17],\n",
       "       [ 1.11022302e-16,  3.46944695e-17, -3.33066907e-16,\n",
       "         1.00000000e+00]])"
      ]
     },
     "execution_count": 150,
     "metadata": {},
     "output_type": "execute_result"
    }
   ],
   "source": [
    "k = sol(m, np.diag(np.ones(4)))\n",
    "np.dot(m,k)"
   ]
  },
  {
   "cell_type": "markdown",
   "metadata": {},
   "source": []
  }
 ],
 "metadata": {
  "kernelspec": {
   "display_name": "Python 3",
   "language": "python",
   "name": "python3"
  },
  "language_info": {
   "codemirror_mode": {
    "name": "ipython",
    "version": 3
   },
   "file_extension": ".py",
   "mimetype": "text/x-python",
   "name": "python",
   "nbconvert_exporter": "python",
   "pygments_lexer": "ipython3",
   "version": "3.7.1"
  }
 },
 "nbformat": 4,
 "nbformat_minor": 2
}
