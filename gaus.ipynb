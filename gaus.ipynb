{
 "cells": [
  {
   "cell_type": "markdown",
   "metadata": {},
   "source": [
    "Гаус Иванович"
   ]
  },
  {
   "cell_type": "code",
   "execution_count": 113,
   "metadata": {},
   "outputs": [],
   "source": [
    "import numpy as np"
   ]
  },
  {
   "cell_type": "code",
   "execution_count": 114,
   "metadata": {},
   "outputs": [],
   "source": [
    "def sol(m, b):\n",
    "    a = m.copy() #Чтобы не трогать переданный массив\n",
    "    for i in range(a.shape[0]-1):\n",
    "        u = np.argmax(np.abs(a[i:,i])) + i #поиск максимального элемента в текущем столбце\n",
    "        sec_a = a[i].copy()\n",
    "        sec_b = b[i].copy()\n",
    "        a[i] = a[u]\n",
    "        b[i] = b[u]\n",
    "        a[u] = sec_a\n",
    "        b[u] = sec_b\n",
    "        b[i] = b[i]/a[i, i]  \n",
    "        a[i] = a[i]/a[i, i] #Нормировка к ведущему элементу\n",
    "        \n",
    "        gi = a[i+1:,i]\n",
    "        b[i+1:] -= np.tensordot(gi,b[i],axes=0)\n",
    "        a[i+1:] -= np.tensordot(gi,a[i],axes=0)\n",
    "        \n",
    "    b[-1]=b[-1]/a[-1][-1]\n",
    "    a[-1]=a[-1]/a[-1][-1]\n",
    "    ##print(a)\n",
    "    for i in range(a.shape[0]-1, 0, -1):\n",
    "        b[:i] -= np.tensordot(a[:i,i],b[i],axes=0)\n",
    "        a[:i] -= np.tensordot(a[:i,i],a[i],axes=0)\n",
    "    ##print(a)\n",
    "    return b"
   ]
  },
  {
   "cell_type": "markdown",
   "metadata": {},
   "source": [
    "Проверкой будет обращение матрицы"
   ]
  },
  {
   "cell_type": "code",
   "execution_count": 122,
   "metadata": {},
   "outputs": [
    {
     "data": {
      "text/plain": [
       "array([[ 1.63485438,  0.93759084,  1.85990009, ...,  0.02502644,\n",
       "        -0.49610762,  0.65892337],\n",
       "       [-1.04422482,  0.80276246, -0.52775043, ...,  1.66423067,\n",
       "        -1.87466212,  0.31770859],\n",
       "       [-1.34817122,  1.66266708,  1.12025848, ...,  1.7264781 ,\n",
       "        -1.04351519,  1.03597692],\n",
       "       ...,\n",
       "       [-1.14133473, -0.60839819, -1.33385258, ...,  1.70980414,\n",
       "         1.05415542,  1.97832903],\n",
       "       [ 0.58267091, -0.75872754,  1.91861805, ..., -1.7226686 ,\n",
       "        -1.82323849, -1.28879417],\n",
       "       [ 1.19936445, -0.58022851, -1.74078722, ...,  0.86969104,\n",
       "         1.79372387,  0.20433662]])"
      ]
     },
     "execution_count": 122,
     "metadata": {},
     "output_type": "execute_result"
    }
   ],
   "source": [
    "m = np.random.uniform(-2, 2, (50,50))\n",
    "m"
   ]
  },
  {
   "cell_type": "code",
   "execution_count": 123,
   "metadata": {
    "scrolled": true
   },
   "outputs": [
    {
     "name": "stdout",
     "output_type": "stream",
     "text": [
      "16.4 ms ± 699 µs per loop (mean ± std. dev. of 7 runs, 100 loops each)\n",
      "13 µs ± 787 ns per loop (mean ± std. dev. of 7 runs, 100000 loops each)\n"
     ]
    }
   ],
   "source": [
    "%timeit k = sol(m, np.diag(np.ones(50)))\n",
    "k\n",
    "%timeit l = np.diag(np.ones(50))"
   ]
  },
  {
   "cell_type": "code",
   "execution_count": 124,
   "metadata": {},
   "outputs": [
    {
     "name": "stdout",
     "output_type": "stream",
     "text": [
      "170 µs ± 23.6 µs per loop (mean ± std. dev. of 7 runs, 1 loop each)\n"
     ]
    }
   ],
   "source": [
    "%timeit b = np.linalg.inv(m)"
   ]
  },
  {
   "cell_type": "code",
   "execution_count": 112,
   "metadata": {},
   "outputs": [
    {
     "data": {
      "text/plain": [
       "array([[ 1.00000000e+00,  1.11022302e-16, -9.02056208e-17],\n",
       "       [ 0.00000000e+00,  1.00000000e+00, -8.32667268e-17],\n",
       "       [-4.44089210e-16,  0.00000000e+00,  1.00000000e+00]])"
      ]
     },
     "execution_count": 112,
     "metadata": {},
     "output_type": "execute_result"
    }
   ],
   "source": [
    "np.dot(m,np.linalg.inv(m))"
   ]
  },
  {
   "cell_type": "code",
   "execution_count": null,
   "metadata": {},
   "outputs": [],
   "source": []
  }
 ],
 "metadata": {
  "kernelspec": {
   "display_name": "Python 3",
   "language": "python",
   "name": "python3"
  },
  "language_info": {
   "codemirror_mode": {
    "name": "ipython",
    "version": 3
   },
   "file_extension": ".py",
   "mimetype": "text/x-python",
   "name": "python",
   "nbconvert_exporter": "python",
   "pygments_lexer": "ipython3",
   "version": "3.7.1"
  }
 },
 "nbformat": 4,
 "nbformat_minor": 2
}
