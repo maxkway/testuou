{
 "cells": [
  {
   "cell_type": "code",
   "execution_count": 15,
   "metadata": {},
   "outputs": [],
   "source": [
    "from collections import namedtuple\n",
    "\n",
    "\n",
    "Result = namedtuple('Result', ('nfev', 'cost', 'gradnorm', 'x'))\n",
    "\n",
    "Result.__doc__ = \"\"\"Результаты оптимизации\n",
    "\n",
    "\n",
    "\n",
    "Attributes\n",
    "\n",
    "----------\n",
    "\n",
    "nfev : int\n",
    "\n",
    "    Полное число вызовов модельной функции\n",
    "\n",
    "cost : 1-d array\n",
    "\n",
    "    Значения функции потерь 0.5 sum(y - f)^2 на каждом итерационном шаге.\n",
    "\n",
    "    В случае метода Гаусса—Ньютона длина массива равна nfev, в случае ЛМ-метода\n",
    "\n",
    "    длина массива — менее nfev\n",
    "\n",
    "gradnorm : float\n",
    "\n",
    "    Норма градиента на финальном итерационном шаге\n",
    "\n",
    "x : 1-d array\n",
    "\n",
    "    Финальное значение вектора, минимизирующего функцию потерь\n",
    "\n",
    "\"\"\""
   ]
  },
  {
   "cell_type": "code",
   "execution_count": 45,
   "metadata": {},
   "outputs": [],
   "source": [
    "import numpy as np"
   ]
  },
  {
   "cell_type": "code",
   "execution_count": 99,
   "metadata": {},
   "outputs": [],
   "source": [
    "def gauss_newton(y, f, j, x0, k=1, tol=1e-4):\n",
    "    nfev = 0\n",
    "    cost = []\n",
    "    x = x0.copy()\n",
    "    \n",
    "    while True:\n",
    "        nfev +=1\n",
    "        residual = y - f(*x)\n",
    "        cost.append(0.5 * residual @ residual )\n",
    "        jac = j(*x)\n",
    "        grad = jac.T @ residual\n",
    "        gradnorm  = np.linalg.norm(grad)\n",
    "        delta_x = np.linalg.solve(jac.T @ jac, grad)\n",
    "        if np.linalg.norm(delta_x) <= tol:\n",
    "            break\n",
    "        x += k * delta_x\n",
    "    cost  = np.array(cost)\n",
    "    return Result(nfev, cost, gradnorm, x)\n",
    "        \n",
    "        "
   ]
  },
  {
   "cell_type": "code",
   "execution_count": 89,
   "metadata": {},
   "outputs": [],
   "source": [
    "def f(t, a, b, c):\n",
    "    return b * np.exp(-a * t) * t**2 + c\n",
    "\n",
    "def j(t, a, b, c):\n",
    "    j  = np.empty((t.size, 3))\n",
    "    j[:, 0] = -b * np.exp(-a * t) * t**3\n",
    "    j[:, 1] = np.exp(-a * t) * t**2\n",
    "    j[:, 2] = 1 \n",
    "    return j\n",
    "\n",
    "_a = 0.75\n",
    "_b = 2\n",
    "_c = 0.5\n",
    "_n = 30\n",
    "_x = (_a, _b, _c)\n",
    "\n"
   ]
  },
  {
   "cell_type": "code",
   "execution_count": 92,
   "metadata": {},
   "outputs": [
    {
     "name": "stdout",
     "output_type": "stream",
     "text": [
      "8.52 ms ± 122 µs per loop (mean ± std. dev. of 7 runs, 100 loops each)\n"
     ]
    }
   ],
   "source": [
    "%%timeit\n",
    "t = np.linspace(0, 10, _n)\n",
    "y = f(t, *_x) + np.random.normal(0, 0.1, _n)\n",
    "\n",
    "r = gauss_newton(y = y, \n",
    "                 f = lambda *args: f(t, *args), \n",
    "                 j = lambda *args: j(t, *args), \n",
    "                 x0 = np.array([1.0, 1.0, 1.0]),\n",
    "                k = 0.04, tol=1e-3)\n"
   ]
  },
  {
   "cell_type": "code",
   "execution_count": 105,
   "metadata": {},
   "outputs": [
    {
     "name": "stdout",
     "output_type": "stream",
     "text": [
      "0.08455084847496208\n"
     ]
    }
   ],
   "source": [
    "\n",
    "#%%timeit\n",
    "t = np.random.normal(5, 4, _n)\n",
    "y = f(t, *_x) + np.random.normal(0, 0.1, _n)\n",
    "\n",
    "r = gauss_newton(y = y, \n",
    "                 f = lambda *args: f(t, *args), \n",
    "                 j = lambda *args: j(t, *args), \n",
    "                 x0 = np.array([1.0, 1.0, 1.0]),\n",
    "                k = 0.04, tol=1e-3)\n",
    "print(r.cost[-1])"
   ]
  },
  {
   "cell_type": "code",
   "execution_count": 112,
   "metadata": {},
   "outputs": [
    {
     "name": "stdout",
     "output_type": "stream",
     "text": [
      "0.12019119656613689\n"
     ]
    }
   ],
   "source": [
    "t = np.linspace(0, 10, _n)\n",
    "y = f(t, *_x) + np.random.normal(0, 0.1, _n)\n",
    "\n",
    "r = gauss_newton(y = y, \n",
    "                 f = lambda *args: f(t, *args), \n",
    "                 j = lambda *args: j(t, *args), \n",
    "                 x0 = np.array([1.0, 1.0, 1.0]),\n",
    "                k = 0.04, tol=1e-3)\n",
    "print(r.cost[-1])"
   ]
  },
  {
   "cell_type": "code",
   "execution_count": null,
   "metadata": {},
   "outputs": [],
   "source": []
  },
  {
   "cell_type": "code",
   "execution_count": 101,
   "metadata": {},
   "outputs": [
    {
     "name": "stdout",
     "output_type": "stream",
     "text": [
      "0.19241663671306364\n"
     ]
    }
   ],
   "source": [
    "print(r.cost[-1])"
   ]
  },
  {
   "cell_type": "code",
   "execution_count": null,
   "metadata": {},
   "outputs": [],
   "source": []
  }
 ],
 "metadata": {
  "kernelspec": {
   "display_name": "Python 3",
   "language": "python",
   "name": "python3"
  },
  "language_info": {
   "codemirror_mode": {
    "name": "ipython",
    "version": 3
   },
   "file_extension": ".py",
   "mimetype": "text/x-python",
   "name": "python",
   "nbconvert_exporter": "python",
   "pygments_lexer": "ipython3",
   "version": "3.6.5"
  }
 },
 "nbformat": 4,
 "nbformat_minor": 2
}
