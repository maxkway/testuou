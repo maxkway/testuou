{
 "cells": [
  {
   "cell_type": "markdown",
   "metadata": {},
   "source": [
    "Разрешение СЛАУ с трёх диагональной матрицой и ненулевыми главными минорами."
   ]
  },
  {
   "cell_type": "code",
   "execution_count": 4,
   "metadata": {},
   "outputs": [],
   "source": [
    "import numpy as np"
   ]
  },
  {
   "cell_type": "code",
   "execution_count": 21,
   "metadata": {},
   "outputs": [],
   "source": [
    "def sol(m, b):\n",
    "    a = m.copy()\n",
    "    for i in range(a.shape[0]-1):\n",
    "        b[i] = b[i]/a[i, i]\n",
    "        a[i] = a[i]/a[i, i]\n",
    "        ##gi = a[i+1][i]/a[i][i]\n",
    "        b[i+1] = b[i+1] - b[i] * a[i+1,i]\n",
    "        a[i+1] = a[i+1] - a[i] * a[i+1,i]\n",
    "    b[-1]=b[-1]/a[-1][-1]\n",
    "    a[-1]=a[-1]/a[-1][-1]\n",
    "    for i in range(a.shape[0]-1, 0, -1):\n",
    "        '''\n",
    "        g = a[:i, i]/a[i][i]\n",
    "        l = np.ones(i*b.shape[0].reshape(i,-1)\n",
    "        print(l)\n",
    "        l = np.dot(g.transpose(),b[i])\n",
    "        print(g,b[i])\n",
    "        '''\n",
    "        print(a[i-1])\n",
    "        b[:i]=b[:i] - np.tensordot(a[:i,i],b[i],axes=0)\n",
    "        ##b[i-1] = b[i-1] - b[i] * a[i-1, i]\n",
    "        a[:i, i] = 0\n",
    "    return [b]"
   ]
  },
  {
   "cell_type": "markdown",
   "metadata": {},
   "source": [
    "Проверкой будет обращение матрицы"
   ]
  },
  {
   "cell_type": "code",
   "execution_count": 22,
   "metadata": {},
   "outputs": [
    {
     "data": {
      "text/plain": [
       "array([[1, 1, 0],\n",
       "       [1, 2, 2],\n",
       "       [0, 2, 3]])"
      ]
     },
     "execution_count": 22,
     "metadata": {},
     "output_type": "execute_result"
    }
   ],
   "source": [
    "Z = np.diag(np.arange(1, 3), k=-1) + np.diag(np.arange(1, 4), k=0) + np.diag(np.arange(1, 3), k=1)\n",
    "Z"
   ]
  },
  {
   "cell_type": "code",
   "execution_count": 23,
   "metadata": {
    "scrolled": true
   },
   "outputs": [
    {
     "name": "stdout",
     "output_type": "stream",
     "text": [
      "[0 1 2]\n",
      "[1 1 0]\n"
     ]
    }
   ],
   "source": [
    "k = sol(Z, np.diag(np.ones(3)))"
   ]
  },
  {
   "cell_type": "code",
   "execution_count": 24,
   "metadata": {},
   "outputs": [
    {
     "data": {
      "text/plain": [
       "array([[[1., 0., 0.]],\n",
       "\n",
       "       [[0., 1., 0.]],\n",
       "\n",
       "       [[0., 0., 1.]]])"
      ]
     },
     "execution_count": 24,
     "metadata": {},
     "output_type": "execute_result"
    }
   ],
   "source": [
    "np.dot(Z,k)"
   ]
  },
  {
   "cell_type": "code",
   "execution_count": 25,
   "metadata": {},
   "outputs": [
    {
     "data": {
      "text/plain": [
       "array([[1, 1, 0],\n",
       "       [1, 2, 2]])"
      ]
     },
     "execution_count": 25,
     "metadata": {},
     "output_type": "execute_result"
    }
   ],
   "source": [
    "Z[:2]"
   ]
  },
  {
   "cell_type": "code",
   "execution_count": null,
   "metadata": {},
   "outputs": [],
   "source": []
  }
 ],
 "metadata": {
  "kernelspec": {
   "display_name": "Python 3",
   "language": "python",
   "name": "python3"
  },
  "language_info": {
   "codemirror_mode": {
    "name": "ipython",
    "version": 3
   },
   "file_extension": ".py",
   "mimetype": "text/x-python",
   "name": "python",
   "nbconvert_exporter": "python",
   "pygments_lexer": "ipython3",
   "version": "3.7.1"
  }
 },
 "nbformat": 4,
 "nbformat_minor": 2
}
