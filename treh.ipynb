{
 "cells": [
  {
   "cell_type": "markdown",
   "metadata": {},
   "source": [
    "Разрешение СЛАУ с трёх диагональной матрицой и ненулевыми главными минорами."
   ]
  },
  {
   "cell_type": "code",
   "execution_count": 2,
   "metadata": {},
   "outputs": [],
   "source": [
    "import numpy as np"
   ]
  },
  {
   "cell_type": "code",
   "execution_count": 154,
   "metadata": {},
   "outputs": [],
   "source": [
    "def sol(a, b):\n",
    "    for i in range(a.shape[0]-1):\n",
    "        gi = a[i+1][i]/a[i][i]\n",
    "        a[i+1] = a[i+1] - a[i] * gi\n",
    "        b[i+1] = b[i+1] - b[i] * gi\n",
    "    for i in range(a.shape[0]-1, 0, -1): \n",
    "        b[:i] = b[:i] - b[i]/a[i][i] * a[:i, i]\n",
    "        a[:i, i] = 0\n",
    "        \n",
    "    return a, b"
   ]
  },
  {
   "cell_type": "code",
   "execution_count": 155,
   "metadata": {},
   "outputs": [
    {
     "data": {
      "text/plain": [
       "array([[1, 1, 0, 0, 0],\n",
       "       [1, 2, 2, 0, 0],\n",
       "       [0, 2, 3, 3, 0],\n",
       "       [0, 0, 3, 4, 4],\n",
       "       [0, 0, 0, 4, 5]])"
      ]
     },
     "execution_count": 155,
     "metadata": {},
     "output_type": "execute_result"
    }
   ],
   "source": [
    "Z = np.diag(np.arange(1, 5), k=-1) + np.diag(np.arange(1, 6), k=0) + np.diag(np.arange(1, 5), k=1)\n",
    "Z"
   ]
  },
  {
   "cell_type": "code",
   "execution_count": 156,
   "metadata": {
    "scrolled": true
   },
   "outputs": [
    {
     "data": {
      "text/plain": [
       "(array([[ 1,  0,  0,  0,  0],\n",
       "        [ 0,  1,  0,  0,  0],\n",
       "        [ 0,  0, -1,  0,  0],\n",
       "        [ 0,  0,  0, 13,  0],\n",
       "        [ 0,  0,  0,  0,  3]]), array([0, 1, 0, 4, 2]))"
      ]
     },
     "execution_count": 156,
     "metadata": {},
     "output_type": "execute_result"
    }
   ],
   "source": [
    "k = sol(Z, np.array([1, 2, 3, 4, 5]))\n",
    "k"
   ]
  },
  {
   "cell_type": "code",
   "execution_count": 143,
   "metadata": {},
   "outputs": [
    {
     "data": {
      "text/plain": [
       "array([0, 0, 0])"
      ]
     },
     "execution_count": 143,
     "metadata": {},
     "output_type": "execute_result"
    }
   ],
   "source": [
    "x = np.zeros(6)\n",
    "Z[:3, 4]"
   ]
  },
  {
   "cell_type": "code",
   "execution_count": null,
   "metadata": {},
   "outputs": [],
   "source": []
  }
 ],
 "metadata": {
  "kernelspec": {
   "display_name": "Python 3",
   "language": "python",
   "name": "python3"
  },
  "language_info": {
   "codemirror_mode": {
    "name": "ipython",
    "version": 3
   },
   "file_extension": ".py",
   "mimetype": "text/x-python",
   "name": "python",
   "nbconvert_exporter": "python",
   "pygments_lexer": "ipython3",
   "version": "3.7.1"
  }
 },
 "nbformat": 4,
 "nbformat_minor": 2
}
