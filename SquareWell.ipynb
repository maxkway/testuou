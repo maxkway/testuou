{
 "cells": [
  {
   "cell_type": "code",
   "execution_count": 4,
   "metadata": {
    "nbgrader": {
     "grade": false,
     "grade_id": "cell-fd9a8a256ce96e0b",
     "locked": true,
     "schema_version": 3,
     "solution": false,
     "task": false
    }
   },
   "outputs": [],
   "source": [
    "import numpy as np\n",
    "import matplotlib.pyplot as plt"
   ]
  },
  {
   "cell_type": "markdown",
   "metadata": {
    "nbgrader": {
     "grade": false,
     "grade_id": "cell-360083120ef5ab52",
     "locked": true,
     "schema_version": 3,
     "solution": false,
     "task": false
    }
   },
   "source": [
    "# 1D square well\n",
    "\n",
    "Consider a quantum particle, described by the wave function $\\psi(x)$ moving in an external potential $V(x)$.\n",
    "For simplicity, only consider a one-dimensional real variable $x$.\n",
    "\n",
    "The wave function of a particle obeys the Schoedinger equation\n",
    "\n",
    "\n",
    "$$\n",
    "-\\frac{\\hbar^2}{2m} \\psi''(x)  + V(x)\\psi(x) = E\\psi(x)\\;.\n",
    "$$\n",
    "\n",
    "Here $\\hbar$ is the Planck's constant, $m$ is the mass of the particle (both are known), and $E$ is the energy of the particle.\n",
    "\n",
    "Given boundary conditions, the non-zero solution for $\\psi(x)$ _only exists for some values of the energies_. Physisists say that the energy of a particle is _quantized_. Mathematicians say that the problem is nothing but the eigenvalue problem of the Sturm-Liouville operator\n",
    "\n",
    "\n",
    "$$\n",
    "L = -\\frac{\\hbar^2}{2m}\\frac{d^2}{dx^2} + V(x) \\;.\n",
    "$$\n",
    "\n",
    "\n",
    "Here we consider the so-called square well potential, \n",
    "\n",
    "$$\n",
    "V(x) = %\n",
    "\\begin{cases}\n",
    "&0, &0 < x < a \\\\\n",
    "&\\infty, &\\text{otherwise.} \n",
    "\\end{cases}\n",
    "$$\n",
    "\n",
    "Define\n",
    "$$\n",
    "E = \\frac{\\hbar^2}{2m} k^2\n",
    "$$\n",
    "\n",
    "The Schroedinger equation for $0 < x < a$ becomes\n",
    "\n",
    "$$\n",
    "\\psi''(x) = -k^2 \\psi(x)\n",
    "$$\n",
    "\n",
    "with the boundary conditions $\\psi(0) = \\psi(a) = 0$.\n",
    "\n",
    "Solutions are\n",
    "\n",
    "$$\\psi_n(x) = \\sqrt{\\frac{2}{a}} \\sin{k_n x}$$\n",
    "\n",
    "\n",
    "with\n",
    "\n",
    "$$\n",
    "k_n a = \\pi n\\;, \\qquad n = 1, 2, \\cdots\n",
    "$$\n",
    "\n",
    "So that the eigenenergies are\n",
    "\n",
    "$$\n",
    "E_n = \\frac{\\pi^2\\hbar^2}{2ma^2} n^2\n",
    "$$"
   ]
  },
  {
   "cell_type": "markdown",
   "metadata": {
    "nbgrader": {
     "grade": false,
     "grade_id": "cell-3be39ca2ce355116",
     "locked": true,
     "schema_version": 3,
     "solution": false,
     "task": false
    }
   },
   "source": [
    "## Eigenfunctions, numerically\n",
    "\n",
    "Define a mesh\n",
    "\n",
    "$$x_j = a \\frac{j}{N}, \\qquad j=0, \\cdots, N\n",
    "$$\n",
    "\n",
    "and the mesh function $\\psi_j$.\n",
    "\n",
    "The Schroedinger equation becomes\n",
    "\n",
    "$$\n",
    "\\psi_{j-1} + \\psi_{j+1} - 2\\psi_{j} = -k^2 h^2 \\psi_j \\; , \\qquad j = 1, \\cdots, N-1\n",
    "$$\n",
    "\n",
    "where $h=a/N$ is the grid spacing, and the boundary conditions are $\\psi_0 = \\psi_N = 0$.\n",
    "\n",
    "Note that the last equation defines the eigenvalue problem in the $N-1$ dimensional space spanned by vectors $(\\psi_1, \\psi_2, \\cdots, \\psi_{N-1})^T$. Here the matrix, whose eigenvalues we are looking for, is tridiagonal, and the allowed values of $(k h)^2$ are its eigenvalues."
   ]
  },
  {
   "cell_type": "markdown",
   "metadata": {
    "nbgrader": {
     "grade": false,
     "grade_id": "cell-eab0189cf5a42ef7",
     "locked": true,
     "schema_version": 3,
     "solution": false,
     "task": false
    }
   },
   "source": [
    "Write the function that returns the matrix for the eigenvalue problem above.\n",
    "\n",
    "The numpy function `np.fill_diagonal` may be handy. Also note that to fill sub- and superdiagonals, you may slice the matrix, like so: `a[1:, :]`."
   ]
  },
  {
   "cell_type": "code",
   "execution_count": 9,
   "metadata": {
    "nbgrader": {
     "grade": false,
     "grade_id": "cell-aafe722b76d0a6b5",
     "locked": false,
     "schema_version": 3,
     "solution": true,
     "task": false
    }
   },
   "outputs": [],
   "source": [
    "def hamiltonian(npts):\n",
    "    \"\"\"Construct the eigenvalue matrix for the discretized 1D Schroedinger equation.\n",
    "    \n",
    "    Parameters\n",
    "    ----------\n",
    "    npts : int\n",
    "        The number of nodes in the mesh: $x_j = a*j /npts$, with $j=0, ..., npts$\n",
    "        \n",
    "    Returns\n",
    "    -------\n",
    "    ham : ndarray, shape(npts-1, npts-1)\n",
    "        The matrix of the mesh version of the Sturm-Liouville operator.\n",
    "    \"\"\"\n",
    "    ### BEGIN SOLUTION\n",
    "    ham = np.zeros((npts-1, npts-1))\n",
    "    np.fill_diagonal(ham, 2.0)\n",
    "    np.fill_diagonal(ham[1:, :], -1)\n",
    "    np.fill_diagonal(ham[:, 1:], -1)\n",
    "    return ham\n",
    "    ### END SOLUTION"
   ]
  },
  {
   "cell_type": "code",
   "execution_count": 34,
   "metadata": {
    "nbgrader": {
     "grade": true,
     "grade_id": "cell-b55c38e4cbf73e1f",
     "locked": true,
     "points": 2,
     "schema_version": 3,
     "solution": false,
     "task": false
    }
   },
   "outputs": [],
   "source": [
    "N = 20\n",
    "ham = hamiltonian(N)\n",
    "assert ham.shape == (N-1, N-1)\n",
    "\n",
    "### BEGIN HIDDEN TESTS\n",
    "from numpy.testing import assert_allclose\n",
    "N = 10\n",
    "ham = hamiltonian(N)\n",
    "assert_allclose(np.diag(ham),\n",
    "                2, atol=1e-15)\n",
    "assert_allclose(np.diag(ham, 1),\n",
    "                -1, atol=1e-15)\n",
    "assert_allclose(np.diag(ham, -1),\n",
    "                -1, atol=1e-15)\n",
    "\n",
    "for s in range(2, 8):\n",
    "    assert_allclose(np.diag(ham, s),\n",
    "                    0)\n",
    "    assert_allclose(np.diag(ham, -s),\n",
    "                    0)\n",
    "### END HIDDEN TESTS"
   ]
  },
  {
   "cell_type": "markdown",
   "metadata": {
    "nbgrader": {
     "grade": false,
     "grade_id": "cell-e3c64f6e9d4d3f08",
     "locked": true,
     "schema_version": 3,
     "solution": false,
     "task": false
    }
   },
   "source": [
    "### Solve the eigenvalue problem\n",
    "\n",
    "Write a function which returns the eigenvalues and eigenvectors of the discretized hamiltonian given the number of the mesh points,."
   ]
  },
  {
   "cell_type": "code",
   "execution_count": 73,
   "metadata": {
    "nbgrader": {
     "grade": false,
     "grade_id": "cell-c338c12b8b0ff65f",
     "locked": false,
     "schema_version": 3,
     "solution": true,
     "task": false
    }
   },
   "outputs": [],
   "source": [
    "def eigensystem(N):\n",
    "    \"\"\"Construct the Hamiltonian on a mesh and compute its eigenvalues and eigenvectors.\n",
    "    \n",
    "    Return eigenvalues in the sorted order.\n",
    "    \n",
    "    Parameters\n",
    "    ----------\n",
    "    N : int\n",
    "        The number of nodes in the mesh: $x_j = a*j /N$, with $j=0, ..., N$.\n",
    "        \n",
    "    Returns\n",
    "    -------\n",
    "    vals : ndarray, shape(N-1,)\n",
    "        Eigenvalues, in the ascending order.\n",
    "        \n",
    "    vects : ndarray, shape(N-1, N-1)\n",
    "        Eigenvectors arranged in columns: `vect[:, j]` is the \n",
    "        normalized eigenvector corresponding to `vals[j]`.\n",
    "    \"\"\"\n",
    "    ### BEGIN SOLUTION\n",
    "    vals, wavefunctions = np.linalg.eigh(hamiltonian(N))\n",
    "\n",
    "    # eigvals are not necessarily sorted, so sort them manually\n",
    "    # XXX: should also sort the wavefunctions\n",
    "    idx = np.argsort(vals)\n",
    "    vals = vals[idx]\n",
    "    \n",
    "    return vals, wavefunctions\n",
    "    ### END SOLUTION"
   ]
  },
  {
   "cell_type": "code",
   "execution_count": 75,
   "metadata": {
    "nbgrader": {
     "grade": true,
     "grade_id": "cell-79dc8ca40332b3cb",
     "locked": true,
     "points": 3,
     "schema_version": 3,
     "solution": false,
     "task": false
    }
   },
   "outputs": [],
   "source": [
    "N = 10\n",
    "ham = hamiltonian(10)\n",
    "vals, vects = eigensystem(10)\n",
    "\n",
    "assert (vals[1:] >= vals[:-1]).all()\n",
    "\n",
    "for j in range(vals.shape[0]):\n",
    "    assert_allclose(ham @ vects[:, j],\n",
    "                    vals[j] * vects[:, j], atol=1e-10)\n"
   ]
  },
  {
   "cell_type": "markdown",
   "metadata": {
    "nbgrader": {
     "grade": false,
     "grade_id": "cell-af0f96f6ffa29419",
     "locked": true,
     "schema_version": 3,
     "solution": false,
     "task": false
    }
   },
   "source": [
    "### Long-wavelength limit of the FD problem\n",
    "\n",
    "We expect that in the limit of $N\\to\\infty$ solutions of the discretized system tends to the solution of the continuous problem. \n",
    "\n",
    "Plot the spectrum of the FD problem for several values of $N$. Note that the spectrum is bounded, i.e. we can only hope that low-lying eigenstates match: for large enough $N$, several first eigenstates of the FD problem are close to the corresponding eigenstates of the continuous problem. (See e.g. A.A. Samarski and A.V. Gulin, Sec 1.4.4 for details)"
   ]
  },
  {
   "cell_type": "code",
   "execution_count": null,
   "metadata": {},
   "outputs": [],
   "source": [
    "# Plot the spectrum of the FD problem for several values of N. \n",
    "# Plot the spectrum of the continuous problem on the same plot.\n"
   ]
  },
  {
   "cell_type": "markdown",
   "metadata": {
    "nbgrader": {
     "grade": false,
     "grade_id": "cell-79c6a06c54de6b6d",
     "locked": true,
     "schema_version": 3,
     "solution": false,
     "task": false
    }
   },
   "source": [
    "Make the function in the cell below return a value of $N$ such that the first 10 eigenvalues of the FD problem and the continuous problem match within the relative tolerance of $10^{-3}$."
   ]
  },
  {
   "cell_type": "code",
   "execution_count": 111,
   "metadata": {
    "nbgrader": {
     "grade": false,
     "grade_id": "cell-a0dccf755c881b94",
     "locked": false,
     "schema_version": 3,
     "solution": true,
     "task": false
    }
   },
   "outputs": [],
   "source": [
    "def get_large_N():\n",
    "    ### BEGIN SOLUTION\n",
    "    NN = 500\n",
    "    return NN \n",
    "    ### END SOLUTION"
   ]
  },
  {
   "cell_type": "code",
   "execution_count": 112,
   "metadata": {
    "nbgrader": {
     "grade": true,
     "grade_id": "cell-d85b44c5d92936e0",
     "locked": true,
     "points": 6,
     "schema_version": 3,
     "solution": false,
     "task": false
    }
   },
   "outputs": [],
   "source": [
    "NN = get_large_N()\n",
    "\n",
    "vals, _ = eigensystem(NN)\n",
    "\n",
    "# the rest of this cell is a test which compares first 10 eigenvalues\n",
    "\n",
    "### BEGIN HIDDEN TESTS\n",
    "\n",
    "# Experimentally, NN=500 is enough\n",
    "continuous = np.pi**2 * np.arange(1, NN)**2 / NN**2\n",
    "assert_allclose(vals[:10],\n",
    "                continuous[:10], rtol=1e-3)\n",
    "### END HIDDEN TESTS"
   ]
  },
  {
   "cell_type": "markdown",
   "metadata": {
    "nbgrader": {
     "grade": false,
     "grade_id": "cell-4a4d614a4c80bf28",
     "locked": true,
     "schema_version": 3,
     "solution": false,
     "task": false
    }
   },
   "source": [
    "### Wave functions"
   ]
  },
  {
   "cell_type": "markdown",
   "metadata": {
    "nbgrader": {
     "grade": false,
     "grade_id": "cell-fd83c17823e931ad",
     "locked": true,
     "schema_version": 3,
     "solution": false,
     "task": false
    }
   },
   "source": [
    "Plot the wave functions (i.e. eigenvectors) for several lowest eigenstates. Compare to expected form. How many zeros does the eigenfunction number $k$ have?"
   ]
  },
  {
   "cell_type": "code",
   "execution_count": 113,
   "metadata": {},
   "outputs": [],
   "source": [
    "# plot the wave functions here\n"
   ]
  },
  {
   "cell_type": "markdown",
   "metadata": {
    "nbgrader": {
     "grade": false,
     "grade_id": "cell-d0a5a2108321c342",
     "locked": true,
     "schema_version": 3,
     "solution": false,
     "task": false
    }
   },
   "source": [
    "# Perturbation\n",
    "\n",
    "Consider now the modified potential: add to the square well potential the additional term \n",
    "\n",
    "$$\n",
    "V(x) = -\\frac{\\hbar^2}{2m}\\, \\gamma\\, x(x-a)\n",
    "$$\n",
    "\n",
    "for $0 < x < a$, where $\\gamma$ is a constant.\n",
    "\n",
    "An analytic solution is no longer possible, but the numeric solution is a straightforward extension of what we did in the previous section."
   ]
  },
  {
   "cell_type": "markdown",
   "metadata": {
    "nbgrader": {
     "grade": false,
     "grade_id": "cell-65d49ff5520f5952",
     "locked": true,
     "schema_version": 3,
     "solution": false,
     "task": false
    }
   },
   "source": [
    "## Numeric solution\n",
    "\n",
    "Again, define a grid function $\\psi_j$. The Schroedinger equation then becomes\n",
    "\n",
    "$$\n",
    "-\\left( \\psi_{j-1} + \\psi_{j+1} - 2\\psi_{j} \\right) - \\gamma h^2 x_j (x_j - a) \\psi_j = k^2 h^2 \\psi_j \\; , \\qquad j = 1, \\cdots, N-1\n",
    "$$\n",
    "\n",
    "so that the diagonal elements of the Hamiltonian matrix are no longer constants.\n",
    "\n",
    "Construct the hamiltonian matrix, solve for the eigenvalues and plot the ground state wave functions for a range of $\\gamma$. Discuss the structure of the wave function for $\\gamma > 500$."
   ]
  },
  {
   "cell_type": "code",
   "execution_count": 11,
   "metadata": {
    "nbgrader": {
     "grade": false,
     "grade_id": "cell-f7dc2f611e4b19af",
     "locked": false,
     "schema_version": 3,
     "solution": true,
     "task": false
    }
   },
   "outputs": [],
   "source": [
    "def hamiltonian_perturbed(gamma, npts):\n",
    "    \"\"\"Construct the eigenvalue matrix for the discretized 1D Schroedinger equation.\n",
    "    \n",
    "    Parameters\n",
    "    ----------\n",
    "    gamma : float\n",
    "        The extra potential is $gamma * x * (x-1)$\n",
    "    npts : int\n",
    "        The number of nodes in the mesh: $x_j = a*j /npts$, with $j=0, ..., npts$\n",
    "        \n",
    "    Returns\n",
    "    -------\n",
    "    ham : ndarray, shape(npts-1, npts-1)\n",
    "        The matrix of the mesh version of the Sturm-Liouville operator.\n",
    "    \"\"\"\n",
    "    ### BEGIN SOLUTION\n",
    "    ham = np.zeros((npts-1, npts-1))\n",
    "    \n",
    "    x = np.arange(1, npts) / npts\n",
    "    v = x * (x - 1) / npts**2\n",
    "    \n",
    "    np.fill_diagonal(ham, 2.0 - gamma*v)\n",
    "    np.fill_diagonal(ham[1:, :], -1)\n",
    "    np.fill_diagonal(ham[:, 1:], -1)\n",
    "    return ham\n",
    "    ### END SOLUTION"
   ]
  },
  {
   "cell_type": "code",
   "execution_count": 37,
   "metadata": {
    "nbgrader": {
     "grade": true,
     "grade_id": "cell-ad4764121a24f8dc",
     "locked": true,
     "points": 4,
     "schema_version": 3,
     "solution": false,
     "task": false
    }
   },
   "outputs": [],
   "source": [
    "gamma, N = 590, 11\n",
    "h = hamiltonian_perturbed(gamma, N)\n",
    "\n",
    "assert h.shape == (N-1, N-1)\n",
    "\n",
    "### BEGIN HIDDEN TESTS\n",
    "x = np.arange(1, N) / N\n",
    "v = x * (x - 1) / N**2\n",
    "\n",
    "from numpy.testing import assert_allclose\n",
    "assert_allclose(np.diagonal(h),\n",
    "                2.0 - gamma*v, atol=1e-15)\n",
    "\n",
    "assert_allclose(np.diagonal(h, 1), -1)\n",
    "assert_allclose(np.diagonal(h, -1), -1)\n",
    "\n",
    "# check the rest is zeros\n",
    "np.fill_diagonal(h, 0)\n",
    "np.fill_diagonal(h[1:], 0)\n",
    "np.fill_diagonal(h[:, 1:], 0)\n",
    "assert_allclose(h, 0)\n",
    "### END HIDDEN TESTS"
   ]
  },
  {
   "cell_type": "code",
   "execution_count": 38,
   "metadata": {
    "nbgrader": {
     "grade": false,
     "grade_id": "cell-c6b6aa782bac0d62",
     "locked": false,
     "schema_version": 3,
     "solution": true,
     "task": false
    }
   },
   "outputs": [
    {
     "data": {
      "text/plain": [
       "<matplotlib.legend.Legend at 0x7f44eea7fb20>"
      ]
     },
     "execution_count": 38,
     "metadata": {},
     "output_type": "execute_result"
    },
    {
     "data": {
      "image/png": "[encoded data removed]",
      "text/plain": [
       "<Figure size 432x288 with 1 Axes>"
      ]
     },
     "metadata": {
      "needs_background": "light"
     },
     "output_type": "display_data"
    }
   ],
   "source": [
    "### BEGIN SOLUTION\n",
    "N = 100\n",
    "\n",
    "for lam in [0, 100, 500, 1000]:\n",
    "    ham = hamiltonian_perturbed(lam, N)\n",
    "    vals, psi = np.linalg.eigh(ham)\n",
    "\n",
    "    grid = np.linspace(0, 1, N-1)\n",
    "    plt.plot(grid, psi[:, 0], '.-', label=r'$\\lambda = %s$' % lam)\n",
    "plt.legend(loc=\"best\")\n",
    "### END SOLUTION"
   ]
  },
  {
   "cell_type": "markdown",
   "metadata": {
    "nbgrader": {
     "grade": false,
     "grade_id": "cell-3cfcd31b5b76539e",
     "locked": true,
     "schema_version": 3,
     "solution": false,
     "task": false
    }
   },
   "source": [
    "Bonus: discuss the structure of the spectrum at large $\\gamma$."
   ]
  },
  {
   "cell_type": "code",
   "execution_count": null,
   "metadata": {},
   "outputs": [],
   "source": []
  }
 ],
 "metadata": {
  "celltoolbar": "Create Assignment",
  "kernelspec": {
   "display_name": "Python 3",
   "language": "python",
   "name": "python3"
  },
  "language_info": {
   "codemirror_mode": {
    "name": "ipython",
    "version": 3
   },
   "file_extension": ".py",
   "mimetype": "text/x-python",
   "name": "python",
   "nbconvert_exporter": "python",
   "pygments_lexer": "ipython3",
   "version": "3.6.13"
  }
 },
 "nbformat": 4,
 "nbformat_minor": 2
}
