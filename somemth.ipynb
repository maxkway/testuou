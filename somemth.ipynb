{
 "cells": [
  {
   "cell_type": "markdown",
   "metadata": {
    "slideshow": {
     "slide_type": "slide"
    }
   },
   "source": [
    "# <center>Численное моделирование ядра в самосогласованном среднем поле.\n",
    "</center>\n",
    "\n",
    ">Вещество есть на деле огромная концентрация энергии в сравнительно малом пространстве.\n",
    ">\n",
    ">А.Эйнштейн\n",
    "\n",
    "                                                                                                Шишкин Максим\n",
    "                                                                                                2020"
   ]
  },
  {
   "cell_type": "code",
   "execution_count": 17,
   "metadata": {
    "hide_input": true,
    "slideshow": {
     "slide_type": "subslide"
    }
   },
   "outputs": [],
   "source": [
    "from __future__ import print_function\n",
    "from ipywidgets import interact, interactive, fixed, interact_manual\n",
    "import ipywidgets as widgets\n",
    "\n",
    "import matplotlib.pyplot as plt, random\n",
    "\n",
    "import numpy as np\n",
    "\n",
    "import scipy\n",
    "\n",
    "sin = np.sin\n",
    "cos = np.cos\n",
    "pi = np.pi\n",
    "arctan = np.arctan\n",
    "sqrt = np.sqrt\n",
    "exp = np.exp\n",
    "from scipy.integrate import solve_ivp\n",
    "from scipy.optimize import brentq\n",
    "import bokeh.plotting as bplt"
   ]
  },
  {
   "cell_type": "markdown",
   "metadata": {
    "slideshow": {
     "slide_type": "slide"
    }
   },
   "source": [
    "## Nuclear Shell Model\n",
    "Магические ядра\n",
    "$$\n",
    "\\hat{H}\\Psi = E\\Psi, \\; \\hat{H} = \\hat{T_i} + \\hat{U_i} + \\frac{1}{2}\\hat{V}_{i,j}\\implies \\hat{V}_{eff}(r_i)\n",
    "$$\n",
    "Спин-орбита\n"
   ]
  },
  {
   "cell_type": "markdown",
   "metadata": {
    "slideshow": {
     "slide_type": "slide"
    }
   },
   "source": [
    "Частица в кусочно квадратичной потенциальной яме после разделения переменных на угловую и радиальную составляющую и классического анзаца $\\chi = r R$ и обезразмеренниваний сводится к уравнению\n",
    "$$\\label{task}\n",
    "[\\partial^2_u -(V(u)-\\lambda)]\\chi=0,\\; V(u) = \\frac{l(l+1)}{u^2} - \\left(1-\\frac{a^2}{R^2}\\,u^2\\right) \\cdot \\mathcal{I}_{u<R/a},\n",
    "$$\n",
    "$$\n",
    "a^2 =\\frac{\\hbar^2}{2m U_0}\n",
    "$$\n"
   ]
  },
  {
   "cell_type": "code",
   "execution_count": 21,
   "metadata": {
    "hide_input": true
   },
   "outputs": [
    {
     "data": {
      "application/vnd.jupyter.widget-view+json": {
       "model_id": "c2617003c5d5470188e29e77d9cd71aa",
       "version_major": 2,
       "version_minor": 0
      },
      "text/plain": [
       "interactive(children=(IntSlider(value=2, description='l', max=4), Button(description='Run Interact', style=But…"
      ]
     },
     "metadata": {},
     "output_type": "display_data"
    }
   ],
   "source": [
    "%matplotlib inline\n",
    "\n",
    "hbar = 1.054571817*1e-34 #Си\n",
    "m = 1.67262192369*1e-27 # кг\n",
    "c = 3*1e8 # си\n",
    "U_0 = 60 # Mev\n",
    "U_0 *= 1.6021766e-13 # дж\n",
    "R_0  = 1.3*40**(1/3)*1e-15 # м\n",
    "\n",
    "a = sqrt(hbar**2/2/m/U_0)\n",
    "\n",
    "def up(x, aa=a, Rr = R_0):\n",
    "    return (-1)*(x < Rr/aa)*(1-aa**2/Rr**2 * x**2)\n",
    "\n",
    "@interact_manual(l=(0, 4, 1))\n",
    "def cons(l):\n",
    "    \n",
    "    x = np.linspace(0.01, R_0/a*1.2 , 1000)\n",
    "    u = up(x)\n",
    "    v = l*(l+1) / x**2\n",
    "    plt.figure(figsize=(7,7))\n",
    "    plt.plot(x, v+u)\n",
    "    plt.grid()\n",
    "    plt.ylim(-1, 3)\n",
    "    plt.title(f'l={l}')"
   ]
  },
  {
   "cell_type": "markdown",
   "metadata": {
    "cell_style": "split",
    "slideshow": {
     "slide_type": "slide"
    }
   },
   "source": [
    "У уравнения \\ref{task} для любого значения $\\lambda$ существует решение, а условием связанности является затухание на бесконечности, однако как легко видеть на больших $r$ $\\chi\\sim \\exp(\\pm \\sqrt{-\\lambda})$, так же легко видеть что затухающее решение не устойчиво -даже малый коэффициент перед растущей экспонентой приведет к взрыву решения."
   ]
  },
  {
   "cell_type": "markdown",
   "metadata": {
    "cell_style": "split",
    "slideshow": {
     "slide_type": "fragment"
    }
   },
   "source": [
    "Радиальная часть вф связанного состоянияния выглядят примерно следуюзим образом, где количество узлов ВФ в соответсвии с осциляторной теоремой говорит о порядковом номере уровня энергии.\n",
    "![](https://github.com/maxkway/testuou/blob/master/diagram-20200605.png?raw=true)\n"
   ]
  },
  {
   "cell_type": "markdown",
   "metadata": {
    "cell_style": "split",
    "slideshow": {
     "slide_type": "slide"
    }
   },
   "source": [
    "Решение - следить за углом:\n",
    "$$\\label{anzac}\n",
    "\\chi \\sin\\varphi - \\chi'\\cos\\varphi=0\n",
    "$$\n",
    "Наглядный смысл :\n",
    "![](https://github.com/maxkway/testuou/blob/master/diagram-20200605%20(1).png?raw=true)"
   ]
  },
  {
   "cell_type": "markdown",
   "metadata": {
    "cell_style": "split",
    "slideshow": {
     "slide_type": "fragment"
    }
   },
   "source": [
    "Граничное условие имеет вид:\n",
    "$$\n",
    "    \\varphi(0) = \\frac{\\pi}{2} \n",
    "$$\n",
    "А краевое на спекральную задачу:\n",
    "$$\n",
    "\\varphi(\\infty) = \\frac{\\pi}{2} - \\pi k\n",
    "$$\n",
    "Где под $k$ указан номер искомого связанного сотояния."
   ]
  },
  {
   "cell_type": "markdown",
   "metadata": {
    "slideshow": {
     "slide_type": "slide"
    }
   },
   "source": [
    "Дифферинцируя анзац \\eqref{anzac} и подставляя $\\chi''$ из исходного \\eqref{task} получаем совместно с анзацем однородную систему для $\\chi, \\chi'$ ; приравнивая нулю детерминант получаем уравнение на $\\varphi$:\n",
    "$$\\boxed{\\cases{\n",
    "\\varphi' + \\sin^2\\varphi + (\\lambda - V(r))\\cos^2 \\varphi=0, \\\\\n",
    "\\varphi(r\\rightarrow 0) = \\tan^-\\left(\\frac{l+1}{r}\\right) = \\frac{\\pi}{2}-\\tan^-\\left(\\frac{r}{l+1}\\right)}}\n",
    "$$\n",
    "P.s. Если нас заинтересует сама волновая функция, то необходимо просто проинтегрировать следующее выражение для амплитуды:\n",
    "$$\n",
    "\\frac{A'}{A} = \\cos\\varphi\\sin\\varphi(1+V(r)-\\lambda)\n",
    "$$"
   ]
  },
  {
   "cell_type": "code",
   "execution_count": 5,
   "metadata": {
    "cell_style": "split",
    "hide_input": true,
    "slideshow": {
     "slide_type": "slide"
    }
   },
   "outputs": [
    {
     "data": {
      "application/vnd.jupyter.widget-view+json": {
       "model_id": "2701205fbc2044ecb6bc7432a703ad93",
       "version_major": 2,
       "version_minor": 0
      },
      "text/plain": [
       "interactive(children=(FloatSlider(value=-1.0, description='energy', max=0.0, min=-1.0, step=0.01), IntSlider(v…"
      ]
     },
     "metadata": {},
     "output_type": "display_data"
    }
   ],
   "source": [
    "#%matplotlib notebook\n",
    "def derivate(r, phi, energy, l):\n",
    "    v = up(r) + l*(l+1) / r**2\n",
    "    return -((sin(phi))**2 + (energy - v) * (cos(phi))**2)\n",
    "\n",
    "@interact_manual(energy=(-1, 0, 0.01), l=(0, 5, 1))\n",
    "def draw_phi(energy, l):\n",
    "    \n",
    "    r_star = 200\n",
    "    r_min = 1e-6\n",
    "    r = (r_min, r_star)\n",
    "    init = pi/2 - arctan(r_min/(l+1)) # from zero asimptotic\n",
    "    \n",
    "    soll =solve_ivp(derivate, r, [init], args=(energy, l), atol=1e-10, rtol=1e-6, method=\"DOP853\")\n",
    "    r = soll.t\n",
    "    phi = soll.y[0]\n",
    "    \n",
    "    plt.figure()\n",
    "    plt.plot(r, phi,'r.--')\n",
    "    plt.hlines(pi/2 - 2*pi, 0, 40)\n",
    "    plt.hlines(pi/2, 0, 40)    \n",
    "    plt.grid()\n",
    "    plt.yticks([pi/2, -pi/2, -3*pi/2, -5*pi/2], labels=[r'$\\pi/2$', r'$-\\pi/2$', r'$-3\\pi/2$', r'$-5\\pi/2$'])\n",
    "    plt.xlim(0, 15)\n",
    "    plt.ylim(-8, 2)\n",
    "    plt.xlabel('r')\n",
    "    plt.title('Зависимость угла от радиуса')\n",
    "    plt.ylabel(r'$\\varphi$')"
   ]
  },
  {
   "cell_type": "markdown",
   "metadata": {
    "cell_style": "split",
    "slideshow": {
     "slide_type": "fragment"
    }
   },
   "source": [
    "Теперь остаётся подобрать $\\lambda$ чтобы посадить на \"нужную\"\" асимптотику.\n",
    "Для этого зафиксируем далёкую точку $r_{\\star}$, в которую будем вычислять $\\varphi$.\n",
    "\n",
    "Остаётся найти корень уравнения \n",
    "$\\boxed{\\varphi(r_{\\star}) = \\pi/2 - \\pi k}$"
   ]
  },
  {
   "cell_type": "code",
   "execution_count": 18,
   "metadata": {
    "hide_input": true,
    "slideshow": {
     "slide_type": "fragment"
    }
   },
   "outputs": [],
   "source": [
    "def get_val_r_star(energy, l, method=\"DOP853\", r=(1e-7,200)):\n",
    "    init = pi/2 - arctan(r[0]/(l+1)) # from zero asimptotic\n",
    "    soll = solve_ivp(derivate, r, [init], args=(energy, l), atol=1e-10, rtol=1e-6, method=method)\n",
    "    return soll.y[0, -1]"
   ]
  },
  {
   "cell_type": "code",
   "execution_count": 19,
   "metadata": {
    "hide_input": true,
    "slideshow": {
     "slide_type": "fragment"
    }
   },
   "outputs": [],
   "source": [
    "from scipy.optimize import brentq\n",
    "def get_energies(l, en_tol=1e-4):\n",
    "    energies=[]\n",
    "    for i in range(20):\n",
    "        \n",
    "        phi_end = pi/2 - pi*(i+1)\n",
    "        target_fun = lambda phi: phi - phi_end\n",
    "        \n",
    "        phi_zero_en = get_val_r_star(0, l)\n",
    "        \n",
    "        xi = (l*(l+1)*(R_0/a)**2)**0.25\n",
    "        e_min = (xi < R_0/a)*(-1+a**2/R_0**2 * xi**2) + l*(l+1) / xi**2 if l>0 else -1\n",
    "        \n",
    "        phi_bot_en = get_val_r_star(e_min, l)\n",
    "        \n",
    "        if target_fun(phi_zero_en) * target_fun(phi_bot_en) < 0 and e_min<0:\n",
    "            en = brentq(lambda en: target_fun(get_val_r_star(en, l)), e_min , 0, xtol=en_tol)\n",
    "            energies.append(en)\n",
    "        else:\n",
    "            break\n",
    "    return np.array(energies)"
   ]
  },
  {
   "cell_type": "code",
   "execution_count": 18,
   "metadata": {
    "hide_input": true,
    "slideshow": {
     "slide_type": "skip"
    }
   },
   "outputs": [
    {
     "data": {
      "image/png": "[encoded data removed]",
      "text/plain": [
       "<Figure size 720x720 with 1 Axes>"
      ]
     },
     "metadata": {
      "needs_background": "light"
     },
     "output_type": "display_data"
    }
   ],
   "source": [
    "%matplotlib inline\n",
    "plt.figure(figsize=(10,10))\n",
    "plt.title(f'Уровни энергии в квадратичной сильной связи для Ca')\n",
    "l=0\n",
    "x = np.linspace(0.01, 15 , 1000)\n",
    "u = (x < R_0/a)*(1-a**2/R_0**2 * x**2)\n",
    "v = l*(l+1) / x**2\n",
    "\n",
    "energies = get_energies(l)\n",
    "\n",
    "plt.plot(x*a*1e15, (v-u)*60, label = f'potential enegy for l={l}',color='green')\n",
    "for energy in energies:\n",
    "    left_x = 0.1 #sqrt(l*(l+1) / (energy+f))\n",
    "    plt.hlines(energy*60, left_x*a*1e15, 15*a*1e15, label = 'l= %.1i, energy = %.2f Mev' % (l,energy*60), color='green')\n",
    "l=1\n",
    "x = np.linspace(0.01, 15 , 1000)\n",
    "u = (x < R_0/a)*(1-a**2/R_0**2 * x**2)\n",
    "v = l*(l+1) / x**2\n",
    "\n",
    "energies = get_energies(l)\n",
    "\n",
    "plt.plot(x*a*1e15, (v-u)*60, label = f'potential enegy for l={l}',color='blue')\n",
    "for energy in energies:\n",
    "    left_x = 0.1 #sqrt(l*(l+1) / (energy+f))\n",
    "    plt.hlines(energy*60, left_x*a*1e15, 15*a*1e15, label = 'l= %.1i, energy = %.2f Mev' % (l,energy*60), color='blue')\n",
    "l=2\n",
    "x = np.linspace(0.01, 15 , 1000)\n",
    "u = (x < R_0/a)*(1-a**2/R_0**2 * x**2)\n",
    "v = l*(l+1) / x**2\n",
    "\n",
    "energies = get_energies(l)\n",
    "\n",
    "plt.plot(x*a*1e15, 60*(v-u), label = f'potential enegy for l={l}',color='orange')\n",
    "for energy in energies:\n",
    "    left_x = 0.1 #sqrt(l*(l+1) / (energy+f))\n",
    "    plt.hlines(energy*60, left_x*a*1e15, 15*a*1e15, label = 'l= %.1i, energy = %.2f Mev' % (l,energy*60),color='orange' )\n",
    "\n",
    "plt.grid()\n",
    "plt.ylim(-61, 15)\n",
    "plt.xlim(0.1, 6)\n",
    "plt.legend()\n",
    "plt.xlabel('r,fm')\n",
    "plt.ylabel('E, Mev')\n",
    "plt.hlines(0, 0, 15, alpha=0.6, color='black')\n",
    "plt.savefig('Levels_in_Ca.pdf')"
   ]
  },
  {
   "cell_type": "code",
   "execution_count": 16,
   "metadata": {
    "hide_input": true,
    "slideshow": {
     "slide_type": "slide"
    }
   },
   "outputs": [
    {
     "data": {
      "text/html": [
       "\n",
       "    <div class=\"bk-root\">\n",
       "        <a href=\"https://bokeh.org\" target=\"_blank\" class=\"bk-logo bk-logo-small bk-logo-notebook\"></a>\n",
       "        <span id=\"1884\">Loading BokehJS ...</span>\n",
       "    </div>"
      ]
     },
     "metadata": {},
     "output_type": "display_data"
    },
    {
     "data": {
      "application/javascript": [
       "\n",
       "(function(root) {\n",
       "  function now() {\n",
       "    return new Date();\n",
       "  }\n",
       "\n",
       "  var force = true;\n",
       "\n",
       "  if (typeof root._bokeh_onload_callbacks === \"undefined\" || force === true) {\n",
       "    root._bokeh_onload_callbacks = [];\n",
       "    root._bokeh_is_loading = undefined;\n",
       "  }\n",
       "\n",
       "  var JS_MIME_TYPE = 'application/javascript';\n",
       "  var HTML_MIME_TYPE = 'text/html';\n",
       "  var EXEC_MIME_TYPE = 'application/vnd.bokehjs_exec.v0+json';\n",
       "  var CLASS_NAME = 'output_bokeh rendered_html';\n",
       "\n",
       "  /**\n",
       "   * Render data to the DOM node\n",
       "   */\n",
       "  function render(props, node) {\n",
       "    var script = document.createElement(\"script\");\n",
       "    node.appendChild(script);\n",
       "  }\n",
       "\n",
       "  /**\n",
       "   * Handle when an output is cleared or removed\n",
       "   */\n",
       "  function handleClearOutput(event, handle) {\n",
       "    var cell = handle.cell;\n",
       "\n",
       "    var id = cell.output_area._bokeh_element_id;\n",
       "    var server_id = cell.output_area._bokeh_server_id;\n",
       "    // Clean up Bokeh references\n",
       "    if (id != null && id in Bokeh.index) {\n",
       "      Bokeh.index[id].model.document.clear();\n",
       "      delete Bokeh.index[id];\n",
       "    }\n",
       "\n",
       "    if (server_id !== undefined) {\n",
       "      // Clean up Bokeh references\n",
       "      var cmd = \"from bokeh.io.state import curstate; print(curstate().uuid_to_server['\" + server_id + \"'].get_sessions()[0].document.roots[0]._id)\";\n",
       "      cell.notebook.kernel.execute(cmd, {\n",
       "        iopub: {\n",
       "          output: function(msg) {\n",
       "            var id = msg.content.text.trim();\n",
       "            if (id in Bokeh.index) {\n",
       "              Bokeh.index[id].model.document.clear();\n",
       "              delete Bokeh.index[id];\n",
       "            }\n",
       "          }\n",
       "        }\n",
       "      });\n",
       "      // Destroy server and session\n",
       "      var cmd = \"import bokeh.io.notebook as ion; ion.destroy_server('\" + server_id + \"')\";\n",
       "      cell.notebook.kernel.execute(cmd);\n",
       "    }\n",
       "  }\n",
       "\n",
       "  /**\n",
       "   * Handle when a new output is added\n",
       "   */\n",
       "  function handleAddOutput(event, handle) {\n",
       "    var output_area = handle.output_area;\n",
       "    var output = handle.output;\n",
       "\n",
       "    // limit handleAddOutput to display_data with EXEC_MIME_TYPE content only\n",
       "    if ((output.output_type != \"display_data\") || (!output.data.hasOwnProperty(EXEC_MIME_TYPE))) {\n",
       "      return\n",
       "    }\n",
       "\n",
       "    var toinsert = output_area.element.find(\".\" + CLASS_NAME.split(' ')[0]);\n",
       "\n",
       "    if (output.metadata[EXEC_MIME_TYPE][\"id\"] !== undefined) {\n",
       "      toinsert[toinsert.length - 1].firstChild.textContent = output.data[JS_MIME_TYPE];\n",
       "      // store reference to embed id on output_area\n",
       "      output_area._bokeh_element_id = output.metadata[EXEC_MIME_TYPE][\"id\"];\n",
       "    }\n",
       "    if (output.metadata[EXEC_MIME_TYPE][\"server_id\"] !== undefined) {\n",
       "      var bk_div = document.createElement(\"div\");\n",
       "      bk_div.innerHTML = output.data[HTML_MIME_TYPE];\n",
       "      var script_attrs = bk_div.children[0].attributes;\n",
       "      for (var i = 0; i < script_attrs.length; i++) {\n",
       "        toinsert[toinsert.length - 1].firstChild.setAttribute(script_attrs[i].name, script_attrs[i].value);\n",
       "        toinsert[toinsert.length - 1].firstChild.textContent = bk_div.children[0].textContent\n",
       "      }\n",
       "      // store reference to server id on output_area\n",
       "      output_area._bokeh_server_id = output.metadata[EXEC_MIME_TYPE][\"server_id\"];\n",
       "    }\n",
       "  }\n",
       "\n",
       "  function register_renderer(events, OutputArea) {\n",
       "\n",
       "    function append_mime(data, metadata, element) {\n",
       "      // create a DOM node to render to\n",
       "      var toinsert = this.create_output_subarea(\n",
       "        metadata,\n",
       "        CLASS_NAME,\n",
       "        EXEC_MIME_TYPE\n",
       "      );\n",
       "      this.keyboard_manager.register_events(toinsert);\n",
       "      // Render to node\n",
       "      var props = {data: data, metadata: metadata[EXEC_MIME_TYPE]};\n",
       "      render(props, toinsert[toinsert.length - 1]);\n",
       "      element.append(toinsert);\n",
       "      return toinsert\n",
       "    }\n",
       "\n",
       "    /* Handle when an output is cleared or removed */\n",
       "    events.on('clear_output.CodeCell', handleClearOutput);\n",
       "    events.on('delete.Cell', handleClearOutput);\n",
       "\n",
       "    /* Handle when a new output is added */\n",
       "    events.on('output_added.OutputArea', handleAddOutput);\n",
       "\n",
       "    /**\n",
       "     * Register the mime type and append_mime function with output_area\n",
       "     */\n",
       "    OutputArea.prototype.register_mime_type(EXEC_MIME_TYPE, append_mime, {\n",
       "      /* Is output safe? */\n",
       "      safe: true,\n",
       "      /* Index of renderer in `output_area.display_order` */\n",
       "      index: 0\n",
       "    });\n",
       "  }\n",
       "\n",
       "  // register the mime type if in Jupyter Notebook environment and previously unregistered\n",
       "  if (root.Jupyter !== undefined) {\n",
       "    var events = require('base/js/events');\n",
       "    var OutputArea = require('notebook/js/outputarea').OutputArea;\n",
       "\n",
       "    if (OutputArea.prototype.mime_types().indexOf(EXEC_MIME_TYPE) == -1) {\n",
       "      register_renderer(events, OutputArea);\n",
       "    }\n",
       "  }\n",
       "\n",
       "  \n",
       "  if (typeof (root._bokeh_timeout) === \"undefined\" || force === true) {\n",
       "    root._bokeh_timeout = Date.now() + 5000;\n",
       "    root._bokeh_failed_load = false;\n",
       "  }\n",
       "\n",
       "  var NB_LOAD_WARNING = {'data': {'text/html':\n",
       "     \"<div style='background-color: #fdd'>\\n\"+\n",
       "     \"<p>\\n\"+\n",
       "     \"BokehJS does not appear to have successfully loaded. If loading BokehJS from CDN, this \\n\"+\n",
       "     \"may be due to a slow or bad network connection. Possible fixes:\\n\"+\n",
       "     \"</p>\\n\"+\n",
       "     \"<ul>\\n\"+\n",
       "     \"<li>re-rerun `output_notebook()` to attempt to load from CDN again, or</li>\\n\"+\n",
       "     \"<li>use INLINE resources instead, as so:</li>\\n\"+\n",
       "     \"</ul>\\n\"+\n",
       "     \"<code>\\n\"+\n",
       "     \"from bokeh.resources import INLINE\\n\"+\n",
       "     \"output_notebook(resources=INLINE)\\n\"+\n",
       "     \"</code>\\n\"+\n",
       "     \"</div>\"}};\n",
       "\n",
       "  function display_loaded() {\n",
       "    var el = document.getElementById(\"1884\");\n",
       "    if (el != null) {\n",
       "      el.textContent = \"BokehJS is loading...\";\n",
       "    }\n",
       "    if (root.Bokeh !== undefined) {\n",
       "      if (el != null) {\n",
       "        el.textContent = \"BokehJS \" + root.Bokeh.version + \" successfully loaded.\";\n",
       "      }\n",
       "    } else if (Date.now() < root._bokeh_timeout) {\n",
       "      setTimeout(display_loaded, 100)\n",
       "    }\n",
       "  }\n",
       "\n",
       "\n",
       "  function run_callbacks() {\n",
       "    try {\n",
       "      root._bokeh_onload_callbacks.forEach(function(callback) {\n",
       "        if (callback != null)\n",
       "          callback();\n",
       "      });\n",
       "    } finally {\n",
       "      delete root._bokeh_onload_callbacks\n",
       "    }\n",
       "    console.debug(\"Bokeh: all callbacks have finished\");\n",
       "  }\n",
       "\n",
       "  function load_libs(css_urls, js_urls, callback) {\n",
       "    if (css_urls == null) css_urls = [];\n",
       "    if (js_urls == null) js_urls = [];\n",
       "\n",
       "    root._bokeh_onload_callbacks.push(callback);\n",
       "    if (root._bokeh_is_loading > 0) {\n",
       "      console.debug(\"Bokeh: BokehJS is being loaded, scheduling callback at\", now());\n",
       "      return null;\n",
       "    }\n",
       "    if (js_urls == null || js_urls.length === 0) {\n",
       "      run_callbacks();\n",
       "      return null;\n",
       "    }\n",
       "    console.debug(\"Bokeh: BokehJS not loaded, scheduling load and callback at\", now());\n",
       "    root._bokeh_is_loading = css_urls.length + js_urls.length;\n",
       "\n",
       "    function on_load() {\n",
       "      root._bokeh_is_loading--;\n",
       "      if (root._bokeh_is_loading === 0) {\n",
       "        console.debug(\"Bokeh: all BokehJS libraries/stylesheets loaded\");\n",
       "        run_callbacks()\n",
       "      }\n",
       "    }\n",
       "\n",
       "    function on_error() {\n",
       "      console.error(\"failed to load \" + url);\n",
       "    }\n",
       "\n",
       "    for (var i = 0; i < css_urls.length; i++) {\n",
       "      var url = css_urls[i];\n",
       "      const element = document.createElement(\"link\");\n",
       "      element.onload = on_load;\n",
       "      element.onerror = on_error;\n",
       "      element.rel = \"stylesheet\";\n",
       "      element.type = \"text/css\";\n",
       "      element.href = url;\n",
       "      console.debug(\"Bokeh: injecting link tag for BokehJS stylesheet: \", url);\n",
       "      document.body.appendChild(element);\n",
       "    }\n",
       "\n",
       "    const hashes = {\"https://cdn.bokeh.org/bokeh/release/bokeh-2.2.3.min.js\": \"T2yuo9Oe71Cz/I4X9Ac5+gpEa5a8PpJCDlqKYO0CfAuEszu1JrXLl8YugMqYe3sM\", \"https://cdn.bokeh.org/bokeh/release/bokeh-widgets-2.2.3.min.js\": \"98GDGJ0kOMCUMUePhksaQ/GYgB3+NH9h996V88sh3aOiUNX3N+fLXAtry6xctSZ6\", \"https://cdn.bokeh.org/bokeh/release/bokeh-tables-2.2.3.min.js\": \"89bArO+nlbP3sgakeHjCo1JYxYR5wufVgA3IbUvDY+K7w4zyxJqssu7wVnfeKCq8\"};\n",
       "\n",
       "    for (var i = 0; i < js_urls.length; i++) {\n",
       "      var url = js_urls[i];\n",
       "      var element = document.createElement('script');\n",
       "      element.onload = on_load;\n",
       "      element.onerror = on_error;\n",
       "      element.async = false;\n",
       "      element.src = url;\n",
       "      if (url in hashes) {\n",
       "        element.crossOrigin = \"anonymous\";\n",
       "        element.integrity = \"sha384-\" + hashes[url];\n",
       "      }\n",
       "      console.debug(\"Bokeh: injecting script tag for BokehJS library: \", url);\n",
       "      document.head.appendChild(element);\n",
       "    }\n",
       "  };\n",
       "\n",
       "  function inject_raw_css(css) {\n",
       "    const element = document.createElement(\"style\");\n",
       "    element.appendChild(document.createTextNode(css));\n",
       "    document.body.appendChild(element);\n",
       "  }\n",
       "\n",
       "  \n",
       "  var js_urls = [\"https://cdn.bokeh.org/bokeh/release/bokeh-2.2.3.min.js\", \"https://cdn.bokeh.org/bokeh/release/bokeh-widgets-2.2.3.min.js\", \"https://cdn.bokeh.org/bokeh/release/bokeh-tables-2.2.3.min.js\"];\n",
       "  var css_urls = [];\n",
       "  \n",
       "\n",
       "  var inline_js = [\n",
       "    function(Bokeh) {\n",
       "      Bokeh.set_log_level(\"info\");\n",
       "    },\n",
       "    function(Bokeh) {\n",
       "    \n",
       "    \n",
       "    }\n",
       "  ];\n",
       "\n",
       "  function run_inline_js() {\n",
       "    \n",
       "    if (root.Bokeh !== undefined || force === true) {\n",
       "      \n",
       "    for (var i = 0; i < inline_js.length; i++) {\n",
       "      inline_js[i].call(root, root.Bokeh);\n",
       "    }\n",
       "    if (force === true) {\n",
       "        display_loaded();\n",
       "      }} else if (Date.now() < root._bokeh_timeout) {\n",
       "      setTimeout(run_inline_js, 100);\n",
       "    } else if (!root._bokeh_failed_load) {\n",
       "      console.log(\"Bokeh: BokehJS failed to load within specified timeout.\");\n",
       "      root._bokeh_failed_load = true;\n",
       "    } else if (force !== true) {\n",
       "      var cell = $(document.getElementById(\"1884\")).parents('.cell').data().cell;\n",
       "      cell.output_area.append_execute_result(NB_LOAD_WARNING)\n",
       "    }\n",
       "\n",
       "  }\n",
       "\n",
       "  if (root._bokeh_is_loading === 0) {\n",
       "    console.debug(\"Bokeh: BokehJS loaded, going straight to plotting\");\n",
       "    run_inline_js();\n",
       "  } else {\n",
       "    load_libs(css_urls, js_urls, function() {\n",
       "      console.debug(\"Bokeh: BokehJS plotting callback run at\", now());\n",
       "      run_inline_js();\n",
       "    });\n",
       "  }\n",
       "}(window));"
      ],
      "application/vnd.bokehjs_load.v0+json": "\n(function(root) {\n  function now() {\n    return new Date();\n  }\n\n  var force = true;\n\n  if (typeof root._bokeh_onload_callbacks === \"undefined\" || force === true) {\n    root._bokeh_onload_callbacks = [];\n    root._bokeh_is_loading = undefined;\n  }\n\n  \n\n  \n  if (typeof (root._bokeh_timeout) === \"undefined\" || force === true) {\n    root._bokeh_timeout = Date.now() + 5000;\n    root._bokeh_failed_load = false;\n  }\n\n  var NB_LOAD_WARNING = {'data': {'text/html':\n     \"<div style='background-color: #fdd'>\\n\"+\n     \"<p>\\n\"+\n     \"BokehJS does not appear to have successfully loaded. If loading BokehJS from CDN, this \\n\"+\n     \"may be due to a slow or bad network connection. Possible fixes:\\n\"+\n     \"</p>\\n\"+\n     \"<ul>\\n\"+\n     \"<li>re-rerun `output_notebook()` to attempt to load from CDN again, or</li>\\n\"+\n     \"<li>use INLINE resources instead, as so:</li>\\n\"+\n     \"</ul>\\n\"+\n     \"<code>\\n\"+\n     \"from bokeh.resources import INLINE\\n\"+\n     \"output_notebook(resources=INLINE)\\n\"+\n     \"</code>\\n\"+\n     \"</div>\"}};\n\n  function display_loaded() {\n    var el = document.getElementById(\"1884\");\n    if (el != null) {\n      el.textContent = \"BokehJS is loading...\";\n    }\n    if (root.Bokeh !== undefined) {\n      if (el != null) {\n        el.textContent = \"BokehJS \" + root.Bokeh.version + \" successfully loaded.\";\n      }\n    } else if (Date.now() < root._bokeh_timeout) {\n      setTimeout(display_loaded, 100)\n    }\n  }\n\n\n  function run_callbacks() {\n    try {\n      root._bokeh_onload_callbacks.forEach(function(callback) {\n        if (callback != null)\n          callback();\n      });\n    } finally {\n      delete root._bokeh_onload_callbacks\n    }\n    console.debug(\"Bokeh: all callbacks have finished\");\n  }\n\n  function load_libs(css_urls, js_urls, callback) {\n    if (css_urls == null) css_urls = [];\n    if (js_urls == null) js_urls = [];\n\n    root._bokeh_onload_callbacks.push(callback);\n    if (root._bokeh_is_loading > 0) {\n      console.debug(\"Bokeh: BokehJS is being loaded, scheduling callback at\", now());\n      return null;\n    }\n    if (js_urls == null || js_urls.length === 0) {\n      run_callbacks();\n      return null;\n    }\n    console.debug(\"Bokeh: BokehJS not loaded, scheduling load and callback at\", now());\n    root._bokeh_is_loading = css_urls.length + js_urls.length;\n\n    function on_load() {\n      root._bokeh_is_loading--;\n      if (root._bokeh_is_loading === 0) {\n        console.debug(\"Bokeh: all BokehJS libraries/stylesheets loaded\");\n        run_callbacks()\n      }\n    }\n\n    function on_error() {\n      console.error(\"failed to load \" + url);\n    }\n\n    for (var i = 0; i < css_urls.length; i++) {\n      var url = css_urls[i];\n      const element = document.createElement(\"link\");\n      element.onload = on_load;\n      element.onerror = on_error;\n      element.rel = \"stylesheet\";\n      element.type = \"text/css\";\n      element.href = url;\n      console.debug(\"Bokeh: injecting link tag for BokehJS stylesheet: \", url);\n      document.body.appendChild(element);\n    }\n\n    const hashes = {\"https://cdn.bokeh.org/bokeh/release/bokeh-2.2.3.min.js\": \"T2yuo9Oe71Cz/I4X9Ac5+gpEa5a8PpJCDlqKYO0CfAuEszu1JrXLl8YugMqYe3sM\", \"https://cdn.bokeh.org/bokeh/release/bokeh-widgets-2.2.3.min.js\": \"98GDGJ0kOMCUMUePhksaQ/GYgB3+NH9h996V88sh3aOiUNX3N+fLXAtry6xctSZ6\", \"https://cdn.bokeh.org/bokeh/release/bokeh-tables-2.2.3.min.js\": \"89bArO+nlbP3sgakeHjCo1JYxYR5wufVgA3IbUvDY+K7w4zyxJqssu7wVnfeKCq8\"};\n\n    for (var i = 0; i < js_urls.length; i++) {\n      var url = js_urls[i];\n      var element = document.createElement('script');\n      element.onload = on_load;\n      element.onerror = on_error;\n      element.async = false;\n      element.src = url;\n      if (url in hashes) {\n        element.crossOrigin = \"anonymous\";\n        element.integrity = \"sha384-\" + hashes[url];\n      }\n      console.debug(\"Bokeh: injecting script tag for BokehJS library: \", url);\n      document.head.appendChild(element);\n    }\n  };\n\n  function inject_raw_css(css) {\n    const element = document.createElement(\"style\");\n    element.appendChild(document.createTextNode(css));\n    document.body.appendChild(element);\n  }\n\n  \n  var js_urls = [\"https://cdn.bokeh.org/bokeh/release/bokeh-2.2.3.min.js\", \"https://cdn.bokeh.org/bokeh/release/bokeh-widgets-2.2.3.min.js\", \"https://cdn.bokeh.org/bokeh/release/bokeh-tables-2.2.3.min.js\"];\n  var css_urls = [];\n  \n\n  var inline_js = [\n    function(Bokeh) {\n      Bokeh.set_log_level(\"info\");\n    },\n    function(Bokeh) {\n    \n    \n    }\n  ];\n\n  function run_inline_js() {\n    \n    if (root.Bokeh !== undefined || force === true) {\n      \n    for (var i = 0; i < inline_js.length; i++) {\n      inline_js[i].call(root, root.Bokeh);\n    }\n    if (force === true) {\n        display_loaded();\n      }} else if (Date.now() < root._bokeh_timeout) {\n      setTimeout(run_inline_js, 100);\n    } else if (!root._bokeh_failed_load) {\n      console.log(\"Bokeh: BokehJS failed to load within specified timeout.\");\n      root._bokeh_failed_load = true;\n    } else if (force !== true) {\n      var cell = $(document.getElementById(\"1884\")).parents('.cell').data().cell;\n      cell.output_area.append_execute_result(NB_LOAD_WARNING)\n    }\n\n  }\n\n  if (root._bokeh_is_loading === 0) {\n    console.debug(\"Bokeh: BokehJS loaded, going straight to plotting\");\n    run_inline_js();\n  } else {\n    load_libs(css_urls, js_urls, function() {\n      console.debug(\"Bokeh: BokehJS plotting callback run at\", now());\n      run_inline_js();\n    });\n  }\n}(window));"
     },
     "metadata": {},
     "output_type": "display_data"
    },
    {
     "data": {
      "application/vnd.jupyter.widget-view+json": {
       "model_id": "32a1ba56fab04c4cb17778de06c494d7",
       "version_major": 2,
       "version_minor": 0
      },
      "text/plain": [
       "interactive(children=(IntSlider(value=100, description='u', max=200, step=5), Button(description='Run Interact…"
      ]
     },
     "metadata": {},
     "output_type": "display_data"
    }
   ],
   "source": [
    "bplt.output_notebook()\n",
    "\n",
    "\n",
    "color = {1:'red', 0:'purple', 2:'blue', 3:'orange', 4:'green', 5:'pink', 6:'steelblue'}\n",
    "moment = {0:'s', 1:'p', 2:'d', 3:'f', 4:'e', 5:'g'}\n",
    "@interact_manual(u=(0, 200, 5))\n",
    "def plot_levels(u):\n",
    "    u_j =u* 1.6021766e-13 # дж\n",
    "    R_0  = 1.3*40**(1/3)*1e-15 # м\n",
    "    a = sqrt(hbar**2/2/m/u_j)\n",
    "    def up(x):\n",
    "        return (-1)*(x < R_0/a)*(1-a**2/R_0**2 * x**2)\n",
    "    def derivate(r, phi, energy, l):\n",
    "        v = up(r) + l*(l+1) / r**2\n",
    "        return -((sin(phi))**2 + (energy - v) * (cos(phi))**2)\n",
    "    \n",
    "    def get_val_r_star(energy, l, method=\"DOP853\", r=(1e-7,200)):\n",
    "        init = pi/2 - arctan(r[0]/(l+1)) # from zero asimptotic\n",
    "        soll = solve_ivp(derivate, r, [init], args=(energy, l), atol=1e-10, rtol=1e-6, method=method)\n",
    "        return soll.y[0, -1]\n",
    "\n",
    "\n",
    "    def get_energies(l, en_tol=1e-4):\n",
    "        energies=[]\n",
    "        opt = scipy.optimize.minimize_scalar(lambda x:(l*(l+1)/x**2 + up(x)),  \n",
    "                                             bounds=(1e-4, 10), method='bounded')\n",
    "        e_min = opt['fun']\n",
    "        #x = np.linspace(1e-3,10, 20)\n",
    "        #print((l*(l+1)/x**2 + up(x)))\n",
    "        for i in range(20):\n",
    "            phi_end = pi/2 - pi*(i+1)\n",
    "            target_fun = lambda phi: phi - phi_end\n",
    "            phi_zero_en = get_val_r_star(0, l)\n",
    "            phi_bot_en = get_val_r_star(e_min, l)\n",
    "        \n",
    "            if target_fun(phi_zero_en) * target_fun(phi_bot_en) < 0 and e_min<0:\n",
    "                en = brentq(lambda en: target_fun(get_val_r_star(en, l)), e_min , 0, xtol=en_tol)\n",
    "                energies.append(en)\n",
    "            else:\n",
    "                break\n",
    "        return np.array(energies)\n",
    "\n",
    "    \n",
    "    x = np.linspace(0.01, 15 , 1001)\n",
    "    \n",
    "    p = bplt.figure(title=f'U_0 = {u} Mev', x_axis_label='r,fm', y_axis_label='E, Mev', y_range=[-u*1.05, 3])\n",
    "\n",
    " \n",
    "    for l in range(6):\n",
    "        v = l*(l+1) / x**2\n",
    "        \n",
    "        energies = get_energies(l)\n",
    "\n",
    "        lw = 2 if l==0 else 1\n",
    "        if energies.shape[0]:\n",
    "            \n",
    "            p.line(x*a*1e15, u*(v+up(x)),color=f'{color[l]}', alpha=0.5, line_width=lw)\n",
    "            n_r = 0\n",
    "            for energy in energies:\n",
    "\n",
    "                opt = scipy.optimize.minimize_scalar(lambda x:(l*(l+1)/x**2 + up(x)),  \n",
    "                                                     bounds=(1e-4, 10), method='bounded')\n",
    "                xi = opt['x']\n",
    "                x_left = brentq(lambda x: l*(l+1)/x**2+up(x) - energy, 1e-6, xi, xtol=1e-4) if l > 0 else 0\n",
    "                x_right = brentq(lambda x: l*(l+1)/x**2+up(x) - energy, xi , 10, xtol=1e-4)\n",
    "                \n",
    "                p.line(np.linspace(x_left, x_right, 200)*a*1e15, energy * u, color=f'{color[l]}', \n",
    "                       legend_label= 'l= %.1i, energy = %.2f Mev' % (l, energy*u), line_width=2)\n",
    "                n_r+=1\n",
    "    \n",
    "    p.legend.location = \"bottom_right\"\n",
    "    p.background_fill_color = \"beige\"\n",
    "    p.background_fill_alpha = 0.2\n",
    "    bplt.show(p)\n",
    "    #plt.savefig(f'forse_{f}.png')"
   ]
  },
  {
   "cell_type": "markdown",
   "metadata": {
    "slideshow": {
     "slide_type": "slide"
    }
   },
   "source": [
    "Теперь рассмотрим другой потенциал среднего самосогласованного поля, т.н. **'Ву́дса — Са́ксона'**:\n",
    "$$\n",
    "U(r) = -\\frac{V_0}{1 + \\exp\\left(\\frac{r-R}{d}\\right)}\n",
    "$$\n",
    "При этом \n",
    "$V_0\\sim 50 $ Mev, $R = 1.3 \\,A^{1/3}$ fm, размазаность перехода $d\\sim 0.5$ fm"
   ]
  },
  {
   "cell_type": "code",
   "execution_count": 15,
   "metadata": {
    "hide_input": true,
    "slideshow": {
     "slide_type": "slide"
    }
   },
   "outputs": [
    {
     "data": {
      "text/html": [
       "\n",
       "    <div class=\"bk-root\">\n",
       "        <a href=\"https://bokeh.org\" target=\"_blank\" class=\"bk-logo bk-logo-small bk-logo-notebook\"></a>\n",
       "        <span id=\"1386\">Loading BokehJS ...</span>\n",
       "    </div>"
      ]
     },
     "metadata": {},
     "output_type": "display_data"
    },
    {
     "data": {
      "application/javascript": [
       "\n",
       "(function(root) {\n",
       "  function now() {\n",
       "    return new Date();\n",
       "  }\n",
       "\n",
       "  var force = true;\n",
       "\n",
       "  if (typeof root._bokeh_onload_callbacks === \"undefined\" || force === true) {\n",
       "    root._bokeh_onload_callbacks = [];\n",
       "    root._bokeh_is_loading = undefined;\n",
       "  }\n",
       "\n",
       "  var JS_MIME_TYPE = 'application/javascript';\n",
       "  var HTML_MIME_TYPE = 'text/html';\n",
       "  var EXEC_MIME_TYPE = 'application/vnd.bokehjs_exec.v0+json';\n",
       "  var CLASS_NAME = 'output_bokeh rendered_html';\n",
       "\n",
       "  /**\n",
       "   * Render data to the DOM node\n",
       "   */\n",
       "  function render(props, node) {\n",
       "    var script = document.createElement(\"script\");\n",
       "    node.appendChild(script);\n",
       "  }\n",
       "\n",
       "  /**\n",
       "   * Handle when an output is cleared or removed\n",
       "   */\n",
       "  function handleClearOutput(event, handle) {\n",
       "    var cell = handle.cell;\n",
       "\n",
       "    var id = cell.output_area._bokeh_element_id;\n",
       "    var server_id = cell.output_area._bokeh_server_id;\n",
       "    // Clean up Bokeh references\n",
       "    if (id != null && id in Bokeh.index) {\n",
       "      Bokeh.index[id].model.document.clear();\n",
       "      delete Bokeh.index[id];\n",
       "    }\n",
       "\n",
       "    if (server_id !== undefined) {\n",
       "      // Clean up Bokeh references\n",
       "      var cmd = \"from bokeh.io.state import curstate; print(curstate().uuid_to_server['\" + server_id + \"'].get_sessions()[0].document.roots[0]._id)\";\n",
       "      cell.notebook.kernel.execute(cmd, {\n",
       "        iopub: {\n",
       "          output: function(msg) {\n",
       "            var id = msg.content.text.trim();\n",
       "            if (id in Bokeh.index) {\n",
       "              Bokeh.index[id].model.document.clear();\n",
       "              delete Bokeh.index[id];\n",
       "            }\n",
       "          }\n",
       "        }\n",
       "      });\n",
       "      // Destroy server and session\n",
       "      var cmd = \"import bokeh.io.notebook as ion; ion.destroy_server('\" + server_id + \"')\";\n",
       "      cell.notebook.kernel.execute(cmd);\n",
       "    }\n",
       "  }\n",
       "\n",
       "  /**\n",
       "   * Handle when a new output is added\n",
       "   */\n",
       "  function handleAddOutput(event, handle) {\n",
       "    var output_area = handle.output_area;\n",
       "    var output = handle.output;\n",
       "\n",
       "    // limit handleAddOutput to display_data with EXEC_MIME_TYPE content only\n",
       "    if ((output.output_type != \"display_data\") || (!output.data.hasOwnProperty(EXEC_MIME_TYPE))) {\n",
       "      return\n",
       "    }\n",
       "\n",
       "    var toinsert = output_area.element.find(\".\" + CLASS_NAME.split(' ')[0]);\n",
       "\n",
       "    if (output.metadata[EXEC_MIME_TYPE][\"id\"] !== undefined) {\n",
       "      toinsert[toinsert.length - 1].firstChild.textContent = output.data[JS_MIME_TYPE];\n",
       "      // store reference to embed id on output_area\n",
       "      output_area._bokeh_element_id = output.metadata[EXEC_MIME_TYPE][\"id\"];\n",
       "    }\n",
       "    if (output.metadata[EXEC_MIME_TYPE][\"server_id\"] !== undefined) {\n",
       "      var bk_div = document.createElement(\"div\");\n",
       "      bk_div.innerHTML = output.data[HTML_MIME_TYPE];\n",
       "      var script_attrs = bk_div.children[0].attributes;\n",
       "      for (var i = 0; i < script_attrs.length; i++) {\n",
       "        toinsert[toinsert.length - 1].firstChild.setAttribute(script_attrs[i].name, script_attrs[i].value);\n",
       "        toinsert[toinsert.length - 1].firstChild.textContent = bk_div.children[0].textContent\n",
       "      }\n",
       "      // store reference to server id on output_area\n",
       "      output_area._bokeh_server_id = output.metadata[EXEC_MIME_TYPE][\"server_id\"];\n",
       "    }\n",
       "  }\n",
       "\n",
       "  function register_renderer(events, OutputArea) {\n",
       "\n",
       "    function append_mime(data, metadata, element) {\n",
       "      // create a DOM node to render to\n",
       "      var toinsert = this.create_output_subarea(\n",
       "        metadata,\n",
       "        CLASS_NAME,\n",
       "        EXEC_MIME_TYPE\n",
       "      );\n",
       "      this.keyboard_manager.register_events(toinsert);\n",
       "      // Render to node\n",
       "      var props = {data: data, metadata: metadata[EXEC_MIME_TYPE]};\n",
       "      render(props, toinsert[toinsert.length - 1]);\n",
       "      element.append(toinsert);\n",
       "      return toinsert\n",
       "    }\n",
       "\n",
       "    /* Handle when an output is cleared or removed */\n",
       "    events.on('clear_output.CodeCell', handleClearOutput);\n",
       "    events.on('delete.Cell', handleClearOutput);\n",
       "\n",
       "    /* Handle when a new output is added */\n",
       "    events.on('output_added.OutputArea', handleAddOutput);\n",
       "\n",
       "    /**\n",
       "     * Register the mime type and append_mime function with output_area\n",
       "     */\n",
       "    OutputArea.prototype.register_mime_type(EXEC_MIME_TYPE, append_mime, {\n",
       "      /* Is output safe? */\n",
       "      safe: true,\n",
       "      /* Index of renderer in `output_area.display_order` */\n",
       "      index: 0\n",
       "    });\n",
       "  }\n",
       "\n",
       "  // register the mime type if in Jupyter Notebook environment and previously unregistered\n",
       "  if (root.Jupyter !== undefined) {\n",
       "    var events = require('base/js/events');\n",
       "    var OutputArea = require('notebook/js/outputarea').OutputArea;\n",
       "\n",
       "    if (OutputArea.prototype.mime_types().indexOf(EXEC_MIME_TYPE) == -1) {\n",
       "      register_renderer(events, OutputArea);\n",
       "    }\n",
       "  }\n",
       "\n",
       "  \n",
       "  if (typeof (root._bokeh_timeout) === \"undefined\" || force === true) {\n",
       "    root._bokeh_timeout = Date.now() + 5000;\n",
       "    root._bokeh_failed_load = false;\n",
       "  }\n",
       "\n",
       "  var NB_LOAD_WARNING = {'data': {'text/html':\n",
       "     \"<div style='background-color: #fdd'>\\n\"+\n",
       "     \"<p>\\n\"+\n",
       "     \"BokehJS does not appear to have successfully loaded. If loading BokehJS from CDN, this \\n\"+\n",
       "     \"may be due to a slow or bad network connection. Possible fixes:\\n\"+\n",
       "     \"</p>\\n\"+\n",
       "     \"<ul>\\n\"+\n",
       "     \"<li>re-rerun `output_notebook()` to attempt to load from CDN again, or</li>\\n\"+\n",
       "     \"<li>use INLINE resources instead, as so:</li>\\n\"+\n",
       "     \"</ul>\\n\"+\n",
       "     \"<code>\\n\"+\n",
       "     \"from bokeh.resources import INLINE\\n\"+\n",
       "     \"output_notebook(resources=INLINE)\\n\"+\n",
       "     \"</code>\\n\"+\n",
       "     \"</div>\"}};\n",
       "\n",
       "  function display_loaded() {\n",
       "    var el = document.getElementById(\"1386\");\n",
       "    if (el != null) {\n",
       "      el.textContent = \"BokehJS is loading...\";\n",
       "    }\n",
       "    if (root.Bokeh !== undefined) {\n",
       "      if (el != null) {\n",
       "        el.textContent = \"BokehJS \" + root.Bokeh.version + \" successfully loaded.\";\n",
       "      }\n",
       "    } else if (Date.now() < root._bokeh_timeout) {\n",
       "      setTimeout(display_loaded, 100)\n",
       "    }\n",
       "  }\n",
       "\n",
       "\n",
       "  function run_callbacks() {\n",
       "    try {\n",
       "      root._bokeh_onload_callbacks.forEach(function(callback) {\n",
       "        if (callback != null)\n",
       "          callback();\n",
       "      });\n",
       "    } finally {\n",
       "      delete root._bokeh_onload_callbacks\n",
       "    }\n",
       "    console.debug(\"Bokeh: all callbacks have finished\");\n",
       "  }\n",
       "\n",
       "  function load_libs(css_urls, js_urls, callback) {\n",
       "    if (css_urls == null) css_urls = [];\n",
       "    if (js_urls == null) js_urls = [];\n",
       "\n",
       "    root._bokeh_onload_callbacks.push(callback);\n",
       "    if (root._bokeh_is_loading > 0) {\n",
       "      console.debug(\"Bokeh: BokehJS is being loaded, scheduling callback at\", now());\n",
       "      return null;\n",
       "    }\n",
       "    if (js_urls == null || js_urls.length === 0) {\n",
       "      run_callbacks();\n",
       "      return null;\n",
       "    }\n",
       "    console.debug(\"Bokeh: BokehJS not loaded, scheduling load and callback at\", now());\n",
       "    root._bokeh_is_loading = css_urls.length + js_urls.length;\n",
       "\n",
       "    function on_load() {\n",
       "      root._bokeh_is_loading--;\n",
       "      if (root._bokeh_is_loading === 0) {\n",
       "        console.debug(\"Bokeh: all BokehJS libraries/stylesheets loaded\");\n",
       "        run_callbacks()\n",
       "      }\n",
       "    }\n",
       "\n",
       "    function on_error() {\n",
       "      console.error(\"failed to load \" + url);\n",
       "    }\n",
       "\n",
       "    for (var i = 0; i < css_urls.length; i++) {\n",
       "      var url = css_urls[i];\n",
       "      const element = document.createElement(\"link\");\n",
       "      element.onload = on_load;\n",
       "      element.onerror = on_error;\n",
       "      element.rel = \"stylesheet\";\n",
       "      element.type = \"text/css\";\n",
       "      element.href = url;\n",
       "      console.debug(\"Bokeh: injecting link tag for BokehJS stylesheet: \", url);\n",
       "      document.body.appendChild(element);\n",
       "    }\n",
       "\n",
       "    const hashes = {\"https://cdn.bokeh.org/bokeh/release/bokeh-2.2.3.min.js\": \"T2yuo9Oe71Cz/I4X9Ac5+gpEa5a8PpJCDlqKYO0CfAuEszu1JrXLl8YugMqYe3sM\", \"https://cdn.bokeh.org/bokeh/release/bokeh-widgets-2.2.3.min.js\": \"98GDGJ0kOMCUMUePhksaQ/GYgB3+NH9h996V88sh3aOiUNX3N+fLXAtry6xctSZ6\", \"https://cdn.bokeh.org/bokeh/release/bokeh-tables-2.2.3.min.js\": \"89bArO+nlbP3sgakeHjCo1JYxYR5wufVgA3IbUvDY+K7w4zyxJqssu7wVnfeKCq8\"};\n",
       "\n",
       "    for (var i = 0; i < js_urls.length; i++) {\n",
       "      var url = js_urls[i];\n",
       "      var element = document.createElement('script');\n",
       "      element.onload = on_load;\n",
       "      element.onerror = on_error;\n",
       "      element.async = false;\n",
       "      element.src = url;\n",
       "      if (url in hashes) {\n",
       "        element.crossOrigin = \"anonymous\";\n",
       "        element.integrity = \"sha384-\" + hashes[url];\n",
       "      }\n",
       "      console.debug(\"Bokeh: injecting script tag for BokehJS library: \", url);\n",
       "      document.head.appendChild(element);\n",
       "    }\n",
       "  };\n",
       "\n",
       "  function inject_raw_css(css) {\n",
       "    const element = document.createElement(\"style\");\n",
       "    element.appendChild(document.createTextNode(css));\n",
       "    document.body.appendChild(element);\n",
       "  }\n",
       "\n",
       "  \n",
       "  var js_urls = [\"https://cdn.bokeh.org/bokeh/release/bokeh-2.2.3.min.js\", \"https://cdn.bokeh.org/bokeh/release/bokeh-widgets-2.2.3.min.js\", \"https://cdn.bokeh.org/bokeh/release/bokeh-tables-2.2.3.min.js\"];\n",
       "  var css_urls = [];\n",
       "  \n",
       "\n",
       "  var inline_js = [\n",
       "    function(Bokeh) {\n",
       "      Bokeh.set_log_level(\"info\");\n",
       "    },\n",
       "    function(Bokeh) {\n",
       "    \n",
       "    \n",
       "    }\n",
       "  ];\n",
       "\n",
       "  function run_inline_js() {\n",
       "    \n",
       "    if (root.Bokeh !== undefined || force === true) {\n",
       "      \n",
       "    for (var i = 0; i < inline_js.length; i++) {\n",
       "      inline_js[i].call(root, root.Bokeh);\n",
       "    }\n",
       "    if (force === true) {\n",
       "        display_loaded();\n",
       "      }} else if (Date.now() < root._bokeh_timeout) {\n",
       "      setTimeout(run_inline_js, 100);\n",
       "    } else if (!root._bokeh_failed_load) {\n",
       "      console.log(\"Bokeh: BokehJS failed to load within specified timeout.\");\n",
       "      root._bokeh_failed_load = true;\n",
       "    } else if (force !== true) {\n",
       "      var cell = $(document.getElementById(\"1386\")).parents('.cell').data().cell;\n",
       "      cell.output_area.append_execute_result(NB_LOAD_WARNING)\n",
       "    }\n",
       "\n",
       "  }\n",
       "\n",
       "  if (root._bokeh_is_loading === 0) {\n",
       "    console.debug(\"Bokeh: BokehJS loaded, going straight to plotting\");\n",
       "    run_inline_js();\n",
       "  } else {\n",
       "    load_libs(css_urls, js_urls, function() {\n",
       "      console.debug(\"Bokeh: BokehJS plotting callback run at\", now());\n",
       "      run_inline_js();\n",
       "    });\n",
       "  }\n",
       "}(window));"
      ],
      "application/vnd.bokehjs_load.v0+json": "\n(function(root) {\n  function now() {\n    return new Date();\n  }\n\n  var force = true;\n\n  if (typeof root._bokeh_onload_callbacks === \"undefined\" || force === true) {\n    root._bokeh_onload_callbacks = [];\n    root._bokeh_is_loading = undefined;\n  }\n\n  \n\n  \n  if (typeof (root._bokeh_timeout) === \"undefined\" || force === true) {\n    root._bokeh_timeout = Date.now() + 5000;\n    root._bokeh_failed_load = false;\n  }\n\n  var NB_LOAD_WARNING = {'data': {'text/html':\n     \"<div style='background-color: #fdd'>\\n\"+\n     \"<p>\\n\"+\n     \"BokehJS does not appear to have successfully loaded. If loading BokehJS from CDN, this \\n\"+\n     \"may be due to a slow or bad network connection. Possible fixes:\\n\"+\n     \"</p>\\n\"+\n     \"<ul>\\n\"+\n     \"<li>re-rerun `output_notebook()` to attempt to load from CDN again, or</li>\\n\"+\n     \"<li>use INLINE resources instead, as so:</li>\\n\"+\n     \"</ul>\\n\"+\n     \"<code>\\n\"+\n     \"from bokeh.resources import INLINE\\n\"+\n     \"output_notebook(resources=INLINE)\\n\"+\n     \"</code>\\n\"+\n     \"</div>\"}};\n\n  function display_loaded() {\n    var el = document.getElementById(\"1386\");\n    if (el != null) {\n      el.textContent = \"BokehJS is loading...\";\n    }\n    if (root.Bokeh !== undefined) {\n      if (el != null) {\n        el.textContent = \"BokehJS \" + root.Bokeh.version + \" successfully loaded.\";\n      }\n    } else if (Date.now() < root._bokeh_timeout) {\n      setTimeout(display_loaded, 100)\n    }\n  }\n\n\n  function run_callbacks() {\n    try {\n      root._bokeh_onload_callbacks.forEach(function(callback) {\n        if (callback != null)\n          callback();\n      });\n    } finally {\n      delete root._bokeh_onload_callbacks\n    }\n    console.debug(\"Bokeh: all callbacks have finished\");\n  }\n\n  function load_libs(css_urls, js_urls, callback) {\n    if (css_urls == null) css_urls = [];\n    if (js_urls == null) js_urls = [];\n\n    root._bokeh_onload_callbacks.push(callback);\n    if (root._bokeh_is_loading > 0) {\n      console.debug(\"Bokeh: BokehJS is being loaded, scheduling callback at\", now());\n      return null;\n    }\n    if (js_urls == null || js_urls.length === 0) {\n      run_callbacks();\n      return null;\n    }\n    console.debug(\"Bokeh: BokehJS not loaded, scheduling load and callback at\", now());\n    root._bokeh_is_loading = css_urls.length + js_urls.length;\n\n    function on_load() {\n      root._bokeh_is_loading--;\n      if (root._bokeh_is_loading === 0) {\n        console.debug(\"Bokeh: all BokehJS libraries/stylesheets loaded\");\n        run_callbacks()\n      }\n    }\n\n    function on_error() {\n      console.error(\"failed to load \" + url);\n    }\n\n    for (var i = 0; i < css_urls.length; i++) {\n      var url = css_urls[i];\n      const element = document.createElement(\"link\");\n      element.onload = on_load;\n      element.onerror = on_error;\n      element.rel = \"stylesheet\";\n      element.type = \"text/css\";\n      element.href = url;\n      console.debug(\"Bokeh: injecting link tag for BokehJS stylesheet: \", url);\n      document.body.appendChild(element);\n    }\n\n    const hashes = {\"https://cdn.bokeh.org/bokeh/release/bokeh-2.2.3.min.js\": \"T2yuo9Oe71Cz/I4X9Ac5+gpEa5a8PpJCDlqKYO0CfAuEszu1JrXLl8YugMqYe3sM\", \"https://cdn.bokeh.org/bokeh/release/bokeh-widgets-2.2.3.min.js\": \"98GDGJ0kOMCUMUePhksaQ/GYgB3+NH9h996V88sh3aOiUNX3N+fLXAtry6xctSZ6\", \"https://cdn.bokeh.org/bokeh/release/bokeh-tables-2.2.3.min.js\": \"89bArO+nlbP3sgakeHjCo1JYxYR5wufVgA3IbUvDY+K7w4zyxJqssu7wVnfeKCq8\"};\n\n    for (var i = 0; i < js_urls.length; i++) {\n      var url = js_urls[i];\n      var element = document.createElement('script');\n      element.onload = on_load;\n      element.onerror = on_error;\n      element.async = false;\n      element.src = url;\n      if (url in hashes) {\n        element.crossOrigin = \"anonymous\";\n        element.integrity = \"sha384-\" + hashes[url];\n      }\n      console.debug(\"Bokeh: injecting script tag for BokehJS library: \", url);\n      document.head.appendChild(element);\n    }\n  };\n\n  function inject_raw_css(css) {\n    const element = document.createElement(\"style\");\n    element.appendChild(document.createTextNode(css));\n    document.body.appendChild(element);\n  }\n\n  \n  var js_urls = [\"https://cdn.bokeh.org/bokeh/release/bokeh-2.2.3.min.js\", \"https://cdn.bokeh.org/bokeh/release/bokeh-widgets-2.2.3.min.js\", \"https://cdn.bokeh.org/bokeh/release/bokeh-tables-2.2.3.min.js\"];\n  var css_urls = [];\n  \n\n  var inline_js = [\n    function(Bokeh) {\n      Bokeh.set_log_level(\"info\");\n    },\n    function(Bokeh) {\n    \n    \n    }\n  ];\n\n  function run_inline_js() {\n    \n    if (root.Bokeh !== undefined || force === true) {\n      \n    for (var i = 0; i < inline_js.length; i++) {\n      inline_js[i].call(root, root.Bokeh);\n    }\n    if (force === true) {\n        display_loaded();\n      }} else if (Date.now() < root._bokeh_timeout) {\n      setTimeout(run_inline_js, 100);\n    } else if (!root._bokeh_failed_load) {\n      console.log(\"Bokeh: BokehJS failed to load within specified timeout.\");\n      root._bokeh_failed_load = true;\n    } else if (force !== true) {\n      var cell = $(document.getElementById(\"1386\")).parents('.cell').data().cell;\n      cell.output_area.append_execute_result(NB_LOAD_WARNING)\n    }\n\n  }\n\n  if (root._bokeh_is_loading === 0) {\n    console.debug(\"Bokeh: BokehJS loaded, going straight to plotting\");\n    run_inline_js();\n  } else {\n    load_libs(css_urls, js_urls, function() {\n      console.debug(\"Bokeh: BokehJS plotting callback run at\", now());\n      run_inline_js();\n    });\n  }\n}(window));"
     },
     "metadata": {},
     "output_type": "display_data"
    },
    {
     "data": {
      "application/vnd.jupyter.widget-view+json": {
       "model_id": "bffceb382f6e47b3a25127b065ee19cb",
       "version_major": 2,
       "version_minor": 0
      },
      "text/plain": [
       "interactive(children=(IntSlider(value=47, description='u', max=80, min=15, step=2), FloatSlider(value=0.75, de…"
      ]
     },
     "metadata": {},
     "output_type": "display_data"
    }
   ],
   "source": [
    "\n",
    "bplt.output_notebook()\n",
    "\n",
    "color = {1:'red', 0:'purple', 2:'blue', 3:'orange', 4:'green', 5:'pink', 6:'steelblue'}\n",
    "moment = {0:'s', 1:'p', 2:'d', 3:'f', 4:'e', 5:'g'}\n",
    "@interact_manual(u=(15, 80, 2), d=(0.1, 1.5, 0.05))\n",
    "def plot_levels(u, d):\n",
    "    u_j =u* 1.6021766e-13 # дж\n",
    "    R_0  = 1.3*40**(1/3)*1e-15 # м\n",
    "    d_0 = d*1e-15 # м\n",
    "    a = sqrt(hbar**2/2/m/u_j)\n",
    "    def up(x):\n",
    "        return (-1)/(1+exp(a/d_0 * x - R_0/d_0))\n",
    "    def derivate(r, phi, energy, l):\n",
    "        v = up(r) + l*(l+1) / r**2\n",
    "        return -((sin(phi))**2 + (energy - v) * (cos(phi))**2)\n",
    "    def get_val_r_star(energy, l, method=\"DOP853\", r=(1e-7,200)):\n",
    "        init = pi/2 - arctan(r[0]/(l+1)) # from zero asimptotic\n",
    "        soll = solve_ivp(derivate, r, [init], args=(energy, l), \n",
    "                         atol=1e-10, rtol=1e-6, method=method)\n",
    "        return soll.y[0, -1]\n",
    "    def get_energies(l, en_tol=1e-4):\n",
    "        energies=[]\n",
    "        for i in range(20):\n",
    "            phi_end = pi/2 - pi*(i+1)\n",
    "            target_fun = lambda phi: phi - phi_end\n",
    "            phi_zero_en = get_val_r_star(0, l)\n",
    "            opt = scipy.optimize.minimize_scalar(lambda x:(l*(l+1)/x**2 + up(x)),  \n",
    "                                                 bounds=(1e-6, 20), method='bounded')\n",
    "            e_min = opt['fun']\n",
    "            phi_bot_en = get_val_r_star(e_min, l)\n",
    "        \n",
    "            if target_fun(phi_zero_en) * target_fun(phi_bot_en) < 0 and e_min<0:\n",
    "                en = brentq(lambda en: target_fun(get_val_r_star(en, l)), e_min , 0, xtol=en_tol)\n",
    "                energies.append(en)\n",
    "            else:\n",
    "                break\n",
    "        return np.array(energies)\n",
    "\n",
    "    \n",
    "    x = np.linspace(0.01, 22 , 1001)\n",
    "    p = bplt.figure(title=f'U_0 = {u} Mev', x_axis_label='r,fm', y_axis_label='E, Mev', \n",
    "                    y_range=[-u*1.05, 3], x_range=[-0.1, 8])\n",
    "    #plt.xlim(0, 1.25)\n",
    "    \n",
    "    for l in range(5):\n",
    "        v = l*(l+1) / x**2\n",
    "        \n",
    "        energies = get_energies(l)\n",
    "        lw = 2 if l==0 else 1\n",
    "        if energies.shape[0]:\n",
    "            p.line(x*a*1e15, u*(v+up(x)),color=f'{color[l]}', alpha=0.5, line_width=lw)\n",
    "            n_r = 0\n",
    "            for energy in energies:\n",
    "                opt = scipy.optimize.minimize_scalar(lambda x:(l*(l+1)/x**2 + up(x)),  \n",
    "                                                     bounds=(1e-6, 20), method='bounded')\n",
    "                xi = opt['x']\n",
    "                x_left = brentq(lambda x: l*(l+1)/x**2+up(x) - energy, 1e-6, xi, xtol=1e-4) if l > 0 else 0\n",
    "                x_right = brentq(lambda x: l*(l+1)/x**2+up(x) - energy, xi , 400, xtol=1e-4)\n",
    "                p.line(np.linspace(x_left, x_right, 200)*a*1e15, energy * u, color=f'{color[l]}', \n",
    "                       legend_label= 'l= %.1i, energy = %.2f Mev' % (l, energy*u), line_width=2)\n",
    "                n_r+=1\n",
    "    p.background_fill_color = \"beige\"\n",
    "    p.background_fill_alpha = 0.2\n",
    "    p.legend.location = \"bottom_right\"\n",
    "    bplt.show(p)"
   ]
  }
 ],
 "metadata": {
  "celltoolbar": "Слайд-шоу",
  "kernelspec": {
   "display_name": "Python 3",
   "language": "python",
   "name": "python3"
  },
  "language_info": {
   "codemirror_mode": {
    "name": "ipython",
    "version": 3
   },
   "file_extension": ".py",
   "mimetype": "text/x-python",
   "name": "python",
   "nbconvert_exporter": "python",
   "pygments_lexer": "ipython3",
   "version": "3.8.5"
  },
  "latex_envs": {
   "LaTeX_envs_menu_present": true,
   "autoclose": true,
   "autocomplete": true,
   "bibliofile": "biblio.bib",
   "cite_by": "apalike",
   "current_citInitial": 1,
   "eqLabelWithNumbers": true,
   "eqNumInitial": 1,
   "hotkeys": {
    "equation": "Ctrl-E",
    "itemize": "Ctrl-I"
   },
   "labels_anchors": false,
   "latex_user_defs": false,
   "report_style_numbering": false,
   "user_envs_cfg": false
  },
  "widgets": {
   "application/vnd.jupyter.widget-state+json": {
    "state": {
     "02646c6c5c0147588f2df9ef1347b241": {
      "model_module": "@jupyter-widgets/controls",
      "model_module_version": "1.5.0",
      "model_name": "SliderStyleModel",
      "state": {
       "description_width": ""
      }
     },
     "028f7cd4256f41ce9c48e50045f36f4c": {
      "model_module": "@jupyter-widgets/controls",
      "model_module_version": "1.5.0",
      "model_name": "SliderStyleModel",
      "state": {
       "description_width": ""
      }
     },
     "04d6c8f22fcc4726bd0fe38edcb4e0d1": {
      "model_module": "@jupyter-widgets/base",
      "model_module_version": "1.2.0",
      "model_name": "LayoutModel",
      "state": {}
     },
     "0646c7cd29a54b3286192b32e8c59229": {
      "model_module": "@jupyter-widgets/base",
      "model_module_version": "1.2.0",
      "model_name": "LayoutModel",
      "state": {}
     },
     "13b282c8ecb64364bc305d36f7e1d79c": {
      "model_module": "@jupyter-widgets/base",
      "model_module_version": "1.2.0",
      "model_name": "LayoutModel",
      "state": {}
     },
     "171cd902e461417e8ee809046449fb1e": {
      "model_module": "@jupyter-widgets/base",
      "model_module_version": "1.2.0",
      "model_name": "LayoutModel",
      "state": {}
     },
     "1767b4f6ca7d4074b7e577833bbdd6e4": {
      "model_module": "@jupyter-widgets/controls",
      "model_module_version": "1.5.0",
      "model_name": "ButtonModel",
      "state": {
       "description": "Run Interact",
       "layout": "IPY_MODEL_c9c9a64e1af04aeebf66e12fe983b5a4",
       "style": "IPY_MODEL_f4cd197d26dd40569f10000426f2ce35"
      }
     },
     "177daca3d2f34576b8cf8f7f1e7a87d1": {
      "model_module": "@jupyter-widgets/output",
      "model_module_version": "1.0.0",
      "model_name": "OutputModel",
      "state": {
       "layout": "IPY_MODEL_34aad181d73f4ae38d0e8da2b75208be",
       "outputs": [
        {
         "ename": "NameError",
         "evalue": "name 'brentq' is not defined",
         "output_type": "error",
         "traceback": [
          "\u001b[0;31m---------------------------------------------------------------------------\u001b[0m",
          "\u001b[0;31mNameError\u001b[0m                                 Traceback (most recent call last)",
          "\u001b[0;32m~/anaconda3/envs/test_scipy/lib/python3.8/site-packages/ipywidgets/widgets/interaction.py\u001b[0m in \u001b[0;36mupdate\u001b[0;34m(self, *args)\u001b[0m\n\u001b[1;32m    254\u001b[0m                     \u001b[0mvalue\u001b[0m \u001b[0;34m=\u001b[0m \u001b[0mwidget\u001b[0m\u001b[0;34m.\u001b[0m\u001b[0mget_interact_value\u001b[0m\u001b[0;34m(\u001b[0m\u001b[0;34m)\u001b[0m\u001b[0;34m\u001b[0m\u001b[0;34m\u001b[0m\u001b[0m\n\u001b[1;32m    255\u001b[0m                     \u001b[0mself\u001b[0m\u001b[0;34m.\u001b[0m\u001b[0mkwargs\u001b[0m\u001b[0;34m[\u001b[0m\u001b[0mwidget\u001b[0m\u001b[0;34m.\u001b[0m\u001b[0m_kwarg\u001b[0m\u001b[0;34m]\u001b[0m \u001b[0;34m=\u001b[0m \u001b[0mvalue\u001b[0m\u001b[0;34m\u001b[0m\u001b[0;34m\u001b[0m\u001b[0m\n\u001b[0;32m--> 256\u001b[0;31m                 \u001b[0mself\u001b[0m\u001b[0;34m.\u001b[0m\u001b[0mresult\u001b[0m \u001b[0;34m=\u001b[0m \u001b[0mself\u001b[0m\u001b[0;34m.\u001b[0m\u001b[0mf\u001b[0m\u001b[0;34m(\u001b[0m\u001b[0;34m**\u001b[0m\u001b[0mself\u001b[0m\u001b[0;34m.\u001b[0m\u001b[0mkwargs\u001b[0m\u001b[0;34m)\u001b[0m\u001b[0;34m\u001b[0m\u001b[0;34m\u001b[0m\u001b[0m\n\u001b[0m\u001b[1;32m    257\u001b[0m                 \u001b[0mshow_inline_matplotlib_plots\u001b[0m\u001b[0;34m(\u001b[0m\u001b[0;34m)\u001b[0m\u001b[0;34m\u001b[0m\u001b[0;34m\u001b[0m\u001b[0m\n\u001b[1;32m    258\u001b[0m                 \u001b[0;32mif\u001b[0m \u001b[0mself\u001b[0m\u001b[0;34m.\u001b[0m\u001b[0mauto_display\u001b[0m \u001b[0;32mand\u001b[0m \u001b[0mself\u001b[0m\u001b[0;34m.\u001b[0m\u001b[0mresult\u001b[0m \u001b[0;32mis\u001b[0m \u001b[0;32mnot\u001b[0m \u001b[0;32mNone\u001b[0m\u001b[0;34m:\u001b[0m\u001b[0;34m\u001b[0m\u001b[0;34m\u001b[0m\u001b[0m\n",
          "\u001b[0;32m<ipython-input-8-df23e7dbaa43>\u001b[0m in \u001b[0;36mplot_levels\u001b[0;34m(u)\u001b[0m\n\u001b[1;32m     50\u001b[0m         \u001b[0mv\u001b[0m \u001b[0;34m=\u001b[0m \u001b[0ml\u001b[0m\u001b[0;34m*\u001b[0m\u001b[0;34m(\u001b[0m\u001b[0ml\u001b[0m\u001b[0;34m+\u001b[0m\u001b[0;36m1\u001b[0m\u001b[0;34m)\u001b[0m \u001b[0;34m/\u001b[0m \u001b[0mx\u001b[0m\u001b[0;34m**\u001b[0m\u001b[0;36m2\u001b[0m\u001b[0;34m\u001b[0m\u001b[0;34m\u001b[0m\u001b[0m\n\u001b[1;32m     51\u001b[0m \u001b[0;34m\u001b[0m\u001b[0m\n\u001b[0;32m---> 52\u001b[0;31m         \u001b[0menergies\u001b[0m \u001b[0;34m=\u001b[0m \u001b[0mget_energies\u001b[0m\u001b[0;34m(\u001b[0m\u001b[0ml\u001b[0m\u001b[0;34m)\u001b[0m\u001b[0;34m\u001b[0m\u001b[0;34m\u001b[0m\u001b[0m\n\u001b[0m\u001b[1;32m     53\u001b[0m \u001b[0;34m\u001b[0m\u001b[0m\n\u001b[1;32m     54\u001b[0m         \u001b[0mlw\u001b[0m \u001b[0;34m=\u001b[0m \u001b[0;36m2\u001b[0m \u001b[0;32mif\u001b[0m \u001b[0ml\u001b[0m\u001b[0;34m==\u001b[0m\u001b[0;36m0\u001b[0m \u001b[0;32melse\u001b[0m \u001b[0;36m1\u001b[0m\u001b[0;34m\u001b[0m\u001b[0;34m\u001b[0m\u001b[0m\n",
          "\u001b[0;32m<ipython-input-8-df23e7dbaa43>\u001b[0m in \u001b[0;36mget_energies\u001b[0;34m(l, en_tol)\u001b[0m\n\u001b[1;32m     35\u001b[0m \u001b[0;34m\u001b[0m\u001b[0m\n\u001b[1;32m     36\u001b[0m             \u001b[0;32mif\u001b[0m \u001b[0mtarget_fun\u001b[0m\u001b[0;34m(\u001b[0m\u001b[0mphi_zero_en\u001b[0m\u001b[0;34m)\u001b[0m \u001b[0;34m*\u001b[0m \u001b[0mtarget_fun\u001b[0m\u001b[0;34m(\u001b[0m\u001b[0mphi_bot_en\u001b[0m\u001b[0;34m)\u001b[0m \u001b[0;34m<\u001b[0m \u001b[0;36m0\u001b[0m \u001b[0;32mand\u001b[0m \u001b[0me_min\u001b[0m\u001b[0;34m<\u001b[0m\u001b[0;36m0\u001b[0m\u001b[0;34m:\u001b[0m\u001b[0;34m\u001b[0m\u001b[0;34m\u001b[0m\u001b[0m\n\u001b[0;32m---> 37\u001b[0;31m                 \u001b[0men\u001b[0m \u001b[0;34m=\u001b[0m \u001b[0mbrentq\u001b[0m\u001b[0;34m(\u001b[0m\u001b[0;32mlambda\u001b[0m \u001b[0men\u001b[0m\u001b[0;34m:\u001b[0m \u001b[0mtarget_fun\u001b[0m\u001b[0;34m(\u001b[0m\u001b[0mget_val_r_star\u001b[0m\u001b[0;34m(\u001b[0m\u001b[0men\u001b[0m\u001b[0;34m,\u001b[0m \u001b[0ml\u001b[0m\u001b[0;34m)\u001b[0m\u001b[0;34m)\u001b[0m\u001b[0;34m,\u001b[0m \u001b[0me_min\u001b[0m \u001b[0;34m,\u001b[0m \u001b[0;36m0\u001b[0m\u001b[0;34m,\u001b[0m \u001b[0mxtol\u001b[0m\u001b[0;34m=\u001b[0m\u001b[0men_tol\u001b[0m\u001b[0;34m)\u001b[0m\u001b[0;34m\u001b[0m\u001b[0;34m\u001b[0m\u001b[0m\n\u001b[0m\u001b[1;32m     38\u001b[0m                 \u001b[0menergies\u001b[0m\u001b[0;34m.\u001b[0m\u001b[0mappend\u001b[0m\u001b[0;34m(\u001b[0m\u001b[0men\u001b[0m\u001b[0;34m)\u001b[0m\u001b[0;34m\u001b[0m\u001b[0;34m\u001b[0m\u001b[0m\n\u001b[1;32m     39\u001b[0m             \u001b[0;32melse\u001b[0m\u001b[0;34m:\u001b[0m\u001b[0;34m\u001b[0m\u001b[0;34m\u001b[0m\u001b[0m\n",
          "\u001b[0;31mNameError\u001b[0m: name 'brentq' is not defined"
         ]
        }
       ]
      }
     },
     "1b54f1bce770498ea419f2797ac455a3": {
      "model_module": "@jupyter-widgets/controls",
      "model_module_version": "1.5.0",
      "model_name": "IntSliderModel",
      "state": {
       "description": "u",
       "layout": "IPY_MODEL_13b282c8ecb64364bc305d36f7e1d79c",
       "max": 200,
       "step": 5,
       "style": "IPY_MODEL_6d41870368c6497fa717e5c64cd00753",
       "value": 80
      }
     },
     "1f96f19805ab48f6807bd0ef856b780d": {
      "model_module": "@jupyter-widgets/controls",
      "model_module_version": "1.5.0",
      "model_name": "FloatSliderModel",
      "state": {
       "description": "energy",
       "layout": "IPY_MODEL_6bbe264566c7475e9de8948a1f967eb8",
       "max": 0,
       "min": -1,
       "step": 0.01,
       "style": "IPY_MODEL_2bed2541e5b0440bac4bc0a73281158d",
       "value": -0.35
      }
     },
     "21939a3fbd864fa28a8e20e07dfa48c9": {
      "model_module": "@jupyter-widgets/base",
      "model_module_version": "1.2.0",
      "model_name": "LayoutModel",
      "state": {}
     },
     "2617e601c5d643f6979c6a8e5dddacca": {
      "model_module": "@jupyter-widgets/controls",
      "model_module_version": "1.5.0",
      "model_name": "IntSliderModel",
      "state": {
       "description": "u",
       "layout": "IPY_MODEL_4203ddb209b346ea9df9ee240d292988",
       "max": 200,
       "step": 5,
       "style": "IPY_MODEL_44ca9726f61f41a483cc9da8439cac45",
       "value": 60
      }
     },
     "2701205fbc2044ecb6bc7432a703ad93": {
      "model_module": "@jupyter-widgets/controls",
      "model_module_version": "1.5.0",
      "model_name": "VBoxModel",
      "state": {
       "_dom_classes": [
        "widget-interact"
       ],
       "children": [
        "IPY_MODEL_1f96f19805ab48f6807bd0ef856b780d",
        "IPY_MODEL_cff43d2a239d4118b9d71eb7faf5646f",
        "IPY_MODEL_a9eb8d0d5ae3457c96f7cf9f7a61c7ac",
        "IPY_MODEL_71392265c701494090f5d10d34590f33"
       ],
       "layout": "IPY_MODEL_d53da8866bc945029042cf71c8109760"
      }
     },
     "2875c39a000b4de3afbe905dbac20778": {
      "model_module": "@jupyter-widgets/controls",
      "model_module_version": "1.5.0",
      "model_name": "SliderStyleModel",
      "state": {
       "description_width": ""
      }
     },
     "29a26cee2f6c4ef8bac5fd4a6294560a": {
      "model_module": "@jupyter-widgets/controls",
      "model_module_version": "1.5.0",
      "model_name": "IntSliderModel",
      "state": {
       "description": "u",
       "layout": "IPY_MODEL_db2df6bd13d84aadbf72bfb16833a4e2",
       "max": 200,
       "step": 5,
       "style": "IPY_MODEL_028f7cd4256f41ce9c48e50045f36f4c",
       "value": 100
      }
     },
     "2b12b362813547d1b300810527b0ff85": {
      "model_module": "@jupyter-widgets/base",
      "model_module_version": "1.2.0",
      "model_name": "LayoutModel",
      "state": {}
     },
     "2bed2541e5b0440bac4bc0a73281158d": {
      "model_module": "@jupyter-widgets/controls",
      "model_module_version": "1.5.0",
      "model_name": "SliderStyleModel",
      "state": {
       "description_width": ""
      }
     },
     "3115210c55db40d598a59e14125000a7": {
      "model_module": "@jupyter-widgets/base",
      "model_module_version": "1.2.0",
      "model_name": "LayoutModel",
      "state": {}
     },
     "32a1ba56fab04c4cb17778de06c494d7": {
      "model_module": "@jupyter-widgets/controls",
      "model_module_version": "1.5.0",
      "model_name": "VBoxModel",
      "state": {
       "_dom_classes": [
        "widget-interact"
       ],
       "children": [
        "IPY_MODEL_1b54f1bce770498ea419f2797ac455a3",
        "IPY_MODEL_f32800c4b2c64dae9fa155d14c0109a4",
        "IPY_MODEL_76328caf2db945f8920252ab24cfa816"
       ],
       "layout": "IPY_MODEL_41cd39817f4f4f72b92d5985bf598c2e"
      }
     },
     "33d4fe4739764c99957cffbb9c9e1ce2": {
      "model_module": "@jupyter-widgets/controls",
      "model_module_version": "1.5.0",
      "model_name": "IntSliderModel",
      "state": {
       "description": "l",
       "layout": "IPY_MODEL_8647f9654c0641f6bf983fefc8493fcb",
       "max": 4,
       "style": "IPY_MODEL_b78a75f1a1bd49cb918c8e4ab642f105",
       "value": 1
      }
     },
     "34aad181d73f4ae38d0e8da2b75208be": {
      "model_module": "@jupyter-widgets/base",
      "model_module_version": "1.2.0",
      "model_name": "LayoutModel",
      "state": {}
     },
     "392d16a1c7b44b9bbf180a4e7b11e5e4": {
      "model_module": "@jupyter-widgets/controls",
      "model_module_version": "1.5.0",
      "model_name": "FloatSliderModel",
      "state": {
       "description": "d",
       "layout": "IPY_MODEL_60b2ba31341d47cdb9a6db60b5f31eaa",
       "max": 1.5,
       "min": 0.1,
       "step": 0.05,
       "style": "IPY_MODEL_e3bf51c257f144b883bfb71f53f4e0e3",
       "value": 1.4
      }
     },
     "3c567b4bda34408bad2f81d4ed7db81e": {
      "model_module": "@jupyter-widgets/base",
      "model_module_version": "1.2.0",
      "model_name": "LayoutModel",
      "state": {}
     },
     "3d1b12ffdfd74f60a2bc87196b676586": {
      "model_module": "@jupyter-widgets/base",
      "model_module_version": "1.2.0",
      "model_name": "LayoutModel",
      "state": {}
     },
     "41cd39817f4f4f72b92d5985bf598c2e": {
      "model_module": "@jupyter-widgets/base",
      "model_module_version": "1.2.0",
      "model_name": "LayoutModel",
      "state": {}
     },
     "4203ddb209b346ea9df9ee240d292988": {
      "model_module": "@jupyter-widgets/base",
      "model_module_version": "1.2.0",
      "model_name": "LayoutModel",
      "state": {}
     },
     "44ca9726f61f41a483cc9da8439cac45": {
      "model_module": "@jupyter-widgets/controls",
      "model_module_version": "1.5.0",
      "model_name": "SliderStyleModel",
      "state": {
       "description_width": ""
      }
     },
     "59ca928f14014627b88b3eedf7e30795": {
      "model_module": "@jupyter-widgets/controls",
      "model_module_version": "1.5.0",
      "model_name": "VBoxModel",
      "state": {
       "_dom_classes": [
        "widget-interact"
       ],
       "children": [
        "IPY_MODEL_29a26cee2f6c4ef8bac5fd4a6294560a",
        "IPY_MODEL_b1fe4b522fee43ed8dc4fcedfe4ab583",
        "IPY_MODEL_177daca3d2f34576b8cf8f7f1e7a87d1"
       ],
       "layout": "IPY_MODEL_e4449c9b30ad43b2841e2009fec07c44"
      }
     },
     "60b2ba31341d47cdb9a6db60b5f31eaa": {
      "model_module": "@jupyter-widgets/base",
      "model_module_version": "1.2.0",
      "model_name": "LayoutModel",
      "state": {}
     },
     "64c65721bc754405b57331e34ae37d00": {
      "model_module": "@jupyter-widgets/output",
      "model_module_version": "1.0.0",
      "model_name": "OutputModel",
      "state": {
       "layout": "IPY_MODEL_aea9926350dc428fbe0c8dac607bba3e",
       "outputs": [
        {
         "data": {
          "image/png": "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\n",
          "text/plain": "<Figure size 504x504 with 1 Axes>"
         },
         "metadata": {
          "needs_background": "light"
         },
         "output_type": "display_data"
        }
       ]
      }
     },
     "6bbe264566c7475e9de8948a1f967eb8": {
      "model_module": "@jupyter-widgets/base",
      "model_module_version": "1.2.0",
      "model_name": "LayoutModel",
      "state": {}
     },
     "6d41870368c6497fa717e5c64cd00753": {
      "model_module": "@jupyter-widgets/controls",
      "model_module_version": "1.5.0",
      "model_name": "SliderStyleModel",
      "state": {
       "description_width": ""
      }
     },
     "6e61a261f1ce4e0eb1af4fbc8b34a622": {
      "model_module": "@jupyter-widgets/controls",
      "model_module_version": "1.5.0",
      "model_name": "ButtonStyleModel",
      "state": {}
     },
     "71392265c701494090f5d10d34590f33": {
      "model_module": "@jupyter-widgets/output",
      "model_module_version": "1.0.0",
      "model_name": "OutputModel",
      "state": {
       "layout": "IPY_MODEL_afde5e2ee3a84b388181344080bd2e34",
       "outputs": [
        {
         "data": {
          "image/png": "iVBORw0KGgoAAAANSUhEUgAAAZMAAAEWCAYAAACjYXoKAAAAOXRFWHRTb2Z0d2FyZQBNYXRwbG90bGliIHZlcnNpb24zLjMuMSwgaHR0cHM6Ly9tYXRwbG90bGliLm9yZy/d3fzzAAAACXBIWXMAAAsTAAALEwEAmpwYAAAjgUlEQVR4nO3deZgU5bn+8e/DwLAIOC64ACoiIrgDRgU3cIlrTGISjfuWY0xiImiORk1MXKImRs3PJEbzM2pMXIK7xxzXZBAXNAFEERF32UQUHWVRweE5fzzVTjNMz0LRXd3M/bmuvqa7qrvqqZ6Zvrvet6pec3dERETS6JB1ASIiUvkUJiIikprCREREUlOYiIhIagoTERFJTWEiIiKpKUxERCQ1hYk0ycxqzOwRM3vXzD4ys7fM7Aoz65p1bSJSfhQmUshS4EKgr7uvDXwJGAL8NNOqRKQsKUykSe6+xN2fdPdluUnAcuB9ADNbx8weMLP3zOzD5H7f3OvNbJyZfWpmi8xsvpn9Mm/eTWZ2cd7j/zUzN7OOyeN1zexGM5ubLPveZPpIM5ud97rDk9d9J3l8QvJ4TN5zDkqm5a/vv8zsNTP7wMzuN7PeefO2MbNHk3nvmtm5ZjY82Y5FZrbMzJbmPd40We+TLb2nZtY5We52edM2MLNPzKxXsn3L85a9yMy+X+A9/TR/nWZ2h5nNS/Yix5vZNs3U0TvZ7g+S9+G/kunNbmcTy/mFmd1pZn83s4VmNtnMdsib/xMzez2Z95KZfb3R6wckv5vcOurzfpf9Gv1N7Jz/ezSzF83sK3nL6mRm75vZjsnj3c3saTOrM7NZZnZCMv1gM3vOzD5Opv+ipd+btI7CRJplZreY2SLgPeA9d78qmdUBuBHYDNgU+AT4faOXn+bu3YHdgTPNbNsmlj8S2L7R5L8C3YBtgA2AqxrNx8w6ARcB7zSa9RpwfN7j7wDT8163N3ApcDiwMfA2cHsyrwfwGPAQ0BsYAPzT3Se4e/dkW24Bfp177O4zG9dWiLt/lqzrmLzJRwKPuft7yeO5ecvu7u7X5D23A/CDpI5TGy3+QWBL4v2anNRZyG3A7GQbvwlcYmb7rOJ2fhW4A1gXuBW4N/ndALwO7AGsDVwA/M3MNs57rSXvS26dTzRT86+BOXmPb2bF9/Eg4B13n5IE34PA74BewI7AlOR5i4HjgBrgYOB7Zva1ZtYrraQwkWa5+9FAD2AwMNjMzkimL3D3u5I9mIXAL4G9CiymI1APfJQ/0cyM+JA4P2/axsCBwKnu/qG7L3P3x5tY5neBZ4FXGk1/F3gr+Za9ARF2/86bfzRwg7tPTj7czwGGm1k/4BBgnrtf4e6fuvtCd3+2+Xeozf4CHGVmuf+9Y4nwbI1qovlxJe5+Q1LvZ8AvgB3MbO3GzzOzTYhwPzvZxinA9Ukdq2KSu9+Z7MFeCXQBdk1qusPd57r7cnf/O/AqsHPea7sW2p5GNR9CfFY9ljf5b8BBZtYzeZz/Ph5NBPRtyd/PgmQ7cfdx7j41qekFIlgL/d1KGyhMpEUeXgYuI77VYWbdzOw6M3vbzD4GxgM1ZlaV99KrzawOmEZ8gM9qtOjDgQXAv/KmbQJ84O4fFqon2YM4C/hZgadcT+yRnEB8g83Xm9gbyW3boqSGPsm6Xy+03hbsmjSpfJA0r+zU1JOScFoM7GVmg4i9n/tbuY51gZXeFzOrMrPLkialj4G3klnrN7GM3sT7uzBv2tvE9q+KL36n7r6chj0ezOw4M5uSvC91wLaNatqI2ONtTgdiT/Ks/InuPhd4CviGmdUQX0Bye2MFf49mtouZ1Vo0z35E7OE19T5JGylMpC2qiH4TgDOBrYBd3L0nsGcy3fKe/yN3ryE+BHc3syPz5uWaqc5utI5ZwLrJB0Qh/w2Mdfe3C8x/ENiNaO5q/K1/LrG3EsWarQWsRzShzAK2aGa9zXkm2dZewKOs3OSX7y9EE82xwJ3u/mlLCzez6qTuxntiAEcRzU37Ek1K/XIva+K5c4n3t0fetE1ZsQmpLTbJq7ED0BeYa2abAf8fOA1YL3lvXmxU0xDg+RaWfwIww92faWJe7n38FjDB3XPb0Nzv8VYivDdJDiy5lqbfJ2kjhYk0ycy2NrP/NrP1kseDiQ/+W5On9CD6SerMbF3g580srp7owO+VN+1Y4OmkqeEL7v4OEQbXWHTydzKzPfOe0gM4kWhWa5K71wO/Av7m7h80mn0rcKKZ7WhmnYFLgGfd/S3gAWAjMxtt0Vnew8x2aWa7Cq37I5r/3/or8HXig7DxntNKzKwL0RT4mrs3FSY9gM+IPaxuxDYVqm8W8DRwqZl1MbPtgZNpvo+lOcPM7LCko3x0UsczwFrE7/y9ZBtOJPZMctvUkwiK21pY/nlEU2RT7gWGAqez4vt4C7CvxQEaHc1svVzHPPFefeDun5rZzkQQy2qgMJFC6oCRwJSk6eQO4A/u/ptk/m+JNu/3iQ+Ph5pYxu+Tzvu3gJeBP+fNW4fCzVTHAsuS18wnPqRyegJXN9cMBuDuN7r7pU1M/2ey3ruIzvstgG8n8xYC+wFfAeYRbfyjmltPni+Z2WyLo82OJj7gCtU2m+gkd5rvdM75KTCC6Cxvys1EU9Uc4CXi99GcI4m9l7nAPcDP3f3RVtTRlPuAI4jmt2OBw5J+ipeAK4AJRD/WdkSzVM5EYBBwXe5oLqKz/ve24pFjD7j7q02t2N0/IX6PmwN3502fSXTInwl8QHS+544y+z5woZktJAJ67CputzRiGhxLpPTM7AbiyK2KPW8nOax2gLsf09Jzm3jtW+7er4np1wMXJ3uKrVnO+cDAValBVq+OWRcg0t4kR44dRvQZtFeND+nO+QD4vDULSJpXT2bVj0ST1UjNXCIlZGYXER3Rl7v7m1nXkxV3H15g+llJM2CzLE60nAU86O7jV3d90nZq5hIRkdS0ZyIiIqm1yz6TmpoaHzBgQNZltMnixYtZa621si6jTSqt5kqrF1RzKVRavVC8midNmvS+u/dqal67DJMNN9yQiRMnZl1Gm4wbN46RI0dmXUabVFrNlVYvqOZSqLR6oXg1m1mhE4XVzCUiIukpTEREJDWFiYiIpKYwERGR1BQmIiKSmsJERERSq+gwSQZn2isZ7Ga6mU0zs4JXa82p/uADmDChFCWKiLQLFX05FTObQozjvKG7T04G/JkEfC25BHaTdjLzZztUceuh36Ujy5k2cAiv9t+uRFWvmrq6OmpqarIuo00qreZKqxdUcylUWr1QvJrHnjpikrs3OYpoWZ+0aGYDiPEQFhPja2xKjJswhBhm9JVkdLU5EONRmNn0ZN5LjZZ1CnAKwDCgw/J6jrn3GhxY1rGaP37lu/Rc8jEv9N+e6ZsNLsn2tUV9fT11dXVZl9EmlVZzpdULqrkUKq1eyKhmdy/rGzF4zx7J/XHAdsn9M4CTGj23HzAT6NncMoeBe8eO7tBwq6qKW9eu7k8/7eWmtrY26xLarNJqrrR63VVzKVRave7FqxmY6AU+Vyuhz2Qb4pLdECOzzUju70/e6H5m1p0YdW20u3/c3AI/W399+MMfoGtXqKqCDh0iUurrYelSuP32ImyGiMiaq9ybuboCXdz9QzPbBFjg7kvNrBtQ4+5zk+d1IoLkFne/u5lFArB03XXhlFNgu+1g3DhYbz0YPTqCBODqq+G552L+McfA8CaHXhARkURZhwmwNTA9uT847/4ooBbAzIwYW3y6u1/ZpqUPH94QFLlgGToUxo6FG26AJ56Aa6+Fa66B73439caIiKypyr2ZK7+J6xNgqJkNAg6koYlrN2LYzr3NbEpyO6jNaxo+HM45B/bfHwYMiOYvgOXLI1ygoYdFRERWUNZ7Ju5+c979J4D+AGY2AhiTTH8SsNW64pEjobo6mr2qq+Hcc2P6vffCBRfE4969Y89l5Eg1g4lIu1fWYVKIuw8t6gqGD4d//jOavfLDonNn+PRTOOIIsCS/unSJ5ypQRKQdK/dmruzkmr3yQ+Kgg2DaNDjqqIYmr08+idAREWnHFCZtVVUFp50WhxV36BDNYCNHRqicey7MmpV1hSIiJacwWRW5ZrCLL469kuHD4ckn4de/hv794bjjYOrUrKsUESkZhcmqatwMtt9+8Prrsddy992w/fZw4IGwcGFcVPLSS3VxSRFZYylMVqfNNoOrroKZM+GXv4wmsKlTYZ994Kc/jZ8KFBFZAylMimHddaP/5L774PHH4xDj5cujX+W882DOnKwrFBFZrRQmxZY7Z6VDh7jV1sYezOGHw4wZLb5cRKQSKEyKLb+z/skno19lzJiYljubfs4cWLw42zpFRFJQmJRCfmd9//5w+eXwzjswaFDMHz0a+vSBM86A117LtFQRkVWhMMlKdXXD/dGj48iv3/0OBg6Egw+Gf/0rs9JERNpKYVIOdtsNbrstjgI7/3yYPDn6ViDGWHnkETa95RYdCSYiZUthUk423hh+8Qt4+20466yY9pvfwP77s/n118OoUXFxSRGRMqMwKUfV1dCjR9yfNw/M4rLIn30W1wc7/XR12IusTqU+sXgNXF9FXjW4XTn8cLjuOpZ/9hkdOnaEnXaCRx6JkyMB/vEP2HLL6GsRWZNNmLDylbyb8vnncXXvqqq4ht7SpfDKK/Fl7NNPG25bbw2bbw4PPQSHHhqv69gxRmHddNPox9xuOzq/9x5ceGGcK7Z8eRyFuXw5HHkkbLttLPtPf1p5/ve+F+uYPDkG2cvNnzcv/ofd40rkV1wBTz218nZccknU8eijcNNNK8+/6irYYIM4n63RUOOD58+Pgf569ozaL7wwmsyrquL9W399uPnm+OJ6003w8MMrLruqCv72t7h/3XVxvlwLFCblLjm0+K0bbqD/SSfF488/j3NW6uvh5JPh3XcjZI46Cr797WguEyl3+eGw667w0Ufw/vuwYEH83GgjGDYswuBb34ovTvX18bc/YACcemocZl9XB1ts0RASy5fH8i++OE4SnjcvRlJt7Le/jb38hx+GZcti2rJl8Ic/xP1evSJM5s+Hn/+84XW5c8aGDIkwmT07wqJDhxiaIjf/a1+LMJk3Dx54oGH6xx/HdkBs21NPwTPPrFzfkiXx89134d//Xnn+Z581zJ88eYVZPT75JD4nAJ59tmF99fXw/PMxVHnu1ITZs1d6/ReDAwK8+SZMnNjywIDu3u5uAwcO9EpTW1vb9Iw5c9yvvNJ92LC4KH6HDu5XXFHS2gopWHOZqrR63Suo5oUL3Z97zn3sWH/95JPdDz7YvVMn96oq965d3bt3zw3q0HA78cR47fLl7j17rjhv0CD3G2+M+Z9+6n7aae5nnul+3nnuF13kfvnl7hMmxPwlS9zHjnW//373hx92f/xx92efdX/33Zg/frx7ly4NtTz2mPvixe7Llrm7e+2//uVeXx91rA5PPx3rya3v6adXz3LzrPB3sRrXB0z0Ap+r2jOpdL17x7ezMWPg5Zfh1lvj6DCASZPgssvg6KNjl71z52xrlTXXhAnRdLP55tCtG7z6avy9nXFGzB8y5ItzqPpD9Al+/nlEw9KlcaHUL385ml/WWy9+9u0brzWLpqh99mkY/fSGG1YctO53vytcW9eusWdTyB57xKH4hZrQcnsbq0uhwfeKpUTrU5isSQYNirbRnLffhvHj4c47oaYGvvnNCJY991y9/xzSPs2fH232EybA7rs3NC/l7LJLQ5hcfHE0nQwYwBPvvMMeNTUrhsP55zf/IVfsD8Thw0s7WuoauD6FyZrssMOiY/Gxx2KP5fbbYezYaMPt2jXapmfMiM41jWUvLZk1K85/Gjcufs6bF/0V+SONdugA3/9+dB7njkiEGOo6UV9Xt2rhUOoPYGkThcmarmNHOOCAuC1ZEpfE79o1mheGDYsTJSG+HT70UPxjiwDMnQvrrBN/L1dfHZ3VEFfF3muvOO/p88/jb6Zz54a9jKOOWjFIClE4rFEUJu1Jt27R9ADRJLHjjtEUBnFkyL77wkUXxXXEcm3Z6mdpHyZMiCOOunSJC4/W1sYhr//zP3DIIdEkdeWVESDbb79iM2mp+wCkLClM2quqKjj77Og0Xbo0Hn/jGw2HUL76KuywA4wYER8gI0fCzjuveE0xqXzucVjq3nvHYbUQXzpGjYrzLXJ/D9tsE7dCtJfR7ilM2rPmvlFWV8dx/LW18LOfxbRu3aIpbI894gz86mro1CmLyiWNJUtij+PWW2NsnY03bjjPoqoqBnY777xsa5SKozBp7wp9o+zXr+Es+wUL4qiwceNg8OCYds01cMEFcRTPyJHxTXbYsOijkfL0+ONxSO3dd8OiRXFY+U47NQzgluvz2HvvrCuVCqT/fGnZeuvB178et5zhw+GEE2LP5ZxzYtq668Y4LdXVMG8eljvrVrLhHucaDRsW50r8/e9x6Y0jjmg4RDx3prP6PCQlhYmsmt13jxvE5RzGj4e33mroU/nWt9jtueca+ltGjYo+mPzLNMjqlbs8Sf/+8NJL0Yz12mtxuY4RI+LgiiuvjE72xtTnISkpTCS9DTdc+Qzj0aOZ/5e/0HvGjDhKCOK8l7vuivsvvxwXp9TJk6vHhAkrdqJDPD7nnLh+FMQepkiRKEykOL7xDV5Zbz16jxwZh5o+/njDh9mCBdH3ss46DecrjBwJCxfGHo6aWlpn5kz6jh0Lb7wRe4e5TnSzOFLv0kuzrU/aFYWJFF+fPnEiW07nzvDXv0Z/S20t3HtvTO/UKc5/6dQJfvjDOO9l883jiCMdkhxmzozL49xxBzzzDAMg9grHjFmxE/3QQ7OuVNoZhYmUXvfucMwxcYM4cfLHP4Z77olLZLvD5ZfHDeKbdt++cP/9caLltGlxyez+/SNsNtpozWwuy/WBbL89HHxwTBszJo7GGjIELrmEZzfdlF2OPjrmqRNdMqQwkexttllcEPAf/2j4Zn3bbXF02BtvxHgKb74ZfTMQfTA/+UnD67t0iUOZa2sjWCZOjG/wubBZe+1MNmuVTJgQgxa99loEQ25MijvuiAt1Xngh/OpXMZ4H8En+dbHUiS4ZUphIeSh0AuUee6z83NNPj4GH8oPmjTca+mRuuqlhgCOIvpkttogzvauq4Omn4zyLLJvQ8geGGjIkQmPq1OhDyvV95JjBc89FmDR3FrpIhhQmUj5a+826SxfYaqu4NeWXv4STTmoImTffjKvb5g5L/vWv43wLiA/qPn3gS1+CH/0opo0fH8/Nb0Jr7ZCxjTV+3bJlcXjuz37WsNfRoUPU9NlnDdNyzGJ7Dzmk9esUyYDCRNY8a68d418PHdr0/GuvhTPPXDFsunZtmD9mTMMwpl26RPPanDnRl1NdHcGQG+c793PPPWNMDoj+jY8+iuFZp02L+R07RkjttNOKTXTQcM5OfX0cfLB0aUzv1CmGZT7uODVfSdlTmEj7s9FGcWvchJbrf7j99uizyDWhPfhgw4EBS5fGtJ49G0bgM2sIAIgQ6Nw5roGVGzBq+fJY/vDh0Qx36qmxl1JdHYfw7rxzQw033xz3FSJSQRQmIo1tuWXccg47rPCQsU3JHeo8YcKKr8uNFXP88XHCZlPNZupElwqlMBFpyaqO19Hc6xQasoZRmIi0xqp++Cs0pJ1YA8/0EhGRUlOYiIhIagoTERFJTWEiIiKpKUxERCQ1hYmIiKSmMBERkdQUJiIikprCREREUlOYiIhIagoTERFJTWEiIiKpKUxERCQ1hYmIiKSmMBERkdQUJiIikprCREREUlOYiIhIagoTERFJTWEiIiKpVXSYmNl1ZraXmdWa2XQzm2Zmp2ddl4hIe1PRYQLsArwGnOnug4FdgR+Y2dbZliUi0r6Yu2ddQ0FmNgCYACwG6oBNgQ+BIUAf4AJ3P7zRa+4Dfu/ujzaafgpwCkCvXr2GjR07tuj1r06LFi2ie/fuWZfRJpVWc6XVC6q5FCqtXihezaNGjZrk7js1OdPdy/oG3APskdwfB2yX3D8DOKnRc/sBM4GezS1z4MCBXmlqa2uzLqHNKq3mSqvXXTWXQqXV6168moGJXuBzteNqj642MrPHgI2amHWeu98HbAO8mEwbBMxI7u8PnJi3nO7AXcBod/+4eBWLiEhjmYeJu+9baJ6ZdQW6uPuHZrYJsMDdl5pZN6DG3ecmz+tEBMkt7n53SQoXEZEvlHsH/NbA9OT+4Lz7o4BaADMz4M/AdHe/suQViohI2YdJfhPXJ8BQMxsEHAg8lEzfDTgW2NvMpiS3g0pfqohI+5V5M1dz3P3mvPtPAP0BzGwEMCaZ/iRgmRQoIiJAmYdJIe4+NOsaRESkQbk3c4mISAVQmIiISGoKExERSU1hIiIiqSlMREQkNYWJiIikpjAREZHUFCYiIpKawkRERFJTmIiISGoKExERSU1hIiIiqSlMREQkNYWJiIikpjAREZHUFCYiIpKawkRERFJTmIiISGoKExERSU1hIiIiqSlMREQktY6teZKZfQmoBqa5e11RKxIRkYrTYpiY2b1AX2AWsLWZPQWc5u5LilybiIhUiNY0c20L/AA4wt23Ap4E/ljUqkREpKK0ppnrMuBsYAczWwJMBfYys/2AKe7+XjELFBGR8teaPZOvAGPdfQtgd+BaoAr4NvBQEWsTEZEK0Zo9k+8AN5rZOcCLwFbAQ+5+clErExGRitFimCTNWIeYWW9gO+Ajd3+m6JWJiEjFaNWhwQDuPheYW8RaRESkQumkRRERSU1hIiIiqSlMREQkNYWJiIikpjAREZHUFCYiIpKawkRERFJTmIiISGoKExERSU1hIiIiqSlMREQkNYWJiIikpjAREZHUFCYiIpKawkRERFJTmIiISGoKExERSU1hIiIiqSlMREQkNYWJiIikpjAREZHUFCYiIpKawkRERFJTmIiISGoKExERSU1hIiIiqSlMREQkNYWJiIikpjAREZHUMg8TM+tiZv82s+fNbJqZXdDK111nZnuZWa2ZTU9ee3qx6xURkZWZu2dbgJkBa7n7IjPrBDwJnO7uz7TwuinAwcCG7j7ZzHoAk4CvuftLzb127b5b+gE/u3n1bECJ1NXVUVNTk3UZbVJpNVdavaCaS6HS6oXi1Tz21BGT3H2npuZ1XO1rayOPNFuUPOyU3NzMBgATgMVAHbAp8CEwBOgDvOLuc4A5yXIWmtn0ZN5KYWJmpwCnAHTbsB91dXXF26giqK+vV81FVmn1gmouhUqrFzKq2d0zvwFVwBQiVH6VN/0eYI/k/jhgu+T+GcBJjZbRD5gJ9GxpfQMHDvRKU1tbm3UJbVZpNVdave6quRQqrV734tUMTPQCn6sl2TMxs8eAjZqYdZ673+fu9cCOZlYD3GNm27r7i8A2wIvJcwcBM5L7+wMn5i2/O3AXMNrdPy7SZoiISAElCRN337eVz6szs3HAAWb2OtDF3T80s02ABe6+1My6ATXuPhcg6We5C7jF3e8u0iaIiEgzyuForl7JHglm1hXYF3gZ2BqYnjxtcN79UUBt8nwD/gxMd/crS1i2iIjkyTxMgI2BWjN7AfgP8Ki7P8CKTVyfAEPNbBBwIPBQMn034FhgbzObktwOKm35IiJSDkdzvUAcodV4+s15958A+gOY2QhgTDL9ScBKU6mIiBSSeZi0lbsPzboGERFZUTk0c4mISIVTmIiISGoKExERSU1hIiIiqSlMREQkNYWJiIikpjAREZHUFCYiIpKawkRERFJTmIiISGoKExERSU1hIiIiqSlMREQkNYWJiIikpjAREZHUFCYiIpKawkRERFJTmIiISGoKExERSU1hIiIiqSlMREQkNYWJiIikpjAREZHUFCYiIpKawkRERFJTmIiISGoKExERSU1hIiIiqSlMREQkNYWJiIikpjAREZHUFCYiIpKawkRERFJTmIiISGoKExERSU1hIiIiqSlMREQkNYWJiIikpjAREZHUFCYiIpKawkRERFJTmIiISGoKExERSU1hIiIiqSlMREQkNYWJiIikpjAREZHUFCYiIpKawkRERFJTmIiISGoKExERSU1hIiIiqSlMREQkNYWJiIikpjAREZHUFCYiIpKawkRERFJTmIiISGplESZm9paZTTWzKWY2sZWvuc7M9jKzWjObbmbTzOz0YtcqIiIr65h1AXlGufv7bXj+LsCFwJnuPtnMegCTzOxRd3+pOCWKiEhTyilMVmBmA4AJwGKgDtgU+BAYAvQBXnH3OcAcAHdfaGbTk3kKExGREjJ3z7oGzOxNIigcuM7d/5RMvwe40t2fMLNxwA/dfaqZnQHUufsNecvoB4wHtnX3j5tYxynAKQC9evUaNnbs2CJv1eq1aNEiunfvnnUZbVJpNVdavaCaS6HS6oXi1Txq1KhJ7r5TkzPdveg34DHgxSZuX03m905+bgA8D+yZPH4FWCe5Pw+oTu4/nHtN8rg7MAk4rDX1DBw40CtNbW1t1iW0WaXVXGn1uqvmUqi0et2LVzMw0Qt8rpakmcvd921h/tzk5/xkb2RnM/sP0MXdPzSzTYAF7r7UzLoBNbnXmFkn4C7gFne/u7hbIiIiTcm8z8TM1gI6ePR5rAV8mehY3xqYnjxtcN79UUBt8loD/gxMd/crW7vOV155ZZGZzVhNm1Aq6wNtOUChHFRazZVWL6jmUqi0eqF4NW9WaEbmYQJsCNwTuUBH4FZ3f8jMjiOawgA+AYaa2SDgQODOZPpuwLHAVDObkkw7193/t4V1zvBC7X5lyswmqubiqrR6QTWXQqXVC9nUnHmYuPsbwA5NTL857/4TQH8AMxsBjEmmPwlYaSoVEZFCMg+TtnL3oVnXICIiKyqLM+Az8KesC1gFqrn4Kq1eUM2lUGn1QgY1l8V5JiIiUtna656JiIisRgoTERFJrd2FiZkdYGYzzOw1M/tJ1vW0xMw2qcQrI5tZlZk9Z2YPZF1La5hZjZndaWYvJ+/18Kxrao6ZjUn+Hl40s9vMrEvWNTVmZjeY2XwzezFv2rpm9qiZvZr8XCfLGhsrUPPlyd/FC2Z2j5nVZFjiSpqqOW/ej83MzWz9YtfRrsLEzKqAPxDnqmwNHGlmW2dbVYs+J66MPBjYFfhBBdQMcDoNJ5pWgv8HPOTug4hD1cu2djPrA/wI2MndtwWqgG9nW1WTbgIOaDTtJ8A/3X1L4J/J43JyEyvX/Chxzb/tiUs8nVPqolpwEyvXTHLlkP2AmaUool2FCbAz8Jq7v+HuS4Hbga9mXFOz3P0dd5+c3F9IfMj1ybaq5plZX+Bg4Pqsa2kNM+sJ7ElcTQF3X+rudZkW1bKOQFcz6wh0A+ZmXM9K3H088EGjyV8F/pLc/wvwtVLW1JKmanb3R9z98+ThM0DfkhfWjALvM8BVwFnEBXSLrr2FSR9gVt7j2ZT5B3O+5MrIQ4BnMy6lJb8l/oiXZ1xHa/UH3gNuTJrmrk8u7VOWPIZe+A3xjfMd4CN3fyTbqlptQ3d/B+KLEnFx10pyEvBg1kW0xMwOBea4+/OlWmd7C5OmzpaviGOjzaw7cUHL0d7EJfbLhZkdAsx390lZ19IGHYGhwB/dfQgxhk65Nb98Ieln+CqwOdAbWMvMjsm2qjWfmZ1HNDvfknUtzUkuhnsecH4p19vewmQ2sEne476UYfNAYxV2ZeTdgEPN7C2iGXFvM/tbtiW1aDYw291ze3x3EuFSrvYF3nT399x9GXA3MCLjmlrrXTPbGCD5OT/jelrFzI4HDgGO9vI/OW8L4ovG88n/YV9gspltVMyVtrcw+Q+wpZltbmbVRKfl/RnX1KxVvTJyVtz9HHfv6+79iPf3X+5e1t+a3X0eMMvMtkom7UN5j9Y5E9jVzLolfx/7UMYHDDRyP3B8cv944L4Ma2kVMzsAOBs41N2XZF1PS9x9qrtv4O79kv/D2cDQ5O+8aNpVmCSdaKcRg2tNB8a6+7Rsq2pR7srIe5vZlOR2UNZFrYF+CNxiZi8AOwKXZFtOYcke1J3AZGAq8X9cdpf8MLPbiKG3tzKz2WZ2MnAZsJ+ZvUocaXRZljU2VqDm3wM9gEeT/79rMy2ykQI1l76O8t9jExGRcteu9kxERKQ4FCYiIpKawkRERFJTmIiISGoKExERSU1hIiIiqSlMRMqUBf2PSkXQH6pIGTGzfsl4KtcQJyVu0tJrRMqBTloUKSPJlaHfAEa4+zMZlyPSatozESk/bytIpNIoTETKz+KsCxBpK4WJiIikpjAREZHU1AEvIiKpac9ERERSU5iIiEhqChMREUlNYSIiIqkpTEREJDWFiYiIpKYwERGR1P4PH09d7oyEfIoAAAAASUVORK5CYII=\n",
          "text/plain": "<Figure size 432x288 with 1 Axes>"
         },
         "metadata": {
          "needs_background": "light"
         },
         "output_type": "display_data"
        }
       ]
      }
     },
     "71f1e2792a334f55a5799ace13be94ff": {
      "model_module": "@jupyter-widgets/output",
      "model_module_version": "1.0.0",
      "model_name": "OutputModel",
      "state": {
       "layout": "IPY_MODEL_21939a3fbd864fa28a8e20e07dfa48c9",
       "outputs": [
        {
         "data": {
          "text/html": "\n\n\n\n\n\n  <div class=\"bk-root\" id=\"28371dc3-754a-456e-bef9-9ae366d31585\" data-root-id=\"4803\"></div>\n"
         },
         "metadata": {},
         "output_type": "display_data"
        },
        {
         "data": {
          "application/javascript": "(function(root) {\n  function embed_document(root) {\n    \n  var docs_json = {\"a2ed9149-e351-42e6-aa27-b8a61d4f9e92\":{\"roots\":{\"references\":[{\"attributes\":{\"background_fill_alpha\":0.2,\"background_fill_color\":\"beige\",\"below\":[{\"id\":\"4814\"}],\"center\":[{\"id\":\"4817\"},{\"id\":\"4821\"},{\"id\":\"4856\"}],\"left\":[{\"id\":\"4818\"}],\"renderers\":[{\"id\":\"4839\"},{\"id\":\"4844\"},{\"id\":\"4861\"},{\"id\":\"4879\"},{\"id\":\"4899\"},{\"id\":\"4904\"},{\"id\":\"4928\"},{\"id\":\"4954\"},{\"id\":\"4959\"},{\"id\":\"4989\"},{\"id\":\"4994\"}],\"title\":{\"id\":\"4804\"},\"toolbar\":{\"id\":\"4829\"},\"x_range\":{\"id\":\"4806\"},\"x_scale\":{\"id\":\"4810\"},\"y_range\":{\"id\":\"4808\"},\"y_scale\":{\"id\":\"4812\"}},\"id\":\"4803\",\"subtype\":\"Figure\",\"type\":\"Plot\"},{\"attributes\":{},\"id\":\"4810\",\"type\":\"LinearScale\"},{\"attributes\":{},\"id\":\"4893\",\"type\":\"Selection\"},{\"attributes\":{},\"id\":\"4894\",\"type\":\"UnionRenderers\"},{\"attributes\":{\"axis\":{\"id\":\"4814\"},\"ticker\":null},\"id\":\"4817\",\"type\":\"Grid\"},{\"attributes\":{\"line_alpha\":0.5,\"line_color\":\"blue\",\"x\":{\"field\":\"x\"},\"y\":{\"field\":\"y\"}},\"id\":\"4952\",\"type\":\"Line\"},{\"attributes\":{\"end\":3,\"start\":-45.15},\"id\":\"4808\",\"type\":\"Range1d\"},{\"attributes\":{\"data_source\":{\"id\":\"4841\"},\"glyph\":{\"id\":\"4842\"},\"hover_glyph\":null,\"muted_glyph\":null,\"nonselection_glyph\":{\"id\":\"4843\"},\"selection_glyph\":null,\"view\":{\"id\":\"4845\"}},\"id\":\"4844\",\"type\":\"GlyphRenderer\"},{\"attributes\":{\"axis_label\":\"r,fm\",\"formatter\":{\"id\":\"4848\"},\"ticker\":{\"id\":\"4815\"}},\"id\":\"4814\",\"type\":\"LinearAxis\"},{\"attributes\":{},\"id\":\"4812\",\"type\":\"LinearScale\"},{\"attributes\":{},\"id\":\"5021\",\"type\":\"UnionRenderers\"},{\"attributes\":{\"source\":{\"id\":\"4836\"}},\"id\":\"4840\",\"type\":\"CDSView\"},{\"attributes\":{\"text\":\"U_0 = 43 Mev\"},\"id\":\"4804\",\"type\":\"Title\"},{\"attributes\":{\"label\":{\"value\":\"l= 0, energy = -0.43 Mev\"},\"renderers\":[{\"id\":\"4879\"}]},\"id\":\"4895\",\"type\":\"LegendItem\"},{\"attributes\":{\"data\":{\"x\":{\"__ndarray__\":\"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\",\"dtype\":\"float64\",\"order\":\"little\",\"shape\":[1001]},\"y\":{\"__ndarray__\":\"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\",\"dtype\":\"float64\",\"order\":\"little\",\"shape\":[1001]}},\"selected\":{\"id\":\"4852\"},\"selection_policy\":{\"id\":\"4853\"}},\"id\":\"4836\",\"type\":\"ColumnDataSource\"},{\"attributes\":{\"line_alpha\":0.1,\"line_color\":\"purple\",\"line_width\":2,\"x\":{\"field\":\"x\"},\"y\":{\"field\":\"y\"}},\"id\":\"4838\",\"type\":\"Line\"},{\"attributes\":{\"data\":{\"x\":{\"__ndarray__\":\"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\",\"dtype\":\"float64\",\"order\":\"little\",\"shape\":[200]}},\"selected\":{\"id\":\"5022\"},\"selection_policy\":{\"id\":\"5023\"}},\"id\":\"4991\",\"type\":\"ColumnDataSource\"},{\"attributes\":{},\"id\":\"4815\",\"type\":\"BasicTicker\"},{\"attributes\":{\"source\":{\"id\":\"4896\"}},\"id\":\"4900\",\"type\":\"CDSView\"},{\"attributes\":{\"line_alpha\":0.1,\"line_color\":\"purple\",\"line_width\":2,\"x\":{\"field\":\"x\"},\"y\":{\"value\":-0.4258077243529096}},\"id\":\"4878\",\"type\":\"Line\"},{\"attributes\":{},\"id\":\"5020\",\"type\":\"Selection\"},{\"attributes\":{\"data_source\":{\"id\":\"4991\"},\"glyph\":{\"id\":\"4992\"},\"hover_glyph\":null,\"muted_glyph\":null,\"nonselection_glyph\":{\"id\":\"4993\"},\"selection_glyph\":null,\"view\":{\"id\":\"4995\"}},\"id\":\"4994\",\"type\":\"GlyphRenderer\"},{\"attributes\":{\"data\":{\"x\":{\"__ndarray__\":\"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\",\"dtype\":\"float64\",\"order\":\"little\",\"shape\":[1001]},\"y\":{\"__ndarray__\":\"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\",\"dtype\":\"float64\",\"order\":\"little\",\"shape\":[1001]}},\"selected\":{\"id\":\"4920\"},\"selection_policy\":{\"id\":\"4921\"}},\"id\":\"4896\",\"type\":\"ColumnDataSource\"},{\"attributes\":{\"source\":{\"id\":\"4876\"}},\"id\":\"4880\",\"type\":\"CDSView\"},{\"attributes\":{\"data_source\":{\"id\":\"4896\"},\"glyph\":{\"id\":\"4897\"},\"hover_glyph\":null,\"muted_glyph\":null,\"nonselection_glyph\":{\"id\":\"4898\"},\"selection_glyph\":null,\"view\":{\"id\":\"4900\"}},\"id\":\"4899\",\"type\":\"GlyphRenderer\"},{\"attributes\":{\"data\":{\"x\":{\"__ndarray__\":\"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\",\"dtype\":\"float64\",\"order\":\"little\",\"shape\":[200]}},\"selected\":{\"id\":\"4893\"},\"selection_policy\":{\"id\":\"4894\"}},\"id\":\"4876\",\"type\":\"ColumnDataSource\"},{\"attributes\":{},\"id\":\"5023\",\"type\":\"UnionRenderers\"},{\"attributes\":{\"data_source\":{\"id\":\"4836\"},\"glyph\":{\"id\":\"4837\"},\"hover_glyph\":null,\"muted_glyph\":null,\"nonselection_glyph\":{\"id\":\"4838\"},\"selection_glyph\":null,\"view\":{\"id\":\"4840\"}},\"id\":\"4839\",\"type\":\"GlyphRenderer\"},{\"attributes\":{},\"id\":\"5022\",\"type\":\"Selection\"},{\"attributes\":{\"label\":{\"value\":\"l= 2, energy = -9.92 Mev\"},\"renderers\":[{\"id\":\"4959\"}]},\"id\":\"4985\",\"type\":\"LegendItem\"},{\"attributes\":{\"source\":{\"id\":\"4951\"}},\"id\":\"4955\",\"type\":\"CDSView\"},{\"attributes\":{\"data_source\":{\"id\":\"4876\"},\"glyph\":{\"id\":\"4877\"},\"hover_glyph\":null,\"muted_glyph\":null,\"nonselection_glyph\":{\"id\":\"4878\"},\"selection_glyph\":null,\"view\":{\"id\":\"4880\"}},\"id\":\"4879\",\"type\":\"GlyphRenderer\"},{\"attributes\":{\"end\":8,\"start\":-0.1},\"id\":\"4806\",\"type\":\"Range1d\"},{\"attributes\":{\"line_color\":\"red\",\"line_width\":2,\"x\":{\"field\":\"x\"},\"y\":{\"value\":-3.8478594088556397}},\"id\":\"4926\",\"type\":\"Line\"},{\"attributes\":{},\"id\":\"4874\",\"type\":\"UnionRenderers\"},{\"attributes\":{},\"id\":\"4823\",\"type\":\"WheelZoomTool\"},{\"attributes\":{\"axis_label\":\"E, Mev\",\"formatter\":{\"id\":\"4850\"},\"ticker\":{\"id\":\"4819\"}},\"id\":\"4818\",\"type\":\"LinearAxis\"},{\"attributes\":{\"axis\":{\"id\":\"4818\"},\"dimension\":1,\"ticker\":null},\"id\":\"4821\",\"type\":\"Grid\"},{\"attributes\":{\"line_alpha\":0.1,\"line_color\":\"red\",\"line_width\":2,\"x\":{\"field\":\"x\"},\"y\":{\"value\":-3.8478594088556397}},\"id\":\"4927\",\"type\":\"Line\"},{\"attributes\":{},\"id\":\"4819\",\"type\":\"BasicTicker\"},{\"attributes\":{\"active_drag\":\"auto\",\"active_inspect\":\"auto\",\"active_multi\":null,\"active_scroll\":\"auto\",\"active_tap\":\"auto\",\"tools\":[{\"id\":\"4822\"},{\"id\":\"4823\"},{\"id\":\"4824\"},{\"id\":\"4825\"},{\"id\":\"4826\"},{\"id\":\"4827\"}]},\"id\":\"4829\",\"type\":\"Toolbar\"},{\"attributes\":{\"source\":{\"id\":\"4925\"}},\"id\":\"4929\",\"type\":\"CDSView\"},{\"attributes\":{},\"id\":\"4873\",\"type\":\"Selection\"},{\"attributes\":{\"label\":{\"value\":\"l= 0, energy = -10.49 Mev\"},\"renderers\":[{\"id\":\"4861\"}]},\"id\":\"4875\",\"type\":\"LegendItem\"},{\"attributes\":{},\"id\":\"4827\",\"type\":\"HelpTool\"},{\"attributes\":{\"line_alpha\":0.1,\"line_color\":\"orange\",\"line_width\":2,\"x\":{\"field\":\"x\"},\"y\":{\"value\":-2.3259484666267567}},\"id\":\"4993\",\"type\":\"Line\"},{\"attributes\":{},\"id\":\"4822\",\"type\":\"PanTool\"},{\"attributes\":{\"overlay\":{\"id\":\"4828\"}},\"id\":\"4824\",\"type\":\"BoxZoomTool\"},{\"attributes\":{},\"id\":\"4825\",\"type\":\"SaveTool\"},{\"attributes\":{},\"id\":\"4826\",\"type\":\"ResetTool\"},{\"attributes\":{\"source\":{\"id\":\"4986\"}},\"id\":\"4990\",\"type\":\"CDSView\"},{\"attributes\":{\"source\":{\"id\":\"4991\"}},\"id\":\"4995\",\"type\":\"CDSView\"},{\"attributes\":{\"line_alpha\":0.1,\"line_color\":\"purple\",\"line_width\":2,\"x\":{\"field\":\"x\"},\"y\":{\"value\":-10.488469878555772}},\"id\":\"4860\",\"type\":\"Line\"},{\"attributes\":{\"data_source\":{\"id\":\"4986\"},\"glyph\":{\"id\":\"4987\"},\"hover_glyph\":null,\"muted_glyph\":null,\"nonselection_glyph\":{\"id\":\"4988\"},\"selection_glyph\":null,\"view\":{\"id\":\"4990\"}},\"id\":\"4989\",\"type\":\"GlyphRenderer\"},{\"attributes\":{\"line_alpha\":0.1,\"line_color\":\"blue\",\"x\":{\"field\":\"x\"},\"y\":{\"field\":\"y\"}},\"id\":\"4953\",\"type\":\"Line\"},{\"attributes\":{\"line_color\":\"orange\",\"line_width\":2,\"x\":{\"field\":\"x\"},\"y\":{\"value\":-2.3259484666267567}},\"id\":\"4992\",\"type\":\"Line\"},{\"attributes\":{\"label\":{\"value\":\"l= 0, energy = -27.09 Mev\"},\"renderers\":[{\"id\":\"4844\"}]},\"id\":\"4857\",\"type\":\"LegendItem\"},{\"attributes\":{\"source\":{\"id\":\"4858\"}},\"id\":\"4862\",\"type\":\"CDSView\"},{\"attributes\":{\"line_color\":\"purple\",\"line_width\":2,\"x\":{\"field\":\"x\"},\"y\":{\"value\":-0.4258077243529096}},\"id\":\"4877\",\"type\":\"Line\"},{\"attributes\":{\"data\":{\"x\":{\"__ndarray__\":\"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\",\"dtype\":\"float64\",\"order\":\"little\",\"shape\":[200]}},\"selected\":{\"id\":\"4873\"},\"selection_policy\":{\"id\":\"4874\"}},\"id\":\"4858\",\"type\":\"ColumnDataSource\"},{\"attributes\":{\"items\":[{\"id\":\"4857\"},{\"id\":\"4875\"},{\"id\":\"4895\"},{\"id\":\"4924\"},{\"id\":\"4950\"},{\"id\":\"4985\"},{\"id\":\"5024\"}],\"location\":\"bottom_right\"},\"id\":\"4856\",\"type\":\"Legend\"},{\"attributes\":{\"data_source\":{\"id\":\"4858\"},\"glyph\":{\"id\":\"4859\"},\"hover_glyph\":null,\"muted_glyph\":null,\"nonselection_glyph\":{\"id\":\"4860\"},\"selection_glyph\":null,\"view\":{\"id\":\"4862\"}},\"id\":\"4861\",\"type\":\"GlyphRenderer\"},{\"attributes\":{\"line_alpha\":0.1,\"line_color\":\"orange\",\"x\":{\"field\":\"x\"},\"y\":{\"field\":\"y\"}},\"id\":\"4988\",\"type\":\"Line\"},{\"attributes\":{\"line_color\":\"purple\",\"line_width\":2,\"x\":{\"field\":\"x\"},\"y\":{\"value\":-10.488469878555772}},\"id\":\"4859\",\"type\":\"Line\"},{\"attributes\":{\"label\":{\"value\":\"l= 3, energy = -2.33 Mev\"},\"renderers\":[{\"id\":\"4994\"}]},\"id\":\"5024\",\"type\":\"LegendItem\"},{\"attributes\":{\"data_source\":{\"id\":\"4951\"},\"glyph\":{\"id\":\"4952\"},\"hover_glyph\":null,\"muted_glyph\":null,\"nonselection_glyph\":{\"id\":\"4953\"},\"selection_glyph\":null,\"view\":{\"id\":\"4955\"}},\"id\":\"4954\",\"type\":\"GlyphRenderer\"},{\"attributes\":{\"data\":{\"x\":{\"__ndarray__\":\"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\",\"dtype\":\"float64\",\"order\":\"little\",\"shape\":[200]}},\"selected\":{\"id\":\"4948\"},\"selection_policy\":{\"id\":\"4949\"}},\"id\":\"4925\",\"type\":\"ColumnDataSource\"},{\"attributes\":{},\"id\":\"4855\",\"type\":\"UnionRenderers\"},{\"attributes\":{},\"id\":\"4921\",\"type\":\"UnionRenderers\"},{\"attributes\":{\"data\":{\"x\":{\"__ndarray__\":\"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\",\"dtype\":\"float64\",\"order\":\"little\",\"shape\":[200]}},\"selected\":{\"id\":\"4854\"},\"selection_policy\":{\"id\":\"4855\"}},\"id\":\"4841\",\"type\":\"ColumnDataSource\"},{\"attributes\":{\"line_color\":\"purple\",\"line_width\":2,\"x\":{\"field\":\"x\"},\"y\":{\"value\":-27.08539154051007}},\"id\":\"4842\",\"type\":\"Line\"},{\"attributes\":{\"source\":{\"id\":\"4841\"}},\"id\":\"4845\",\"type\":\"CDSView\"},{\"attributes\":{\"line_alpha\":0.5,\"line_color\":\"red\",\"x\":{\"field\":\"x\"},\"y\":{\"field\":\"y\"}},\"id\":\"4897\",\"type\":\"Line\"},{\"attributes\":{\"line_alpha\":0.5,\"line_color\":\"orange\",\"x\":{\"field\":\"x\"},\"y\":{\"field\":\"y\"}},\"id\":\"4987\",\"type\":\"Line\"},{\"attributes\":{\"line_alpha\":0.1,\"line_color\":\"purple\",\"line_width\":2,\"x\":{\"field\":\"x\"},\"y\":{\"value\":-27.08539154051007}},\"id\":\"4843\",\"type\":\"Line\"},{\"attributes\":{},\"id\":\"4983\",\"type\":\"Selection\"},{\"attributes\":{},\"id\":\"4922\",\"type\":\"Selection\"},{\"attributes\":{},\"id\":\"4848\",\"type\":\"BasicTickFormatter\"},{\"attributes\":{},\"id\":\"4850\",\"type\":\"BasicTickFormatter\"},{\"attributes\":{\"data\":{\"x\":{\"__ndarray__\":\"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\",\"dtype\":\"float64\",\"order\":\"little\",\"shape\":[1001]},\"y\":{\"__ndarray__\":\"aePbrgWvU0H5MaVb0MUeQe2BzjalnAVBMZGml0jR9UBwWmrJSTzqQIvvrjnBfeFAJqDxOqn42EBIZvasELbSQFPrO9BeE81AV4eYxwA8x0DIHmf11PzCQKvksoiDm79AgXeW2wW2ukAXxOjnft22QH6SdJclyrNADUaWd6JKsUBbVMD9RniuQBiPXAUJC6tAZ48hxYAoqEDk8J6A6LSlQCSlb7sYm6NArd/i2rnKoUCWBvWQAjegQGbGXD6oq51AFKXmzSw+m0BXOQVHgBiZQKIpi2z8L5dAvF1WR+J7lUBYOGVB9fSTQOE4rc8tlZJAUAOClX1XkUCSDoWioDeQQFN/2DrxY45ApWjZCt+GjEDl/PqbwNKKQLCujw8IQ4lATx5fNcXTh0ByoDWhjIGGQG9mEzpjSYVAqqq3Xa0ohEB/zJ7lIB2DQJEn5oC5JIJAp4P38649gUAFsJvlbGaAQGNyhuUXO39ARKNVoJfDfUChGsuXHGR8QJm57BKmGntAZp79s2fleUChfAwvw8J4QOP9i91CsXdArqruDJWvdkCNyAfsh7x1QNJUqP8F13RAVanJChP+c0BZhMFZyTBzQP8jl2JXbnJAU+S5rv21cUCU0iQEDQdxQPQhecXkYHBAxVmyA+OFb0DQp7NcV1luQNQ3gwctO21AfXcW+H0qbEDfmITXdSZrQD/VsmdQLmpAJZoaElhBaUDl4Jac5F5oQJ9sz/9ZhmdAauxpWye3ZkBOyqUExvBlQPHicqy4MmVAihtwmop8ZECC/I76zs1jQND0XjsgJmNATEM/ex+FYkDAA+sCdOphQEmjAMzKVWFA1/hNEtbGYEB6OM3uTD1gQEFAu/bVcV9AkE27/N9yXkA4Rsg6P31dQLRx1SyCkFxAKoSc/T2sW0B5VzQPDtBaQERARI2T+1lAEjb0B3UuWUAvqdAWXmhYQDkA7QL/qFdAhKChdwzwVkDaWlI5Pz1WQBZVuOFTkFVA8EM3oQrpVEAHLNEEJ0dUQMAUVsBvqlNAbT52fK4SU0BvpGWor39SQHT2xk5C8VFAXNqa7TdnUUCqRPZQZOFQQK0cSHCdX1BAAIT2m3bDT0DQ4YyyL89OQJsB/6Md4k1AWSeWXPv7TEBgKAoEhxxMQKWwgs+BQ0tA4eGM1q9wSkD/Rc7q16NJQOyDQnLD3EhA9VbVQz4bSEBr/S2GFl9HQJ+zhJAcqEZAd+ddzSL2RUCooQmf/UhFQA02yEWDoERAN6l3x4v8Q0C4Ya/Y8FxDQPa3MceNwUJAsMecZT8qQkA0kkX445ZBQH0IKiNbB0FA1Pzn2IV7QEBekFCVjOY/QKdA3bH/3D5AXGt/Ci7aPUC3ZiDJ4t08QHJV4CTr5ztAx6LOSRb4OkB9iO5BNQ46QG19c98aKjlAZMgiqJtLOEAFtcjBjXI3QH4Usd/InjZAascTMSbQNUBDEGdQgAY1QLpaijOzQTRA3QG9HJyBM0BIbFWMGcYyQFiTLTMLDzJApLy65VFcMUAF0caPz60wQAFWwihnAzBAuzpNUfm5LkDxhsD66XQtQIAhdQFsNyxAj42J3UwBK0AJmVW5W9IpQEgl9l9pqihAFsynLEiJJ0BKfuX6y24mQE7cQBfKWiVAdqLqMBlNJEDtEuJLkUUjQOjMwrMLRCJArP4o72JIIUAUVqSzclIgQHYBZbQvxB5A/Ot0qGDuHEBiSARCNiMbQMvtMIdwYhlAfAJcctGrF0DCza3fHP8VQGjVYXsYXBRAcKDRsIvCEkB8/zSaPzIRQJ9wHuL9VQ9AZ86B/itZDEAVsW0hpW0JQBsKXcsHkwZA23oSS/XIA0B9306kEQ8BQL4ZF+8Gyvw/otRY1eeU9z+IUT0lHX7yP7KsZXcFCus/wgPZ/vFR4T/YHX3JJUvPP5AjmUoiSqe/ho/fHO0K1b+zzTyr0WDjv10tU7fJB+y/roocxrY98r/S/sVvYl72v9QvvD9oZvq/kJt3RkVW/r+oceysORcBwEG5Epi09wLAvgIDPc3MBMAg0cj9u5YGwO+KN9K3VQjAJEiLU/YJCsBEQ57Hq7MLwCNNtysLUw3ARmr1PkboDsDkSi7GxjkQwBS6QzqI+hDA3smAm362EcCG2KZ9wG0SwIqlzexjIBPAHliXcX7OE8DXQj8VJXgUwN/VhGVsHRXA2R90eGi+FcAoLg3wLFsWwDGPy/3M8xbAmCoPZluIF8CKlmeD6hgYwO8Dw0mMpRjAZ9CBSVIuGcDIv2+yTbMZwMPVo1aPNBrA7rtHrSeyGsCSmEfVJiwbwAUv65ecohvADBtZa5gVHMAo7wR1KYUcwHf1CIxe8RzApEtsO0ZaHcA1ClbE7r8dwJYgLiBmIh7AlYisArqBHsBabdfb990ewLXb8NksNx/AnYtU62WNH8AgTUbAr+AfwNnOWGaLGCDAs3LtpFM/IMBMawGctmQgwD0z/i+6iCDAoudaKmSrIMDvhFo6uswgwK8TxPXB7CDA1/eU2YALIcB7k61K/CghwDJreJY5RSHA0fmL8z1gIcCjXkeCDnohwPAPak2wkiHAL7qmSiiqIcD4cjFbe8AhwOpkSUyu1SHAvRi+18XpIcCffnCkxvwhwEnZz0a1DiLATKtSQZYfIsAfxusEbi8iwBKZe/FAPiLArd09VhNMIsBWvTNy6VgiwByMinTHZCLAoTL/fLFvIsAoYT6cq3kiwA6kQdS5giLAA3KpGOCKIsAASxRPIpIiwGf+ck+EmCLALC5a5AmeIsDtI1HLtqIiwJQMHrWOpiLA860PRpWpIsAeqkQWzqsiwH1i8LE8rSLABI2dmeStIsARjW5Cya0iwOOgWxburCLAFvRudFarIsB9p/6wBakiwITd5BX/pSLAx9q14kWiIsAfSfRM3Z0iwNKrQ4DImCLAhxKZngqTIsD9GGrApowiwD9A2vSfhSLAa67mQfl9IsC9YZCktXUiwILiBBHYbCLAfIDFcmNjIsDRJs2sWlkiwOXRtJnATiLALLLWC5hDIsDGBnDN4zciwPe5waCmKyLAG8ovQOMeIsDDiF9enBEiwK65VKbUAyLAOZuNu471IcBo4R06zeYhwIKsyLaS1yHAJoQZv+HHIcBKX3zZvLchwMHBVIUmpyHAH/cTOyGWIcBpc05sr4QhwOBg0IPTciHA92Kx5Y9gIcCPlWfv5k0hwADQ2ffaOiHAzTJxT24nIcAVBypAoxMhwHP2ow18/yDA56Ex9frqIMBfnuctItYgwNDcqujzwCDAeoQ+UHKrIMDYRFGJn5UgwJglirJ9fyDA3tmU5A5pIMCUnC0yVVIgwDKbLKhSOyDAY/SQTQkkIMBjT4sjewwgwM4iEEtU6R/AvGtykjC5H8CHnD/9jogfwExcKmBzVx/AIJCnhOElH8Dufv8o3fMewIhoXgBqwR7AtpfksouOHsCv97XdRVsewLo0CROcJx7Akm822pHzHcA1i8WvKr8dwNcbfAVqih3AWP5qQlNVHcDGnvvC6R8dwOL0/Ngw6hzAEDywyyu0HMARbtXX3X0cwC+Fty9KRxzAx4w4+3MQHMC0hN1XXtkbwIAd2lgMohvAd1IcB4FqG8BF5ldhvzIbwBvHEVzK+hrABl+r4aTCGsBI1G3SUYoawNw+lQTUURrAVtZbRC4ZGsBBHAVUY+AZwOAG6et1pxnAfi9/umhuGcATCGpkPjUZwMYagoT5+xjAKlfhq5zCGMBcb+5hKokYwBhIaCSlTxjAP35xZw8WGMBZBJyVa9wXwNrZ9A+8ohfAId8PLgNpF8BYxxM+Qy8XwJcqxoR+9RbAr7mXPbe7FsCAlbCa74EWwAfL/MQpSBbAmfU43GcOFsBmCP/2q9QVwKRA0yL4mhXA8EAxZE5hFcADV5m2sCcVwGzsnQwh7hTA6CLxT6G0FMALnXJhM3sUwEZzPRnZQRTA/lW2RpQIFMD03JmwZs8TwMQDCxVSlhPAxdOhKVhdE8CEO3qbeiQTwDATQw+76xLAGU5NIRuzEsAAWZtlnHoSwPKk8GdAQhLAt13hqwgKEsApTOKs9tERwB3jWN4LmhHA9Xarq0liEcCMnlF4sSoRwA+95J9E8xDABLQwdgS8EMCZvERH8oQQwBBnhFcPThDA0r+441wXEMCTMUNCuMEPwBLsDXscVQ/AEDqVvujoDsB+ifNKH30OwPrLvU/CEQ7AH1Un7tOmDcB59CU5VjwNwNZHljVL0gzAVURg2rRoDMBD85sQlf8LwL5ftrPtlgvAirOWkcAuC8BYf8NqD8cKwPUriPLbXwrAA5Mazyf5CcDWucCZ9JIJwKuu9t5DLQnA8YKUHhfICMCAYfTLb2MIwDS9GE5P/wfAKpXS/7abB8C6y+cvqDgHwC6OOSEk1gbAIcnqCix0BsCep4YYwRIGwPUZJ2rksQXAsmGbFJdRBcBgn44h2vEEwDdgro+ukgTAcyjRUhU0BMAy9xxUD9YDwM3CLXKdeAPAEuk7gcAbA8DakUJLeb8CwJcBJpDIYwLAd9jZBa8IAsB7PIdYLa4BwG3rsipEVAHATzJjFfT6AMC3yEWoPaIAwGSM1WkhSgDAhDcArz/l/7+umZbLcjf/v2T89ADdiv6/sn9nFX/f/b9FpEm+WTX9v33wT6BtjPy/EznRT7vk+79kiQ9RQz77vxungBgGmfq/0C0WCwT1+b9bP4V+PVL5v1TEjbmysPi/xjlB9GMQ+L+gCUlYUXH3v0NoLAF70/a/gbeV/OA29r+jaJdKg5v1vz9c8N1hAfW/TL1PnHxo9L/2U5he09Dzv1pNI/FlOvO/JHcCFDSl8r+J6kF7PRHyv0MmKc+BfvG/M5R7rADt8L/heLikuVzwvzSVtHxYm++/I94q6q9/7r/EuSx0eGbtvz4+fuiwT+y/fnXIAFg7679O5BFjbCnqv23PNaLsGem/ITlaPtcM6L+IlGSlKgLnv7EvbTPl+eW/Fk4xMwX05L959IPeiPDjvwhkvV5u7+K/mEEpzbPw4b8AanMzV/Tgv97gJhit9N+/hYxthV8F3r9LF1NpwRrcvzoRfGLONNq/cpll9IFT2L/u6y6I13bWvyI8YG3KntS/296u2lXL0r++vL7udPzQv3IswmFFZM6/JCWhI7TYyr9RO9XYK1bHv64uzAyi3MO/BKEOIgxswL+ddUWnvgi6v0Pn0mwhS7O/Fiba6VQ+qb/YSBljDROYv0DhLVlShWA/0AbS6tjumz/ahGOW7cOqPzpfQa0Dt7M/ggA8hPT6uT95JraV8BbAP3dZ2dnwJ8M/xLmZMIcwxj+MaofUvzDJPya6kRenKMw/NU/tYUkYzz8MqX+Y2f/QPzzFJot4b9I/CbU52wfb0z/S+A3kjULVP5Q6gAkRptY/2BN2t5cF2D+YNmJhKGHZP33yyoHJuNo/JBDTmYEM3D+A/8QwV1zdP6FRoNNQqN4/BHqpFHXw3z+N531FZZrgP2bkDumrOuE/U7nLxBHZ4T8sh0UqmnXiP0jwp2xIEOM/opCH4B+p4z+8hLHbI0DkP439+7RX1eQ/j9sXxL5o5T8cUWNhXPrlP2eHveUziuY/REJbqkgY5z9mgZwInqTnP98a41k3L+g/lktq9xe46D98Ox86Qz/pP45xenq8xOk/eDRaEIdI6j/r1d1SpsrqP1HjQZgdS+s/MDu9NfDJ6z9RAl9/IUfsP+h17ce0wuw/VZjFYK087T/otLuZDrXtP3W2/MDbK+4/6E/wIhih7j+38RsKxxTvP/mJBr/rhu8//QsdiIn37z8r3svUUTPwP9kesLIeavA/fi58/Syg8D/Gy7BTftXwPzCtglIUCvE/JPvOlfA98T8yIxC4FHHxPwIDU1KCo/E/aGks/DrV8T867K5LQAbyP2kRYdWTNvI/JcozLDdm8j8QPnnhK5XyP8vl24Rzw/I/EPNVpA/x8j/qBCnMAR7zP9om1oZLSvM/khkWXe518z+Z49HV66DzPwOpG3ZFy/M/dsgnwfz08z9OPEY4Ex70P9Q+3FqKRvQ/5S9epmNu9D/qukmWoJX0P+w7IKRCvPQ/ZmJhR0vi9D/WEIb1uwf1P2Z3+yGWLPU/BWkePttQ9T9O6Ta5jHT1P2bycwCsl/U/UnHnfjq69T/zd4KdOdz1P1ejEcOq/fU/T7U5VI8e9j84YHSz6D72P8FDDUG4XvY/wxkfW/999j8UEpFdv5z2P0hcFKL5uvY/Ld4hgK/Y9j9RFvhM4vX2P1kpmVuTEvc/RhnJ/MMu9z+BJQx/dUr3PwFTpS6pZfc/bxuVVWCA9z9lQpg7nJr3P9LPJiZetPc/my5zWKfN9z/abmkTeeb3P06qrpXU/vc/yIqgG7sW+D808VTfLS74P7q8mRguRfg/A7H0/Lxb+D/weqO/23H4P8vSm5GLh/g/WbuLoc2c+D/63Nkbo7H4Pw/8pSoNxvg/4YnJ9Qza+D9xT9iio+34P2IxIVXSAPk/UgyvLZoT+T/LqElL/CX5P4XGdsr5N/k/xT17xZNJ+T++NlxUy1r5P7x14Iyha/k/JryRghd8+T8CPb5GLoz5PwQleujmm/k/FTWhdEKr+T8Ib9j1Qbr5P7rTj3TmyPk/SjIE9zDX+T+dB0GBIuX5P7JtIhW88vk/dRpXsv7/+T80bWJW6wz6P4+KnvyCGfo/JIY+nsYl+j99mVAytzH6P/1nwK1VPfo/I09ZA6NI+j+awsgjoFP6P+2zoP1NXvo/RwVafa1o+j+XBleNv3L6Pzf95RWFfPo/FLVD/f6F+j9YG54nLo/6Px7iFncTmPo/lSzGy6+g+j94Q70DBKn6P2tRCfsQsfo/ria2i9e4+j8iBNGNWMD6PwZta9eUx/o/Ff+dPI3O+j/wUIuPQtX6P0LWYqC12/o/T8ljPefh+j/eGeAy2Of6P+VgP0uJ7fo/69gBT/vy+j+VWsMEL/j6P2ZdPjEl/fo/KfxOl94B+z/j/PX3Wwb7P/nbWxKeCvs/ZtrTo6UO+z+jDt9ncxL7Pwp4LxgIFvs/jBSrbGQZ+z9x+G4biRz7P9ln0th2H/s/7vFpVy4i+z9pjQpIsCT7P0u2zFn9Jvs/o4wPOhYp+z8K9HuU+yr7P8CzBxOuLPs/RJf4XS4u+z8Rj+cbfS/7P3fRw/GaMPs/ePvVgogx+z8YMcNwRjL7P5o9kFvVMvs/3LKk4TUz+z8oCM6faDP7Pw+4QjFuM/s/Sl2lL0cz+z9bzgcz9DL7Pw447tF1Mvs/XzZSocwx+z/566U0+TD7P+cX1x38L/s/oilS7dUu+z8iUwUyhy37P+GYY3kQLPs/0t9nT3Iq+z8n+Zc+rSj7P6CrB9DBJvs/mLpbi7Ak+z9g6sz2eSL7PzgCK5ceIPs/aMvf754d+z+YDfKC+xr7P2WICNE0GPs/8ulsWUsV+z97wg6aPxL7P8R0hg8SD/s/gCMYNcML+z9lm7aEUwj7P/M5BnfDBPs/+dBfgxMB+z+ehtMfRP36P/SxK8FV+fo/FrTv2kj1+j+OzWbfHfH6P0nwmj/V7Po/xI1ba2/o+j98YUDR7OP6P6o3rN5N3/o/M7DP/5La+j+o/aufvNX6P3ygFSjL0Po/VB63Ab/L+j88tROUmMb6PxoLikVYwfo/39hWe/67+j/kkZeZi7b6PxsHTQMAsfo/GwZeGlyr+j8v9Jk/oKX6Pydlu9LMn/o/D65qMuKZ+j+oc0C84JP6P7g0yMzIjfo/MdCCv5qH+j8HB+nuVoH6P8r5bbT9evo/FaKBaI90+j+aR5NiDG76Pw/xE/l0Z/o/pdB4gclg+j9UrD1QClr6P99B57g3U/o/aqYFDlJM+j/qoTahWUX6PyYGKMNOPvo/gQGawzE3+j9ibWHxAjD6P1gYaprCKPo/7Qu5C3Eh+j8ezm6RDhr6P6OeyXabEvo/xa8nBhgL+j8CWwmJhAP6P1ZRE0jh+/k/VMcQiy70+T/VnPWYbOz5P36A4Leb5Pk/8A4dLbzc+T/M7SU9ztT5P2LipivSzPk/LuR+O8jE+T8iK8KusLz5P6k5vMaLtPk/k+Lxw1ms+T+rSiPmGqT5P0LmTWzPm/k/gnKulHeT+T+Z6sKcE4v5P8p4TMGjgvk/XGNRPih6+T9u9R5PoXH5P7ZjSy4Pafk/Ma23FXJg+T/Id5E+ylf5P9roVOEXT/k/13nONVtG+T/dyBxzlD35Pzxlss/DNPk/G5hXgekr+T88KSy9BSP5P58fqbcYGvk/bn6ipCIR+T/2/Ui3Iwj5P7fAKyIc//g/rQQ6Fwz2+D+z0MTH8+z4Py2egGTT4/g/1/6GHava+D/ePlgie9H4Py8D3aFDyPg/FORnygS/+D8nBLfJvrX4P4Cj9cxxrPg/Ta+9AB6j+D/STRmRw5n4P6tmhKlikPg/lSfudPuG+D+dhbodjn34P8C6w80adPg/BMBbrqFq+D8nxE3oImH4P6ye36OeV/g/lT/TCBVO+D+tG2g+hkT4P1SVXGvyOvg/AWLvtVkx+D9Y7OBDvCf4P/CydDoaHvg/xaNyvnMU+D9pdCj0yAr4P+T2av8ZAfg/WGuXA2f39z93zpQjsO33P7gk1YH14/c/asJWQDfa9z+UkKWAddD3P8lO3GOwxvc/zNGlCui89z8iPz6VHLP3P6dFdCNOqfc/CFOq1Hyf9z82xtfHqJX3P/ceihvSi/c/Yyrm7fiB9z9yLKlcHXj3P70GKoU/bvc/MVxahF9k9z/5scd2fVr3P4yNnHiZUPc/5Y+hpbNG9z/kjT4ZzDz3P/6le+7iMvc/DFMCQPgo9z9sfB4oDB/3P4CDv8AeFfc/RU55IzAL9z94T4VpQAH3P/eLw6tP9/Y/f527Al7t9j/bsp2Ga+P2P32NQ0942fY/fXwxdITP9j8ZVZcMkMX2P6poUS+bu/Y/HXjp8qWx9j/qpJdtsKf2P6xfQ7W6nfY/L1SE38ST9j8iU6MBz4n2P3E5mzDZf/Y/ItUZgeN19j/8x4AH7mv2P7hn5tf4YfY/BZwWBgRY9j8gupOlD072P0Jel8kbRPY/zUIThSg69j8eFbLqNTD2P2FI2AxEJvY/BOak/VIc9j8cXPLOYhL2P5dJV5JzCPY/UEgnWYX+9T8PtXM0mPT1P111DDWs6vU/aLuAa8Hg9T+0xx/o19b1P9+o+brvzPU/Xvnf8wjD9T8em2aiI7n1P15x5NU/r/U/Zxh0nV2l9T9um/QHfZv1P3AoCiSekfU/TcIeAMGH9T/a8GKq5X31PyZvzjAMdPU/79cgoTRq9T8nUOIIX2D1P8IvZHWLVvU/rqjB87lM9T/2a+CQ6kL1PzxNcVkdOfU/XOTwWVIv9T9hLaieiSX1P7wmrTPDG/U/zm3jJP8R9T+72fx9PQj1P6IUekp+/vQ/HzOrlcH09D8uSrBqB+v0P30DetRP4fQ/EzDK3ZrX9D9pWTSR6M30P/JQHvk4xPQ/Er7AH4y69D+LqicP4rD0P2oNM9E6p/Q/YlSXb5ad9D+8693z9JP0P7/EZWdWivQ/ntpj07qA9D8ItuNAInf0Pyrvx7iMbfQ/Wa7KQ/pj9D9YK37qalr0Px8rTbXeUPQ/Wnx7rFVH9D+JcibYzz30P7FfRUBNNPQ/yAyq7M0q9D/SMAHlUSH0P5bm0jDZF/Q/ICGD12MO9D/xHlLg8QT0P+DbXFKD+/M/wIGdNBjy8z/W1+uNsOjzP+6w/WRM3/M/WlhnwOvV8z+s/ZumjszzPz8f7h01w/M/jvOPLN+58z9s0ZPYjLDzP/qW7Cc+p/M/kA9uIPOd8z96WM3Hq5TzP4lEoSNoi/M/m75iOSiC8z/7Km0O7HjzP6vH/qezb/M/nQs5C39m8z/jBCE9Tl3zP7W1n0IhVPM/jHCCIPhK8z8ZM3vb0kHzP0sAIXixOPM/QTnw+pMv8z9C9UpoeibzP7dYecRkHfM/J+upE1MU8z887PFZRQvzP9SnTZs7AvM/Ecmg2zX58j+LrLYeNPDyP4ixQmg25/I/RIrguzze8j9aixQdR9XyP0D6S49VzPI/2VrdFWjD8j8vvAi0frryP0oE+GyZsfI/Gzu/Q7io8j+l1Fw725/yPzz6uVYCl/I/6dKqmC2O8j8Gy+4DXYXyPwzbMJuQfPI/d80HYchz8j/3g/ZXBGvyP887bIJEYvI/W9HE4ohZ8j/jAkl70VDyP6WyLk4eSPI/DCiZXW8/8j8zUJmrxDbyP7X9LToeLvI/oSdEC3wl8j/RJ7cg3hzyP3f4UHxEFPI/+HDKH68L8j8QgssMHgPyP09x60SR+vE/zhOxyQjy8T9KCJOchOnxP4jw974E4fE/Eqo2MonY8T9Chpb3EdDxP66BTxCfx/E/8nqKfTC/8T/BaGFAxrbxP2+P31lgrvE/yrUBy/6l8T9SWbaUoZ3xP9/h3bdIlfE/qtRKNfSM8T+sBsINpITxP3vO+kFYfPE/ijWf0hB08T/KKEzAzWvxP72okQuPY/E/BvnytFRb8T9Tz+a8HlPxP8KB1yPtSvE/xTQj6r9C8T9hCBwQlzrxP/tECJZyMvE/lYcifFIq8T977ZnCNiLxP3k/kmkfGvE/iRwkcQwS8T/2I13Z/QnxPwcfQKLzAfE/MCrFy+358D+y3dlV7PHwP9F1YUDv6fA/hvo0i/bh8D+5ZiM2AtrwP/zO8UAS0vA/5IdbqybK8D/LSxJ1P8LwPw==\",\"dtype\":\"float64\",\"order\":\"little\",\"shape\":[1001]}},\"selected\":{\"id\":\"5020\"},\"selection_policy\":{\"id\":\"5021\"}},\"id\":\"4986\",\"type\":\"ColumnDataSource\"},{\"attributes\":{\"line_alpha\":0.5,\"line_color\":\"purple\",\"line_width\":2,\"x\":{\"field\":\"x\"},\"y\":{\"field\":\"y\"}},\"id\":\"4837\",\"type\":\"Line\"},{\"attributes\":{},\"id\":\"4852\",\"type\":\"Selection\"},{\"attributes\":{},\"id\":\"4853\",\"type\":\"UnionRenderers\"},{\"attributes\":{},\"id\":\"4854\",\"type\":\"Selection\"},{\"attributes\":{},\"id\":\"4920\",\"type\":\"Selection\"},{\"attributes\":{\"line_alpha\":0.1,\"line_color\":\"blue\",\"line_width\":2,\"x\":{\"field\":\"x\"},\"y\":{\"value\":-9.918017962657233}},\"id\":\"4958\",\"type\":\"Line\"},{\"attributes\":{},\"id\":\"4984\",\"type\":\"UnionRenderers\"},{\"attributes\":{\"label\":{\"value\":\"l= 1, energy = -3.85 Mev\"},\"renderers\":[{\"id\":\"4928\"}]},\"id\":\"4950\",\"type\":\"LegendItem\"},{\"attributes\":{\"line_alpha\":0.1,\"line_color\":\"red\",\"line_width\":2,\"x\":{\"field\":\"x\"},\"y\":{\"value\":-18.295164632628648}},\"id\":\"4903\",\"type\":\"Line\"},{\"attributes\":{\"data_source\":{\"id\":\"4925\"},\"glyph\":{\"id\":\"4926\"},\"hover_glyph\":null,\"muted_glyph\":null,\"nonselection_glyph\":{\"id\":\"4927\"},\"selection_glyph\":null,\"view\":{\"id\":\"4929\"}},\"id\":\"4928\",\"type\":\"GlyphRenderer\"},{\"attributes\":{\"bottom_units\":\"screen\",\"fill_alpha\":0.5,\"fill_color\":\"lightgrey\",\"left_units\":\"screen\",\"level\":\"overlay\",\"line_alpha\":1.0,\"line_color\":\"black\",\"line_dash\":[4,4],\"line_width\":2,\"right_units\":\"screen\",\"top_units\":\"screen\"},\"id\":\"4828\",\"type\":\"BoxAnnotation\"},{\"attributes\":{\"line_color\":\"red\",\"line_width\":2,\"x\":{\"field\":\"x\"},\"y\":{\"value\":-18.295164632628648}},\"id\":\"4902\",\"type\":\"Line\"},{\"attributes\":{},\"id\":\"4949\",\"type\":\"UnionRenderers\"},{\"attributes\":{\"label\":{\"value\":\"l= 1, energy = -18.30 Mev\"},\"renderers\":[{\"id\":\"4904\"}]},\"id\":\"4924\",\"type\":\"LegendItem\"},{\"attributes\":{\"source\":{\"id\":\"4956\"}},\"id\":\"4960\",\"type\":\"CDSView\"},{\"attributes\":{},\"id\":\"4948\",\"type\":\"Selection\"},{\"attributes\":{\"data_source\":{\"id\":\"4956\"},\"glyph\":{\"id\":\"4957\"},\"hover_glyph\":null,\"muted_glyph\":null,\"nonselection_glyph\":{\"id\":\"4958\"},\"selection_glyph\":null,\"view\":{\"id\":\"4960\"}},\"id\":\"4959\",\"type\":\"GlyphRenderer\"},{\"attributes\":{\"source\":{\"id\":\"4901\"}},\"id\":\"4905\",\"type\":\"CDSView\"},{\"attributes\":{},\"id\":\"4982\",\"type\":\"UnionRenderers\"},{\"attributes\":{\"data\":{\"x\":{\"__ndarray__\":\"9VlZr3GIAUCZd1i096kBQD2VV7l9ywFA4rJWvgPtAUCG0FXDiQ4CQCruVMgPMAJAzgtUzZVRAkBzKVPSG3MCQBdHUtehlAJAu2RR3Ce2AkBgglDhrdcCQAOgT+Yz+QJAqL1O67kaA0BM203wPzwDQPD4TPXFXQNAlRZM+kt/A0A5NEv/0aADQN1RSgRYwgNAgW9JCd7jA0AljUgOZAUEQMqqRxPqJgRAbshGGHBIBEAT5kUd9mkEQLYDRSJ8iwRAWyFEJwKtBED/PkMsiM4EQKNcQjEO8ARAR3pBNpQRBUDrl0A7GjMFQI+1P0CgVAVAM9M+RSZ2BUDX8D1KrJcFQHsOPU8yuQVAICw8VLjaBUDESTtZPvwFQGhnOl7EHQZADIU5Y0o/BkCwojho0GAGQFXAN21WggZA+d02ctyjBkCe+zV3YsUGQEIZNXzo5gZA5TY0gW4IB0CKVDOG9CkHQC5yMot6SwdA048xkABtB0B2rTCVho4HQBrLL5oMsAdAv+gun5LRB0BjBi6kGPMHQAgkLameFAhArEEsriQ2CEBRXyuzqlcIQPV8KrgweQhAmJopvbaaCEA9uCjCPLwIQOHVJ8fC3QhAhvMmzEj/CEApESbRziAJQM0uJdZUQglAckwk29pjCUAWaiPgYIUJQLuHIuXmpglAX6Uh6mzICUADwyDv8ukJQKfgH/R4CwpAS/4e+f4sCkDvGx7+hE4KQJM5HQMLcApAOFccCJGRCkDbdBsNF7MKQH+SGhKd1ApAJLAZFyP2CkDIzRgcqRcLQG3rFyEvOQtAEQkXJrVaC0C2JhYrO3wLQFlEFTDBnQtA/WEUNUe/C0CifxM6zeALQEadEj9TAgxA6boRRNkjDECO2BBJX0UMQDL2D07lZgxA1xMPU2uIDEB8MQ5Y8akMQB9PDV13ywxAxGwMYv3sDEBpigtngw4NQAyoCmwJMA1AscUJcY9RDUBU4wh2FXMNQPcACHublA1AnB4HgCG2DUBBPAaFp9cNQOZZBYot+Q1AiXcEj7MaDkAulQOUOTwOQNOyApm/XQ5Ad9ABnkV/DkAb7gCjy6AOQL4LAKhRwg5AYyn/rNfjDkAHR/6xXQUPQKtk/bbjJg9AToL8u2lID0Dzn/vA72kPQJe9+sV1iw9APNv5yvusD0Df+PjPgc4PQIQW+NQH8A9AFZr77MYIEEDnKHvviRkQQLm3+vFMKhBAikZ69A87EEBc1fn20ksQQC5kefmVXBBAAfP4+1htEEDTgXj+G34QQKUQ+ADfjhBAd593A6KfEEBKLvcFZbAQQBy9dggowRBA7kv2CuvREEC/2nUNruIQQJJp9Q9x8xBAZPh0EjQEEUA2h/QU9xQRQAgWdBe6JRFA2qTzGX02EUCsM3McQEcRQH7C8h4DWBFAUVFyIcZoEUAi4PEjiXkRQPVucSZMihFAx/3wKA+bEUCZjHAr0qsRQGsb8C2VvBFAPapvMFjNEUAOOe8yG94RQOHHbjXe7hFAs1buN6H/EUCG5W06ZBASQFd07TwnIRJAKgNtP+oxEkD8kexBrUISQM8gbERwUxJAoK/rRjNkEkByPmtJ9nQSQETN6ku5hRJAFlxqTnyWEkDo6ulQP6cSQLt5aVMCuBJAjAjpVcXIEkBfl2hYiNkSQDEm6FpL6hJABLVnXQ77EkDVQ+df0QsTQKjSZmKUHBNAeWHmZFctE0BM8GVnGj4TQB5/5WndThNA8A1lbKBfE0DBnORuY3ATQJQrZHEmgRNAZrrjc+mRE0A4SWN2rKITQArY4nhvsxNA3GZiezLEE0Cv9eF99dQTQIGEYYC45RNAUxPhgnv2E0AkomCFPgcUQPYw4IcBGBRAyL9fisQoFECbTt+MhzkUQGzdXo9KShRAP2zekQ1bFEAR+12U0GsUQOSJ3ZaTfBRAtRhdmVaNFECIp9ybGZ4UQFo2XJ7crhRALcXboJ+/FED9U1ujYtAUQNDi2qUl4RRAoXFaqOjxFEB0ANqqqwIVQEaPWa1uExVAGR7ZrzEkFUDqrFiy9DQVQL072LS3RRVAj8pXt3pWFUBhWde5PWcVQDPoVrwAeBVABXfWvsOIFUDWBVbBhpkVQKmU1cNJqhVAeyNVxgy7FUBNstTIz8sVQA==\",\"dtype\":\"float64\",\"order\":\"little\",\"shape\":[200]}},\"selected\":{\"id\":\"4983\"},\"selection_policy\":{\"id\":\"4984\"}},\"id\":\"4956\",\"type\":\"ColumnDataSource\"},{\"attributes\":{\"data\":{\"x\":{\"__ndarray__\":\"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\",\"dtype\":\"float64\",\"order\":\"little\",\"shape\":[200]}},\"selected\":{\"id\":\"4922\"},\"selection_policy\":{\"id\":\"4923\"}},\"id\":\"4901\",\"type\":\"ColumnDataSource\"},{\"attributes\":{\"data\":{\"x\":{\"__ndarray__\":\"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\",\"dtype\":\"float64\",\"order\":\"little\",\"shape\":[1001]},\"y\":{\"__ndarray__\":\"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\",\"dtype\":\"float64\",\"order\":\"little\",\"shape\":[1001]}},\"selected\":{\"id\":\"4981\"},\"selection_policy\":{\"id\":\"4982\"}},\"id\":\"4951\",\"type\":\"ColumnDataSource\"},{\"attributes\":{},\"id\":\"4923\",\"type\":\"UnionRenderers\"},{\"attributes\":{},\"id\":\"4981\",\"type\":\"Selection\"},{\"attributes\":{\"line_color\":\"blue\",\"line_width\":2,\"x\":{\"field\":\"x\"},\"y\":{\"value\":-9.918017962657233}},\"id\":\"4957\",\"type\":\"Line\"},{\"attributes\":{\"line_alpha\":0.1,\"line_color\":\"red\",\"x\":{\"field\":\"x\"},\"y\":{\"field\":\"y\"}},\"id\":\"4898\",\"type\":\"Line\"},{\"attributes\":{\"data_source\":{\"id\":\"4901\"},\"glyph\":{\"id\":\"4902\"},\"hover_glyph\":null,\"muted_glyph\":null,\"nonselection_glyph\":{\"id\":\"4903\"},\"selection_glyph\":null,\"view\":{\"id\":\"4905\"}},\"id\":\"4904\",\"type\":\"GlyphRenderer\"}],\"root_ids\":[\"4803\"]},\"title\":\"Bokeh Application\",\"version\":\"2.2.3\"}};\n  var render_items = [{\"docid\":\"a2ed9149-e351-42e6-aa27-b8a61d4f9e92\",\"root_ids\":[\"4803\"],\"roots\":{\"4803\":\"28371dc3-754a-456e-bef9-9ae366d31585\"}}];\n  root.Bokeh.embed.embed_items_notebook(docs_json, render_items);\n\n  }\n  if (root.Bokeh !== undefined) {\n    embed_document(root);\n  } else {\n    var attempts = 0;\n    var timer = setInterval(function(root) {\n      if (root.Bokeh !== undefined) {\n        clearInterval(timer);\n        embed_document(root);\n      } else {\n        attempts++;\n        if (attempts > 100) {\n          clearInterval(timer);\n          console.log(\"Bokeh: ERROR: Unable to run BokehJS code because BokehJS library is missing\");\n        }\n      }\n    }, 10, root)\n  }\n})(window);",
          "application/vnd.bokehjs_exec.v0+json": ""
         },
         "metadata": {
          "application/vnd.bokehjs_exec.v0+json": {
           "id": "4803"
          }
         },
         "output_type": "display_data"
        }
       ]
      }
     },
     "76328caf2db945f8920252ab24cfa816": {
      "model_module": "@jupyter-widgets/output",
      "model_module_version": "1.0.0",
      "model_name": "OutputModel",
      "state": {
       "layout": "IPY_MODEL_7be2d712fc4a423d8c170f1dfa1c47d9",
       "outputs": [
        {
         "data": {
          "text/html": "\n\n\n\n\n\n  <div class=\"bk-root\" id=\"3a9ca98d-a0ec-4aa0-800a-7f68396b3b99\" data-root-id=\"3556\"></div>\n"
         },
         "metadata": {},
         "output_type": "display_data"
        },
        {
         "data": {
          "application/javascript": "(function(root) {\n  function embed_document(root) {\n    \n  var docs_json = {\"af31285d-d3ae-4430-ba71-b9a1a5ad6b23\":{\"roots\":{\"references\":[{\"attributes\":{\"background_fill_alpha\":0.2,\"background_fill_color\":\"beige\",\"below\":[{\"id\":\"3567\"}],\"center\":[{\"id\":\"3570\"},{\"id\":\"3574\"},{\"id\":\"3609\"}],\"left\":[{\"id\":\"3571\"}],\"renderers\":[{\"id\":\"3592\"},{\"id\":\"3597\"},{\"id\":\"3614\"},{\"id\":\"3632\"},{\"id\":\"3637\"},{\"id\":\"3659\"},{\"id\":\"3683\"},{\"id\":\"3688\"}],\"title\":{\"id\":\"3557\"},\"toolbar\":{\"id\":\"3582\"},\"x_range\":{\"id\":\"3559\"},\"x_scale\":{\"id\":\"3563\"},\"y_range\":{\"id\":\"3561\"},\"y_scale\":{\"id\":\"3565\"}},\"id\":\"3556\",\"subtype\":\"Figure\",\"type\":\"Plot\"},{\"attributes\":{\"line_color\":\"red\",\"line_width\":2,\"x\":{\"field\":\"x\"},\"y\":{\"value\":-34.2313113283048}},\"id\":\"3635\",\"type\":\"Line\"},{\"attributes\":{\"axis_label\":\"r,fm\",\"formatter\":{\"id\":\"3601\"},\"ticker\":{\"id\":\"3568\"}},\"id\":\"3567\",\"type\":\"LinearAxis\"},{\"attributes\":{\"text\":\"U_0 = 80 Mev\"},\"id\":\"3557\",\"type\":\"Title\"},{\"attributes\":{},\"id\":\"3607\",\"type\":\"Selection\"},{\"attributes\":{\"data\":{\"x\":{\"__ndarray__\":\"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\",\"dtype\":\"float64\",\"order\":\"little\",\"shape\":[200]}},\"selected\":{\"id\":\"3607\"},\"selection_policy\":{\"id\":\"3608\"}},\"id\":\"3594\",\"type\":\"ColumnDataSource\"},{\"attributes\":{\"axis\":{\"id\":\"3567\"},\"ticker\":null},\"id\":\"3570\",\"type\":\"Grid\"},{\"attributes\":{\"line_color\":\"purple\",\"line_width\":2,\"x\":{\"field\":\"x\"},\"y\":{\"value\":-52.50976380979701}},\"id\":\"3595\",\"type\":\"Line\"},{\"attributes\":{},\"id\":\"3572\",\"type\":\"BasicTicker\"},{\"attributes\":{},\"id\":\"3563\",\"type\":\"LinearScale\"},{\"attributes\":{},\"id\":\"3568\",\"type\":\"BasicTicker\"},{\"attributes\":{\"source\":{\"id\":\"3629\"}},\"id\":\"3633\",\"type\":\"CDSView\"},{\"attributes\":{\"data\":{\"x\":{\"__ndarray__\":\"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\",\"dtype\":\"float64\",\"order\":\"little\",\"shape\":[200]}},\"selected\":{\"id\":\"3677\"},\"selection_policy\":{\"id\":\"3678\"}},\"id\":\"3656\",\"type\":\"ColumnDataSource\"},{\"attributes\":{\"line_alpha\":0.1,\"line_color\":\"blue\",\"line_width\":2,\"x\":{\"field\":\"x\"},\"y\":{\"value\":-16.129559748957117}},\"id\":\"3687\",\"type\":\"Line\"},{\"attributes\":{},\"id\":\"3677\",\"type\":\"Selection\"},{\"attributes\":{\"data_source\":{\"id\":\"3589\"},\"glyph\":{\"id\":\"3590\"},\"hover_glyph\":null,\"muted_glyph\":null,\"nonselection_glyph\":{\"id\":\"3591\"},\"selection_glyph\":null,\"view\":{\"id\":\"3593\"}},\"id\":\"3592\",\"type\":\"GlyphRenderer\"},{\"attributes\":{},\"id\":\"3652\",\"type\":\"UnionRenderers\"},{\"attributes\":{\"source\":{\"id\":\"3594\"}},\"id\":\"3598\",\"type\":\"CDSView\"},{\"attributes\":{\"data_source\":{\"id\":\"3634\"},\"glyph\":{\"id\":\"3635\"},\"hover_glyph\":null,\"muted_glyph\":null,\"nonselection_glyph\":{\"id\":\"3636\"},\"selection_glyph\":null,\"view\":{\"id\":\"3638\"}},\"id\":\"3637\",\"type\":\"GlyphRenderer\"},{\"attributes\":{},\"id\":\"3559\",\"type\":\"DataRange1d\"},{\"attributes\":{},\"id\":\"3576\",\"type\":\"WheelZoomTool\"},{\"attributes\":{},\"id\":\"3709\",\"type\":\"UnionRenderers\"},{\"attributes\":{\"label\":{\"value\":\"l= 2, energy = -16.13 Mev\"},\"renderers\":[{\"id\":\"3688\"}]},\"id\":\"3712\",\"type\":\"LegendItem\"},{\"attributes\":{\"bottom_units\":\"screen\",\"fill_alpha\":0.5,\"fill_color\":\"lightgrey\",\"left_units\":\"screen\",\"level\":\"overlay\",\"line_alpha\":1.0,\"line_color\":\"black\",\"line_dash\":[4,4],\"line_width\":2,\"right_units\":\"screen\",\"top_units\":\"screen\"},\"id\":\"3581\",\"type\":\"BoxAnnotation\"},{\"attributes\":{\"data_source\":{\"id\":\"3685\"},\"glyph\":{\"id\":\"3686\"},\"hover_glyph\":null,\"muted_glyph\":null,\"nonselection_glyph\":{\"id\":\"3687\"},\"selection_glyph\":null,\"view\":{\"id\":\"3689\"}},\"id\":\"3688\",\"type\":\"GlyphRenderer\"},{\"attributes\":{},\"id\":\"3578\",\"type\":\"SaveTool\"},{\"attributes\":{\"line_color\":\"red\",\"line_width\":2,\"x\":{\"field\":\"x\"},\"y\":{\"value\":-0.7930642572469793}},\"id\":\"3657\",\"type\":\"Line\"},{\"attributes\":{},\"id\":\"3711\",\"type\":\"UnionRenderers\"},{\"attributes\":{\"overlay\":{\"id\":\"3581\"}},\"id\":\"3577\",\"type\":\"BoxZoomTool\"},{\"attributes\":{\"line_color\":\"blue\",\"line_width\":2,\"x\":{\"field\":\"x\"},\"y\":{\"value\":-16.129559748957117}},\"id\":\"3686\",\"type\":\"Line\"},{\"attributes\":{\"end\":3,\"start\":-84.0},\"id\":\"3561\",\"type\":\"Range1d\"},{\"attributes\":{\"axis_label\":\"E, Mev\",\"formatter\":{\"id\":\"3603\"},\"ticker\":{\"id\":\"3572\"}},\"id\":\"3571\",\"type\":\"LinearAxis\"},{\"attributes\":{\"source\":{\"id\":\"3680\"}},\"id\":\"3684\",\"type\":\"CDSView\"},{\"attributes\":{\"source\":{\"id\":\"3685\"}},\"id\":\"3689\",\"type\":\"CDSView\"},{\"attributes\":{},\"id\":\"3580\",\"type\":\"HelpTool\"},{\"attributes\":{},\"id\":\"3603\",\"type\":\"BasicTickFormatter\"},{\"attributes\":{\"label\":{\"value\":\"l= 1, energy = -34.23 Mev\"},\"renderers\":[{\"id\":\"3637\"}]},\"id\":\"3655\",\"type\":\"LegendItem\"},{\"attributes\":{\"line_alpha\":0.5,\"line_color\":\"purple\",\"line_width\":2,\"x\":{\"field\":\"x\"},\"y\":{\"field\":\"y\"}},\"id\":\"3590\",\"type\":\"Line\"},{\"attributes\":{\"source\":{\"id\":\"3656\"}},\"id\":\"3660\",\"type\":\"CDSView\"},{\"attributes\":{},\"id\":\"3579\",\"type\":\"ResetTool\"},{\"attributes\":{\"source\":{\"id\":\"3634\"}},\"id\":\"3638\",\"type\":\"CDSView\"},{\"attributes\":{\"label\":{\"value\":\"l= 1, energy = -0.79 Mev\"},\"renderers\":[{\"id\":\"3659\"}]},\"id\":\"3679\",\"type\":\"LegendItem\"},{\"attributes\":{},\"id\":\"3710\",\"type\":\"Selection\"},{\"attributes\":{},\"id\":\"3601\",\"type\":\"BasicTickFormatter\"},{\"attributes\":{\"data_source\":{\"id\":\"3656\"},\"glyph\":{\"id\":\"3657\"},\"hover_glyph\":null,\"muted_glyph\":null,\"nonselection_glyph\":{\"id\":\"3658\"},\"selection_glyph\":null,\"view\":{\"id\":\"3660\"}},\"id\":\"3659\",\"type\":\"GlyphRenderer\"},{\"attributes\":{\"axis\":{\"id\":\"3571\"},\"dimension\":1,\"ticker\":null},\"id\":\"3574\",\"type\":\"Grid\"},{\"attributes\":{\"data_source\":{\"id\":\"3594\"},\"glyph\":{\"id\":\"3595\"},\"hover_glyph\":null,\"muted_glyph\":null,\"nonselection_glyph\":{\"id\":\"3596\"},\"selection_glyph\":null,\"view\":{\"id\":\"3598\"}},\"id\":\"3597\",\"type\":\"GlyphRenderer\"},{\"attributes\":{\"line_alpha\":0.1,\"line_color\":\"red\",\"line_width\":2,\"x\":{\"field\":\"x\"},\"y\":{\"value\":-34.2313113283048}},\"id\":\"3636\",\"type\":\"Line\"},{\"attributes\":{},\"id\":\"3565\",\"type\":\"LinearScale\"},{\"attributes\":{\"data\":{\"x\":{\"__ndarray__\":\"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\",\"dtype\":\"float64\",\"order\":\"little\",\"shape\":[200]}},\"selected\":{\"id\":\"3653\"},\"selection_policy\":{\"id\":\"3654\"}},\"id\":\"3634\",\"type\":\"ColumnDataSource\"},{\"attributes\":{\"data\":{\"x\":{\"__ndarray__\":\"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\",\"dtype\":\"float64\",\"order\":\"little\",\"shape\":[1001]},\"y\":{\"__ndarray__\":\"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\",\"dtype\":\"float64\",\"order\":\"little\",\"shape\":[1001]}},\"selected\":{\"id\":\"3605\"},\"selection_policy\":{\"id\":\"3606\"}},\"id\":\"3589\",\"type\":\"ColumnDataSource\"},{\"attributes\":{\"data_source\":{\"id\":\"3680\"},\"glyph\":{\"id\":\"3681\"},\"hover_glyph\":null,\"muted_glyph\":null,\"nonselection_glyph\":{\"id\":\"3682\"},\"selection_glyph\":null,\"view\":{\"id\":\"3684\"}},\"id\":\"3683\",\"type\":\"GlyphRenderer\"},{\"attributes\":{\"data\":{\"x\":{\"__ndarray__\":\"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\",\"dtype\":\"float64\",\"order\":\"little\",\"shape\":[1001]},\"y\":{\"__ndarray__\":\"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\",\"dtype\":\"float64\",\"order\":\"little\",\"shape\":[1001]}},\"selected\":{\"id\":\"3708\"},\"selection_policy\":{\"id\":\"3709\"}},\"id\":\"3680\",\"type\":\"ColumnDataSource\"},{\"attributes\":{},\"id\":\"3708\",\"type\":\"Selection\"},{\"attributes\":{},\"id\":\"3651\",\"type\":\"Selection\"},{\"attributes\":{\"data\":{\"x\":{\"__ndarray__\":\"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\",\"dtype\":\"float64\",\"order\":\"little\",\"shape\":[200]}},\"selected\":{\"id\":\"3710\"},\"selection_policy\":{\"id\":\"3711\"}},\"id\":\"3685\",\"type\":\"ColumnDataSource\"},{\"attributes\":{\"active_drag\":\"auto\",\"active_inspect\":\"auto\",\"active_multi\":null,\"active_scroll\":\"auto\",\"active_tap\":\"auto\",\"tools\":[{\"id\":\"3575\"},{\"id\":\"3576\"},{\"id\":\"3577\"},{\"id\":\"3578\"},{\"id\":\"3579\"},{\"id\":\"3580\"}]},\"id\":\"3582\",\"type\":\"Toolbar\"},{\"attributes\":{},\"id\":\"3606\",\"type\":\"UnionRenderers\"},{\"attributes\":{\"line_alpha\":0.1,\"line_color\":\"red\",\"x\":{\"field\":\"x\"},\"y\":{\"field\":\"y\"}},\"id\":\"3631\",\"type\":\"Line\"},{\"attributes\":{},\"id\":\"3608\",\"type\":\"UnionRenderers\"},{\"attributes\":{},\"id\":\"3605\",\"type\":\"Selection\"},{\"attributes\":{},\"id\":\"3575\",\"type\":\"PanTool\"},{\"attributes\":{},\"id\":\"3653\",\"type\":\"Selection\"},{\"attributes\":{\"line_alpha\":0.1,\"line_color\":\"purple\",\"line_width\":2,\"x\":{\"field\":\"x\"},\"y\":{\"value\":-52.50976380979701}},\"id\":\"3596\",\"type\":\"Line\"},{\"attributes\":{},\"id\":\"3654\",\"type\":\"UnionRenderers\"},{\"attributes\":{\"line_alpha\":0.5,\"line_color\":\"blue\",\"x\":{\"field\":\"x\"},\"y\":{\"field\":\"y\"}},\"id\":\"3681\",\"type\":\"Line\"},{\"attributes\":{\"line_alpha\":0.1,\"line_color\":\"red\",\"line_width\":2,\"x\":{\"field\":\"x\"},\"y\":{\"value\":-0.7930642572469793}},\"id\":\"3658\",\"type\":\"Line\"},{\"attributes\":{},\"id\":\"3678\",\"type\":\"UnionRenderers\"},{\"attributes\":{\"data_source\":{\"id\":\"3611\"},\"glyph\":{\"id\":\"3612\"},\"hover_glyph\":null,\"muted_glyph\":null,\"nonselection_glyph\":{\"id\":\"3613\"},\"selection_glyph\":null,\"view\":{\"id\":\"3615\"}},\"id\":\"3614\",\"type\":\"GlyphRenderer\"},{\"attributes\":{\"source\":{\"id\":\"3589\"}},\"id\":\"3593\",\"type\":\"CDSView\"},{\"attributes\":{},\"id\":\"3627\",\"type\":\"UnionRenderers\"},{\"attributes\":{\"items\":[{\"id\":\"3610\"},{\"id\":\"3628\"},{\"id\":\"3655\"},{\"id\":\"3679\"},{\"id\":\"3712\"}],\"location\":\"bottom_right\"},\"id\":\"3609\",\"type\":\"Legend\"},{\"attributes\":{\"data\":{\"x\":{\"__ndarray__\":\"UHTdSUHcdD8kudoOphCKPxBcY7yV2ZQ/jltZcdiqnD+FrSeTDT6iP0Wtou2uJqY/A60dSFAPqj/CrJii8fetP0HWiX5J8LA/IVbHK5rksj8B1gTZ6ti0P+BVQoY7zbY/v9V/M4zBuD+eVb3g3LW6P37V+o0tqrw/XlU4O36evj+f6jp0Z0nAP4+q2cqPQ8E/fmp4Ibg9wj9uKhd44DfDP17qtc4IMsQ/TqpUJTEsxT8+avN7WSbGPy0qktKBIMc/HOowKaoayD8Mqs9/0hTJP/xpbtb6Dso/6ykNLSMJyz/b6auDSwPMP8upStpz/cw/u2npMJz3zT+rKYiHxPHOP5vpJt7s688/xNRimgpz0D+9NLLFHvDQP7SUAfEybdE/rfRQHEfq0T+kVKBHW2fSP5y073Jv5NI/lBQ/noNh0z+MdI7Jl97TP4TU3fSrW9Q/fDQtIMDY1D90lHxL1FXVP2z0y3bo0tU/ZFQbovxP1j9ctGrNEM3WP1QUuvgkStc/S3QJJDnH1z9E1FhPTUTYPzs0qHphwdg/NJT3pXU+2T8r9EbRibvZPyNUlvydONo/G7TlJ7K12j8TFDVTxjLbPwp0hH7ar9s/A9TTqe4s3D/6MyPVAqrcP/OTcgAXJ90/6vPBKyuk3T/jUxFXPyHeP9qzYIJTnt4/0xOwrWcb3z/Kc//Ye5jfP+BpJwLICuA/3RnPF1JJ4D/ZyXYt3IfgP9V5HkNmxuA/0SnGWPAE4T/M2W1uekPhP8mJFYQEguE/xDm9mY7A4T/B6WSvGP/hP7yZDMWiPeI/uEm02ix84j+0+VvwtrriP7GpAwZB+eI/q1mrG8s34z+oCVMxVXbjP6S5+kbftOM/n2miXGnz4z+bGUpy8zHkP5jJ8Yd9cOQ/lHmZnQev5D+PKUGzke3kP4vZ6MgbLOU/iImQ3qVq5T+DOTj0L6nlP3/p3wm65+U/e5mHH0Qm5j94SS81zmTmP3P51kpYo+Y/b6l+YOLh5j9rWSZ2bCDnP2cJzov2Xuc/Yrl1oYCd5z9faR23CtznP1oZxcyUGug/V8ls4h5Z6D9SeRT4qJfoP04pvA0z1ug/StljI70U6T9HiQs5R1PpP0E5s07Rkek/PulaZFvQ6T86mQJ65Q7qPzdJqo9vTeo/MflRpfmL6j8uqfm6g8rqPypZodANCes/JglJ5pdH6z8iufD7IYbrPx5pmBGsxOs/GhlAJzYD7D8Vyec8wEHsPxJ5j1JKgOw/DSk3aNS+7D8K2d59Xv3sPwSJhpPoO+0/AjkuqXJ67T/96NW+/LjtP/qYfdSG9+0/9Egl6hA27j/y+Mz/mnTuP+2odBUls+4/6VgcK6/x7j/kCMRAOTDvP+K4a1bDbu8/3WgTbE2t7z/ZGLuB1+vvP2pkscswFfA/aDyF1nU08D9nFFnhulPwP2PsLOz/cvA/YcQA90SS8D9gnNQBirHwP150qAzP0PA/XEx8FxTw8D9aJFAiWQ/xP1f8Iy2eLvE/VdT3N+NN8T9TrMtCKG3xP1GEn01tjPE/UFxzWLKr8T9ONEdj98rxP0sMG2486vE/SeTueIEJ8j9HvMKDxijyP0WUlo4LSPI/Q2xqmVBn8j9BRD6klYbyPz8cEq/apfI/PvTluR/F8j87zLnEZOTyPzikjc+pA/M/N3xh2u4i8z81VDXlM0LzPzMsCfB4YfM/MQTd+r2A8z8v3LAFA6DzPy60hBBIv/M/K4xYG43e8z8oZCwm0v3zPyY8ADEXHfQ/JRTUO1w89D8j7KdGoVv0PyHEe1HmevQ/H5xPXCua9D8ddCNncLn0PxtM93G12PQ/GCTLfPr39D8W/J6HPxf1PxXUcpKENvU/E6xGnclV9T8QhBqoDnX1Pw9c7rJTlPU/DDTCvZiz9T8KDJbI3dL1PwjkadMi8vU/Brw93mcR9j8ElBHprDD2PwNs5fPxT/Y/AES5/jZv9j/+G40JfI72P/zzYBTBrfY/+ss0HwbN9j/4owgqS+z2P/Z73DSQC/c/9FOwP9Uq9z/zK4RKGkr3P/ADWFVfafc/7dsrYKSI9z/rs/9q6af3P+qL03Uux/c/6GOngHPm9z/mO3uLuAX4P+QTT5b9JPg/4usioUJE+D/gw/arh2P4P92byrbMgvg/23OewRGi+D/aS3LMVsH4P9gjRteb4Pg/1fsZ4uD/+D/U0+3sJR/5P9KrwfdqPvk/0IOVArBd+T/NW2kN9Xz5P8szPRg6nPk/yQsRI3+7+T/I4+QtxNr5P8W7uDgJ+vk/xJOMQ04Z+j/Ca2BOkzj6P79DNFnYV/o/vBsIZB13+j+789tuYpb6P7nLr3mntfo/uKODhOzU+j+1e1ePMfT6P7NTK5p2E/s/siv/pLsy+z+vA9OvAFL7P6zbprpFcfs/q7N6xYqQ+z+pi07Qz6/7P6djItsUz/s/pTv25Vnu+z+jE8rwng38P6DrnfvjLPw/n8NxBilM/D+cm0URbmv8P5tzGRyzivw/mEvtJvip/D+XI8ExPcn8P5X7lDyC6Pw/ktNoR8cH/T+RqzxSDCf9P46DEF1RRv0/jFvkZ5Zl/T+LM7hy24T9P4gLjH0gpP0/h+NfiGXD/T+FuzOTquL9P4KTB57vAf4/f2vbqDQh/j9+Q6+zeUD+P3wbg76+X/4/efNWyQN//j94yyrUSJ7+P3ej/t6Nvf4/dXvS6dLc/j9yU6b0F/z+P28rev9cG/8/bgNOCqI6/z9s2yEV51n/P2mz9R8sef8/aIvJKnGY/z9nY501trf/P2Q7cUD71v8/YhNFS0D2/z+wdQyrwgoAQK9hdjBlGgBArk3gtQcqAECtOUo7qjkAQKwltMBMSQBAqhEeRu9YAECq/YfLkWgAQKjp8VA0eABAqNVb1taHAECnwcVbeZcAQKWtL+EbpwBApZmZZr62AECkhQPsYMYAQKNxbXED1gBAol3X9qXlAEChSUF8SPUAQKA1qwHrBAFAniEVh40UAUCdDX8MMCQBQJz56JHSMwFAm+VSF3VDAUCa0bycF1MBQJq9JiK6YgFAmKmQp1xyAUCYlfos/4EBQJeBZLKhkQFAlW3ON0ShAUCVWTi95rABQJRFokKJwAFAkjEMyCvQAUCSHXZNzt8BQJEJ4NJw7wFAj/VJWBP/AUCO4bPdtQ4CQI3NHWNYHgJAjLmH6PotAkCLpfFtnT0CQIqRW/M/TQJAiX3FeOJcAkCIaS/+hGwCQIhVmYMnfAJAhkEDCcqLAkCFLW2ObJsCQIUZ1xMPqwJAgwVBmbG6AkCC8aoeVMoCQILdFKT22QJAf8l+KZnpAkB/teiuO/kCQH6hUjTeCANAfY28uYAYA0B8eSY/IygDQHtlkMTFNwNAelH6SWhHA0B5PWTPClcDQHgpzlStZgNAdxU42k92A0B2AaJf8oUDQHXtC+WUlQNAddl1ajelA0Bzxd/v2bQDQHOxSXV8xANAcJ2z+h7UA0BviR2AweMDQG91hwVk8wNAbWHxigYDBEBtTVsQqRIEQGw5xZVLIgRAayUvG+4xBEBqEZmgkEEEQGn9AiYzUQRAaOlsq9VgBEBn1dYweHAEQGbBQLYagARAZa2qO72PBEBkmRTBX58EQGOFfkYCrwRAYnHoy6S+BEBgXVJRR84EQF9JvNbp3QRAXzUmXIztBEBdIZDhLv0EQF0N+mbRDAVAXPlj7HMcBUBa5c1xFiwFQFrRN/e4OwVAWb2hfFtLBUBXqQsC/loFQFeVdYegagVAVoHfDEN6BUBVbUmS5YkFQFRZsxeImQVAUkUdnSqpBUBRMYcizbgFQFAd8advyAVATwlbLRLYBUBO9cSytOcFQE3hLjhX9wVATc2YvfkGBkBLuQJDnBYGQEqlbMg+JgZASpHWTeE1BkBIfUDTg0UGQEdpqlgmVQZAR1UU3shkBkBFQX5ja3QGQEUt6OgNhAZAQxlSbrCTBkBBBbzzUqMGQEHxJXn1sgZAQN2P/pfCBkA/yfmDOtIGQD61Ywnd4QZAPaHNjn/xBkA8jTcUIgEHQDt5oZnEEAdAOmULH2cgB0A6UXWkCTAHQDg93ymsPwdANylJr05PB0A3FbM08V4HQDUBHbqTbgdANO2GPzZ+B0Ay2fDE2I0HQDHFWkp7nQdAMbHEzx2tB0AwnS5VwLwHQC+JmNpizAdALnUCYAXcB0AtYWzlp+sHQCxN1mpK+wdAKzlA8OwKCEAqJap1jxoIQCkRFPsxKghAKP19gNQ5CEAn6ecFd0kIQCbVUYsZWQhAJcG7ELxoCEAkrSWWXngIQCKZjxsBiAhAIYX5oKOXCEAhcWMmRqcIQB9dzavotghAH0k3MYvGCEAeNaG2LdYIQBwhCzzQ5QhAHA11wXL1CEAb+d5GFQUJQBnlSMy3FAlAGdGyUVokCUAYvRzX/DMJQBephlyfQwlAFpXw4UFTCUAUgVpn5GIJQBNtxOyGcglAElkucimCCUARRZj3y5EJQBAxAn1uoQlADx1sAhGxCUAPCdaHs8AJQA31Pw1W0AlADOGpkvjfCUAMzRMYm+8JQAu5fZ09/wlACaXnIuAOCkAJkVGogh4KQAh9uy0lLgpAB2kls8c9CkAFVY84ak0KQANB+b0MXQpAAy1jQ69sCkACGc3IUXwKQAEFN070iwpAAPGg05abCkD/3ApZOasKQP/IdN7bugpA/bTeY37KCkD8oEjpINoKQPyMsm7D6QpA+ngc9GX5CkD5ZIZ5CAkLQPlQ8P6qGAtA9zxahE0oC0D2KMQJ8DcLQPUULo+SRwtA8wCYFDVXC0Dz7AGa12YLQPLYax96dgtA8cTVpByGC0DwsD8qv5ULQO+cqa9hpQtA7ogTNQS1C0DtdH26psQLQOxg5z9J1AtA60xRxevjC0DqOLtKjvMLQOkkJdAwAwxA6BCPVdMSDEDm/PjadSIMQOboYmAYMgxA5NTM5bpBDEDjwDZrXVEMQOOsoPD/YAxA4pgKdqJwDEDhhHT7RIAMQN9w3oDnjwxA3lxIBoqfDEDeSLKLLK8MQN00HBHPvgxA3CCGlnHODEDcDPAbFN4MQNn4WaG27QxA2eTDJln9DEDY0C2s+wwNQNW8lzGeHA1A1agBt0AsDUDUlGs84zsNQNOA1cGFSw1A02w/RyhbDUDSWKnMymoNQNBEE1Jteg1AzzB91w+KDUDOHOdcspkNQM4IUeJUqQ1AzfS6Z/e4DUDM4CTtmcgNQMrMjnI82A1Aybj4997nDUDJpGJ9gfcNQMaQzAIkBw5Axnw2iMYWDkDFaKANaSYOQMRUCpMLNg5AxEB0GK5FDkDDLN6dUFUOQMAYSCPzZA5AwASyqJV0DkC/8BsuOIQOQL7chbPakw5AvsjvOH2jDkC9tFm+H7MOQLygw0PCwg5AuowtyWTSDkC5eJdOB+IOQLdkAdSp8Q5AtlBrWUwBD0C2PNXe7hAPQLUoP2SRIA9AtBSp6TMwD0C0ABNv1j8PQLPsfPR4Tw9AsNjmeRtfD0CwxFD/vW4PQK+wuoRgfg9ArpwkCgOOD0CuiI6PpZ0PQK10+BRIrQ9Aq2Bimuq8D0CqTMwfjcwPQKk4NqUv3A9ApySgKtLrD0CmEAqwdPsPQFP+uZqLBRBAUvRu3VwNEEBS6iMgLhUQQFLg2GL/HBBAUdaNpdAkEEBQzELooSwQQFDC9ypzNBBAULisbUQ8EEBPrmGwFUQQQE+kFvPmSxBATprLNbhTEEBNkIB4iVsQQE2GNbtaYxBATXzq/StrEEBLcp9A/XIQQExoVIPOehBAS14Jxp+CEEBKVL4IcYoQQEpKc0tCkhBASUAojhOaEEBJNt3Q5KEQQEgskhO2qRBASCJHVoexEEBHGPyYWLkQQEcOsdspwRBARgRmHvvIEEBG+hphzNAQQEXwz6Od2BBAReaE5m7gEEBE3DkpQOgQQETS7msR8BBAQ8ijruL3EEBDvljxs/8QQEK0DTSFBxFAQarCdlYPEUBBoHe5JxcRQEGWLPz4HhFAQIzhPsomEUA/gpaBmy4RQEB4S8RsNhFAPm4ABz4+EUA+ZLVJD0YRQD5aaozgTRFAPVAfz7FVEUA8RtQRg10RQD08iVRUZRFAOzI+lyVtEUA7KPPZ9nQRQDseqBzIfBFAOhRdX5mEEUA5ChKiaowRQDkAx+Q7lBFAOfZ7Jw2cEUA37DBq3qMRQDji5ayvqxFAN9ia74CzEUA2zk8yUrsRQDbEBHUjwxFANrq5t/TKEUA0sG76xdIRQDWmIz2X2hFANJzYf2jiEUA0ko3COeoRQDOIQgUL8hFAMn73R9z5EUAydKyKrQESQDFqYc1+CRJAMWAWEFAREkAwVstSIRkSQDBMgJXyIBJAL0I12MMoEkAwOOoalTASQC4un11mOBJALiRUoDdAEkAtGgnjCEgSQC0QviXaTxJALAZzaKtXEkAt/CerfF8SQCvy3O1NZxJAKuiRMB9vEkAr3kZz8HYSQCrU+7XBfhJAKcqw+JKGEkAowGU7ZI4SQCm2Gn41lhJAJ6zPwAaeEkAoooQD2KUSQCeYOUaprRJAJo7uiHq1EkAmhKPLS70SQCZ6WA4dxRJAJHANUe7MEkAlZsKTv9QSQCRcd9aQ3BJAI1IsGWLkEkAjSOFbM+wSQCI+lp4E9BJAIjRL4dX7EkAhKgAkpwMTQCEgtWZ4CxNAIBZqqUkTE0AgDB/sGhsTQB8C1C7sIhNAH/iIcb0qE0Ae7j20jjITQB7k8vZfOhNAHdqnOTFCE0Ad0Fx8AkoTQBzGEb/TURNAG7zGAaVZE0AbsntEdmETQBqoMIdHaRNAGp7lyRhxE0AalJoM6ngTQBmKT0+7gBNAGIAEkoyIE0AZdrnUXZATQBdsbhcvmBNAF2IjWgCgE0AXWNic0acTQBZOjd+irxNAFURCInS3E0AWOvdkRb8TQBQwrKcWxxNAEyZh6ufOE0AUHBYtudYTQBMSy2+K3hNAEgiAslvmE0AS/jT1LO4TQBL06Tf+9RNAEOqees/9E0AR4FO9oAUUQBDWCAByDRRAD8y9QkMVFEAPwnKFFB0UQA+4J8jlJBRADa7cCrcsFEAOpJFNiDQUQA2aRpBZPBRADJD70ipEFEAMhrAV/EsUQAt8ZVjNUxRAC3Iam55bFEAKaM/db2MUQApehCBBaxRACVQ5YxJzFEAJSu6l43oUQAhAo+i0ghRACDZYK4aKFEAHLA1uV5IUQAciwrAomhRABhh38/mhFEAGDiw2y6kUQAUE4XicsRRABPqVu225FEAE8Er+PsEUQAPm/0AQyRRAA9y0g+HQFEAD0mnGstgUQALIHgmE4BRAAb7TS1XoFEACtIiOJvAUQACqPdH39xRAAaDyE8n/FEAAlqdWmgcVQP+LXJlrDxVA/oER3DwXFUD/d8YeDh8VQP1te2HfJhVA/GMwpLAuFUD9WeXmgTYVQPxPmilTPhVA/EVPbCRGFUD7OwSv9U0VQPsxufHGVRVA+SduNJhdFUD6HSN3aWUVQPkT2Lk6bRVA+QmN/At1FUD4/0E/3XwVQPj19oGuhBVA9+urxH+MFUD34WAHUZQVQPbXFUoinBVA9c3KjPOjFUD1w3/PxKsVQPS5NBKWsxVA9K/pVGe7FUDzpZ6XOMMVQPObU9oJyxVA85EIHdvSFUDyh71frNoVQPF9cqJ94hVA8nMn5U7qFUDwadwnIPIVQPBfkWrx+RVA8FVGrcIBFkDvS/vvkwkWQO5BsDJlERZA7jdldTYZFkDtLRq4ByEWQOwjz/rYKBZA7RmEPaowFkDsDzmAezgWQOsF7sJMQBZA6/uiBR5IFkDr8VdI708WQOnnDIvAVxZA6t3BzZFfFkDp03YQY2cWQOjJK1M0bxZA6L/glQV3FkDotZXY1n4WQOarShuohhZA5qH/XXmOFkDml7SgSpYWQOWNaeMbnhZA5YMeJu2lFkDkedNovq0WQORviKuPtRZA42U97mC9FkDjW/IwMsUWQOJRp3MDzRZA4kdcttTUFkDhPRH5pdwWQOEzxjt35BZA4Cl7fkjsFkDgHzDBGfQWQN8V5QPr+xZA3guaRrwDF0DeAU+JjQsXQN33A8xeExdA3u24DjAbF0Dc421RASMXQNzZIpTSKhdA3M/X1qMyF0DbxYwZdToXQNq7QVxGQhdA27H2nhdKF0DZp6vh6FEXQNmdYCS6WRdA2ZMVZ4thF0DYicqpXGkXQNd/f+wtcRdA13U0L/94F0DXa+lx0IAXQNVhnrShiBdA1ldT93KQF0DVTQg6RJgXQNRDvXwVoBdA1Dlyv+anF0DULycCuK8XQNIl3ESJtxdA0xuRh1q/F0DSEUbKK8cXQNEH+wz9zhdA0f2vT87WF0DR82SSn94XQNDpGdVw5hdA0N/OF0LuF0DP1YNaE/YXQM7LOJ3k/RdAzsHt37UFGEDNt6Iihw0YQM2tV2VYFRhAzKMMqCkdGEDMmcHq+iQYQMuPdi3MLBhAy4UrcJ00GEDKe+CybjwYQMtxlfU/RBhAyWdKOBFMGEDJXf964lMYQMhTtL2zWxhAyElpAIVjGEDHPx5DVmsYQMY104UncxhAxyuIyPh6GEDFIT0LyoIYQMYX8k2bihhAxQ2nkGySGEDEA1zTPZoYQMP5EBYPohhAxO/FWOCpGEDC5XqbsbEYQMPbL96CuRhAwtHkIFTBGEDBx5ljJckYQMG9Tqb20BhAwbMD6cfYGEDAqbgrmeAYQL6fbW5q6BhAv5UisTvwGEC+i9fzDPgYQL6BjDbe/xhAvXdBea8HGUC9bfa7gA8ZQLxjq/5RFxlAvFlgQSMfGUC7TxWE9CYZQLtFysbFLhlAujt/CZc2GUC6MTRMaD4ZQLkn6Y45RhlAuR2e0QpOGUC4E1MU3FUZQLgJCFetXRlAt/+8mX5lGUC29XHcT20ZQLfrJh8hdRlAteHbYfJ8GUC115Ckw4QZQLXNReeUjBlAtMP6KWaUGUCzua9sN5wZQLSvZK8IpBlAsqUZ8tmrGUCym840q7MZQLKRg3d8uxlAsYc4uk3DGUCwfe38HssZQLBzoj/w0hlAsGlXgsHaGUCuXwzFkuIZQK9VwQdk6hlArkt2SjXyGUCtQSuNBvoZQK034M/XARpArS2VEqkJGkCrI0pVehEaQKwZ/5dLGRpAqw+02hwhGkCqBWkd7igaQKr7HWC/MBpAqvHSopA4GkCp54flYUAaQKjdPCgzSBpAqNPxagRQGkCnyaat1VcaQKe/W/CmXxpAprUQM3hnGkCmq8V1SW8aQKWhergadxpApZcv++t+GkCkjeQ9vYYaQKSDmYCOjhpAo3lOw1+WGkCjbwMGMZ4aQKJluEgCphpAoltti9OtGkChUSLOpLUaQKFH1xB2vRpAoD2MU0fFGkCfM0GWGM0aQKAp9tjp1BpAnh+rG7vcGkCeFWBejOQaQJ4LFaFd7BpAnQHK4y70GkCc934mAPwaQJ3tM2nRAxtAm+Poq6ILG0Cc2Z3ucxMbQJvPUjFFGxtAmsUHdBYjG0CZu7y25yobQJmxcfm4MhtAmacmPIo6G0CXndt+W0IbQJiTkMEsShtAl4lFBP5RG0CXf/pGz1kbQJZ1r4mgYRtAlmtkzHFpG0CUYRkPQ3EbQJVXzlEUeRtAlE2DlOWAG0CUQzjXtogbQJM57RmIkBtAky+iXFmYG0CSJVefKqAbQJEbDOL7pxtAkRHBJM2vG0CQB3ZnnrcbQJD9KqpvvxtAj/Pf7EDHG0CQ6ZQvEs8bQI7fSXLj1htAjtX+tLTeG0COy7P3heYbQI3BaDpX7htAjLcdfSj2G0CNrdK/+f0bQIujhwLLBRxAi5k8RZwNHECLj/GHbRUcQIqFpso+HRxAiXtbDRAlHECJcRBQ4SwcQIlnxZKyNBxAh1161YM8HECIUy8YVUQcQIdJ5FomTBxAhj+ZnfdTHECGNU7gyFscQIYrAyOaYxxAhCG4ZWtrHECFF22oPHMcQIQNIusNexxAhAPXLd+CHECD+YtwsIocQILvQLOBkhxAguX19VKaHECB26o4JKIcQIDRX3v1qRxAgccUvsaxHEB/vckAmLkcQH6zfkNpwRxAf6kzhjrJHEB9n+jIC9EcQH6VnQvd2BxAfYtSTq7gHEB9gQeRf+gcQHx3vNNQ8BxAfW1xFiL4HEB7YyZZ8/8cQHpZ25vEBx1Ae0+Q3pUPHUB6RUUhZxcdQHo7+mM4Hx1AeTGvpgknHUB4J2Tp2i4dQHYdGSysNh1AdxPObn0+HUB2CYOxTkYdQHb/N/QfTh1AdfXsNvFVHUB266F5wl0dQHThVryTZR1AddcL/2RtHUB0zcBBNnUdQHPDdYQHfR1Ac7kqx9iEHUByr98JqowdQHKllEx7lB1AcZtJj0ycHUBwkf7RHaQdQHGHsxTvqx1Ab31oV8CzHUBucx2akbsdQG9p0txiwx1AbV+HHzTLHUBuVTxiBdMdQG1L8aTW2h1AbUGm56fiHUBsN1sqeeodQGstEG1K8h1AayPFrxv6HUBqGXry7AEeQGsPLzW+CR5AagXkd48RHkBo+5i6YBkeQGnxTf0xIR5AaOcCQAMpHkBm3beC1DAeQGfTbMWlOB5AZskhCHdAHkBmv9ZKSEgeQGW1i40ZUB5AZqtA0OpXHkBkofUSvF8eQGOXqlWNZx5AZI1fmF5vHkBjgxTbL3ceQGN5yR0Bfx5AYm9+YNKGHkBhZTOjo44eQA==\",\"dtype\":\"float64\",\"order\":\"little\",\"shape\":[1001]},\"y\":{\"__ndarray__\":\"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\",\"dtype\":\"float64\",\"order\":\"little\",\"shape\":[1001]}},\"selected\":{\"id\":\"3651\"},\"selection_policy\":{\"id\":\"3652\"}},\"id\":\"3629\",\"type\":\"ColumnDataSource\"},{\"attributes\":{\"line_alpha\":0.1,\"line_color\":\"purple\",\"line_width\":2,\"x\":{\"field\":\"x\"},\"y\":{\"field\":\"y\"}},\"id\":\"3591\",\"type\":\"Line\"},{\"attributes\":{\"label\":{\"value\":\"l= 0, energy = -52.51 Mev\"},\"renderers\":[{\"id\":\"3597\"}]},\"id\":\"3610\",\"type\":\"LegendItem\"},{\"attributes\":{\"data_source\":{\"id\":\"3629\"},\"glyph\":{\"id\":\"3630\"},\"hover_glyph\":null,\"muted_glyph\":null,\"nonselection_glyph\":{\"id\":\"3631\"},\"selection_glyph\":null,\"view\":{\"id\":\"3633\"}},\"id\":\"3632\",\"type\":\"GlyphRenderer\"},{\"attributes\":{\"data\":{\"x\":{\"__ndarray__\":\"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\",\"dtype\":\"float64\",\"order\":\"little\",\"shape\":[200]}},\"selected\":{\"id\":\"3626\"},\"selection_policy\":{\"id\":\"3627\"}},\"id\":\"3611\",\"type\":\"ColumnDataSource\"},{\"attributes\":{\"line_color\":\"purple\",\"line_width\":2,\"x\":{\"field\":\"x\"},\"y\":{\"value\":-16.40533910375482}},\"id\":\"3612\",\"type\":\"Line\"},{\"attributes\":{\"line_alpha\":0.5,\"line_color\":\"red\",\"x\":{\"field\":\"x\"},\"y\":{\"field\":\"y\"}},\"id\":\"3630\",\"type\":\"Line\"},{\"attributes\":{\"source\":{\"id\":\"3611\"}},\"id\":\"3615\",\"type\":\"CDSView\"},{\"attributes\":{\"line_alpha\":0.1,\"line_color\":\"purple\",\"line_width\":2,\"x\":{\"field\":\"x\"},\"y\":{\"value\":-16.40533910375482}},\"id\":\"3613\",\"type\":\"Line\"},{\"attributes\":{},\"id\":\"3626\",\"type\":\"Selection\"},{\"attributes\":{\"label\":{\"value\":\"l= 0, energy = -16.41 Mev\"},\"renderers\":[{\"id\":\"3614\"}]},\"id\":\"3628\",\"type\":\"LegendItem\"},{\"attributes\":{\"line_alpha\":0.1,\"line_color\":\"blue\",\"x\":{\"field\":\"x\"},\"y\":{\"field\":\"y\"}},\"id\":\"3682\",\"type\":\"Line\"}],\"root_ids\":[\"3556\"]},\"title\":\"Bokeh Application\",\"version\":\"2.2.3\"}};\n  var render_items = [{\"docid\":\"af31285d-d3ae-4430-ba71-b9a1a5ad6b23\",\"root_ids\":[\"3556\"],\"roots\":{\"3556\":\"3a9ca98d-a0ec-4aa0-800a-7f68396b3b99\"}}];\n  root.Bokeh.embed.embed_items_notebook(docs_json, render_items);\n\n  }\n  if (root.Bokeh !== undefined) {\n    embed_document(root);\n  } else {\n    var attempts = 0;\n    var timer = setInterval(function(root) {\n      if (root.Bokeh !== undefined) {\n        clearInterval(timer);\n        embed_document(root);\n      } else {\n        attempts++;\n        if (attempts > 100) {\n          clearInterval(timer);\n          console.log(\"Bokeh: ERROR: Unable to run BokehJS code because BokehJS library is missing\");\n        }\n      }\n    }, 10, root)\n  }\n})(window);",
          "application/vnd.bokehjs_exec.v0+json": ""
         },
         "metadata": {
          "application/vnd.bokehjs_exec.v0+json": {
           "id": "3556"
          }
         },
         "output_type": "display_data"
        }
       ]
      }
     },
     "7be2d712fc4a423d8c170f1dfa1c47d9": {
      "model_module": "@jupyter-widgets/base",
      "model_module_version": "1.2.0",
      "model_name": "LayoutModel",
      "state": {}
     },
     "7fe88ba922c045a59b22c4c366fbfddb": {
      "model_module": "@jupyter-widgets/controls",
      "model_module_version": "1.5.0",
      "model_name": "ButtonModel",
      "state": {
       "description": "Run Interact",
       "layout": "IPY_MODEL_8ac0139ccaeb4540abccebc31d2192df",
       "style": "IPY_MODEL_e62eed159d0747888e1fc0c55c955ea8"
      }
     },
     "83a1f1d328254f0894145d406a44b018": {
      "model_module": "@jupyter-widgets/controls",
      "model_module_version": "1.5.0",
      "model_name": "ButtonModel",
      "state": {
       "description": "Run Interact",
       "layout": "IPY_MODEL_0646c7cd29a54b3286192b32e8c59229",
       "style": "IPY_MODEL_d514b4b8fff544d0818423549c8f3eb2"
      }
     },
     "8647f9654c0641f6bf983fefc8493fcb": {
      "model_module": "@jupyter-widgets/base",
      "model_module_version": "1.2.0",
      "model_name": "LayoutModel",
      "state": {}
     },
     "89645767cb5f4801849045b85173a4ac": {
      "model_module": "@jupyter-widgets/controls",
      "model_module_version": "1.5.0",
      "model_name": "IntSliderModel",
      "state": {
       "description": "u",
       "layout": "IPY_MODEL_2b12b362813547d1b300810527b0ff85",
       "max": 80,
       "min": 15,
       "step": 2,
       "style": "IPY_MODEL_02646c6c5c0147588f2df9ef1347b241",
       "value": 43
      }
     },
     "8ac0139ccaeb4540abccebc31d2192df": {
      "model_module": "@jupyter-widgets/base",
      "model_module_version": "1.2.0",
      "model_name": "LayoutModel",
      "state": {}
     },
     "9e010d31ab404088b474125e9faa0113": {
      "model_module": "@jupyter-widgets/base",
      "model_module_version": "1.2.0",
      "model_name": "LayoutModel",
      "state": {}
     },
     "a9eb8d0d5ae3457c96f7cf9f7a61c7ac": {
      "model_module": "@jupyter-widgets/controls",
      "model_module_version": "1.5.0",
      "model_name": "ButtonModel",
      "state": {
       "description": "Run Interact",
       "layout": "IPY_MODEL_9e010d31ab404088b474125e9faa0113",
       "style": "IPY_MODEL_c4a51296fb9a4e44b8cb346cff27b846"
      }
     },
     "aea9926350dc428fbe0c8dac607bba3e": {
      "model_module": "@jupyter-widgets/base",
      "model_module_version": "1.2.0",
      "model_name": "LayoutModel",
      "state": {}
     },
     "afde5e2ee3a84b388181344080bd2e34": {
      "model_module": "@jupyter-widgets/base",
      "model_module_version": "1.2.0",
      "model_name": "LayoutModel",
      "state": {}
     },
     "b1fe4b522fee43ed8dc4fcedfe4ab583": {
      "model_module": "@jupyter-widgets/controls",
      "model_module_version": "1.5.0",
      "model_name": "ButtonModel",
      "state": {
       "description": "Run Interact",
       "layout": "IPY_MODEL_3d1b12ffdfd74f60a2bc87196b676586",
       "style": "IPY_MODEL_c2fe0578a9c149d1b586f6f9c289ad9e"
      }
     },
     "b78a75f1a1bd49cb918c8e4ab642f105": {
      "model_module": "@jupyter-widgets/controls",
      "model_module_version": "1.5.0",
      "model_name": "SliderStyleModel",
      "state": {
       "description_width": ""
      }
     },
     "b867f35026e74371a9bf2e2ad5874691": {
      "model_module": "@jupyter-widgets/output",
      "model_module_version": "1.0.0",
      "model_name": "OutputModel",
      "state": {
       "layout": "IPY_MODEL_3115210c55db40d598a59e14125000a7",
       "outputs": [
        {
         "name": "stderr",
         "output_type": "stream",
         "text": "/home/maxkway/anaconda3/envs/test_scipy/lib/python3.8/site-packages/bokeh/models/plots.py:766: UserWarning: \nYou are attempting to set `plot.legend.location` on a plot that has zero legends added, this will have no effect.\n\nBefore legend properties can be set, you must add a Legend explicitly, or call a glyph method with a legend parameter set.\n\n  warnings.warn(_LEGEND_EMPTY_WARNING % attr)\nWARNING:bokeh.core.validation.check:W-1000 (MISSING_RENDERERS): Plot has no renderers: Figure(id='1763', ...)\n"
        },
        {
         "data": {
          "text/html": "\n\n\n\n\n\n  <div class=\"bk-root\" id=\"e356dd6a-b692-49ed-8be2-4098e9e4f6e8\" data-root-id=\"1763\"></div>\n"
         },
         "metadata": {},
         "output_type": "display_data"
        },
        {
         "data": {
          "application/javascript": "(function(root) {\n  function embed_document(root) {\n    \n  var docs_json = {\"663d7f17-9cad-4912-aff1-dcc9b07dc9ce\":{\"roots\":{\"references\":[{\"attributes\":{\"background_fill_alpha\":0.2,\"background_fill_color\":\"beige\",\"below\":[{\"id\":\"1774\"}],\"center\":[{\"id\":\"1777\"},{\"id\":\"1781\"}],\"left\":[{\"id\":\"1778\"}],\"title\":{\"id\":\"1764\"},\"toolbar\":{\"id\":\"1789\"},\"x_range\":{\"id\":\"1766\"},\"x_scale\":{\"id\":\"1770\"},\"y_range\":{\"id\":\"1768\"},\"y_scale\":{\"id\":\"1772\"}},\"id\":\"1763\",\"subtype\":\"Figure\",\"type\":\"Plot\"},{\"attributes\":{\"overlay\":{\"id\":\"1788\"}},\"id\":\"1784\",\"type\":\"BoxZoomTool\"},{\"attributes\":{},\"id\":\"1787\",\"type\":\"HelpTool\"},{\"attributes\":{\"axis\":{\"id\":\"1774\"},\"ticker\":null},\"id\":\"1777\",\"type\":\"Grid\"},{\"attributes\":{},\"id\":\"1782\",\"type\":\"PanTool\"},{\"attributes\":{},\"id\":\"1772\",\"type\":\"LinearScale\"},{\"attributes\":{\"axis\":{\"id\":\"1778\"},\"dimension\":1,\"ticker\":null},\"id\":\"1781\",\"type\":\"Grid\"},{\"attributes\":{},\"id\":\"1786\",\"type\":\"ResetTool\"},{\"attributes\":{},\"id\":\"1779\",\"type\":\"BasicTicker\"},{\"attributes\":{},\"id\":\"1785\",\"type\":\"SaveTool\"},{\"attributes\":{\"axis_label\":\"r,fm\",\"formatter\":{\"id\":\"1850\"},\"ticker\":{\"id\":\"1775\"}},\"id\":\"1774\",\"type\":\"LinearAxis\"},{\"attributes\":{},\"id\":\"1775\",\"type\":\"BasicTicker\"},{\"attributes\":{\"axis_label\":\"E, Mev\",\"formatter\":{\"id\":\"1852\"},\"ticker\":{\"id\":\"1779\"}},\"id\":\"1778\",\"type\":\"LinearAxis\"},{\"attributes\":{},\"id\":\"1770\",\"type\":\"LinearScale\"},{\"attributes\":{\"end\":3,\"start\":-63.0},\"id\":\"1768\",\"type\":\"Range1d\"},{\"attributes\":{},\"id\":\"1766\",\"type\":\"DataRange1d\"},{\"attributes\":{\"text\":\"U_0 = 60 Mev\"},\"id\":\"1764\",\"type\":\"Title\"},{\"attributes\":{\"bottom_units\":\"screen\",\"fill_alpha\":0.5,\"fill_color\":\"lightgrey\",\"left_units\":\"screen\",\"level\":\"overlay\",\"line_alpha\":1.0,\"line_color\":\"black\",\"line_dash\":[4,4],\"line_width\":2,\"right_units\":\"screen\",\"top_units\":\"screen\"},\"id\":\"1788\",\"type\":\"BoxAnnotation\"},{\"attributes\":{\"active_drag\":\"auto\",\"active_inspect\":\"auto\",\"active_multi\":null,\"active_scroll\":\"auto\",\"active_tap\":\"auto\",\"tools\":[{\"id\":\"1782\"},{\"id\":\"1783\"},{\"id\":\"1784\"},{\"id\":\"1785\"},{\"id\":\"1786\"},{\"id\":\"1787\"}]},\"id\":\"1789\",\"type\":\"Toolbar\"},{\"attributes\":{},\"id\":\"1783\",\"type\":\"WheelZoomTool\"},{\"attributes\":{},\"id\":\"1850\",\"type\":\"BasicTickFormatter\"},{\"attributes\":{},\"id\":\"1852\",\"type\":\"BasicTickFormatter\"}],\"root_ids\":[\"1763\"]},\"title\":\"Bokeh Application\",\"version\":\"2.2.3\"}};\n  var render_items = [{\"docid\":\"663d7f17-9cad-4912-aff1-dcc9b07dc9ce\",\"root_ids\":[\"1763\"],\"roots\":{\"1763\":\"e356dd6a-b692-49ed-8be2-4098e9e4f6e8\"}}];\n  root.Bokeh.embed.embed_items_notebook(docs_json, render_items);\n\n  }\n  if (root.Bokeh !== undefined) {\n    embed_document(root);\n  } else {\n    var attempts = 0;\n    var timer = setInterval(function(root) {\n      if (root.Bokeh !== undefined) {\n        clearInterval(timer);\n        embed_document(root);\n      } else {\n        attempts++;\n        if (attempts > 100) {\n          clearInterval(timer);\n          console.log(\"Bokeh: ERROR: Unable to run BokehJS code because BokehJS library is missing\");\n        }\n      }\n    }, 10, root)\n  }\n})(window);",
          "application/vnd.bokehjs_exec.v0+json": ""
         },
         "metadata": {
          "application/vnd.bokehjs_exec.v0+json": {
           "id": "1763"
          }
         },
         "output_type": "display_data"
        }
       ]
      }
     },
     "bcbcd6477b434984839917013192bbb8": {
      "model_module": "@jupyter-widgets/controls",
      "model_module_version": "1.5.0",
      "model_name": "VBoxModel",
      "state": {
       "_dom_classes": [
        "widget-interact"
       ],
       "children": [
        "IPY_MODEL_2617e601c5d643f6979c6a8e5dddacca",
        "IPY_MODEL_7fe88ba922c045a59b22c4c366fbfddb",
        "IPY_MODEL_b867f35026e74371a9bf2e2ad5874691"
       ],
       "layout": "IPY_MODEL_171cd902e461417e8ee809046449fb1e"
      }
     },
     "bffceb382f6e47b3a25127b065ee19cb": {
      "model_module": "@jupyter-widgets/controls",
      "model_module_version": "1.5.0",
      "model_name": "VBoxModel",
      "state": {
       "_dom_classes": [
        "widget-interact"
       ],
       "children": [
        "IPY_MODEL_89645767cb5f4801849045b85173a4ac",
        "IPY_MODEL_392d16a1c7b44b9bbf180a4e7b11e5e4",
        "IPY_MODEL_1767b4f6ca7d4074b7e577833bbdd6e4",
        "IPY_MODEL_71f1e2792a334f55a5799ace13be94ff"
       ],
       "layout": "IPY_MODEL_fd455c4b07f942d3bd9be2279c9ce153"
      }
     },
     "c2fe0578a9c149d1b586f6f9c289ad9e": {
      "model_module": "@jupyter-widgets/controls",
      "model_module_version": "1.5.0",
      "model_name": "ButtonStyleModel",
      "state": {}
     },
     "c4a51296fb9a4e44b8cb346cff27b846": {
      "model_module": "@jupyter-widgets/controls",
      "model_module_version": "1.5.0",
      "model_name": "ButtonStyleModel",
      "state": {}
     },
     "c9c9a64e1af04aeebf66e12fe983b5a4": {
      "model_module": "@jupyter-widgets/base",
      "model_module_version": "1.2.0",
      "model_name": "LayoutModel",
      "state": {}
     },
     "cff43d2a239d4118b9d71eb7faf5646f": {
      "model_module": "@jupyter-widgets/controls",
      "model_module_version": "1.5.0",
      "model_name": "IntSliderModel",
      "state": {
       "description": "l",
       "layout": "IPY_MODEL_3c567b4bda34408bad2f81d4ed7db81e",
       "max": 5,
       "style": "IPY_MODEL_2875c39a000b4de3afbe905dbac20778",
       "value": 1
      }
     },
     "d003f96a65f24770bf57d05665333441": {
      "model_module": "@jupyter-widgets/base",
      "model_module_version": "1.2.0",
      "model_name": "LayoutModel",
      "state": {}
     },
     "d514b4b8fff544d0818423549c8f3eb2": {
      "model_module": "@jupyter-widgets/controls",
      "model_module_version": "1.5.0",
      "model_name": "ButtonStyleModel",
      "state": {}
     },
     "d53da8866bc945029042cf71c8109760": {
      "model_module": "@jupyter-widgets/base",
      "model_module_version": "1.2.0",
      "model_name": "LayoutModel",
      "state": {}
     },
     "db2df6bd13d84aadbf72bfb16833a4e2": {
      "model_module": "@jupyter-widgets/base",
      "model_module_version": "1.2.0",
      "model_name": "LayoutModel",
      "state": {}
     },
     "e3bf51c257f144b883bfb71f53f4e0e3": {
      "model_module": "@jupyter-widgets/controls",
      "model_module_version": "1.5.0",
      "model_name": "SliderStyleModel",
      "state": {
       "description_width": ""
      }
     },
     "e4449c9b30ad43b2841e2009fec07c44": {
      "model_module": "@jupyter-widgets/base",
      "model_module_version": "1.2.0",
      "model_name": "LayoutModel",
      "state": {}
     },
     "e62eed159d0747888e1fc0c55c955ea8": {
      "model_module": "@jupyter-widgets/controls",
      "model_module_version": "1.5.0",
      "model_name": "ButtonStyleModel",
      "state": {}
     },
     "f0de6f8991814557a33952166c897a99": {
      "model_module": "@jupyter-widgets/controls",
      "model_module_version": "1.5.0",
      "model_name": "VBoxModel",
      "state": {
       "_dom_classes": [
        "widget-interact"
       ],
       "children": [
        "IPY_MODEL_33d4fe4739764c99957cffbb9c9e1ce2",
        "IPY_MODEL_83a1f1d328254f0894145d406a44b018",
        "IPY_MODEL_64c65721bc754405b57331e34ae37d00"
       ],
       "layout": "IPY_MODEL_d003f96a65f24770bf57d05665333441"
      }
     },
     "f32800c4b2c64dae9fa155d14c0109a4": {
      "model_module": "@jupyter-widgets/controls",
      "model_module_version": "1.5.0",
      "model_name": "ButtonModel",
      "state": {
       "description": "Run Interact",
       "layout": "IPY_MODEL_04d6c8f22fcc4726bd0fe38edcb4e0d1",
       "style": "IPY_MODEL_6e61a261f1ce4e0eb1af4fbc8b34a622"
      }
     },
     "f4cd197d26dd40569f10000426f2ce35": {
      "model_module": "@jupyter-widgets/controls",
      "model_module_version": "1.5.0",
      "model_name": "ButtonStyleModel",
      "state": {}
     },
     "fd455c4b07f942d3bd9be2279c9ce153": {
      "model_module": "@jupyter-widgets/base",
      "model_module_version": "1.2.0",
      "model_name": "LayoutModel",
      "state": {}
     }
    },
    "version_major": 2,
    "version_minor": 0
   }
  }
 },
 "nbformat": 4,
 "nbformat_minor": 4
}
